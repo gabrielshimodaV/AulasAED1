{
  "cells": [
    {
      "cell_type": "markdown",
      "metadata": {
        "id": "OeVTO296eEoG"
      },
      "source": [
        "## <font color='blue'>Algorítmos e Estrutura de Dados I</font>\n",
        "### <font color='blue'>Aula 07 - Estrutura Sequencial</font>"
      ]
    },
    {
      "cell_type": "code",
      "execution_count": null,
      "metadata": {
        "id": "KbuIEqNVeEoM",
        "outputId": "a705d43f-a58a-42a1-e801-74d0189ce1bf"
      },
      "outputs": [
        {
          "name": "stdout",
          "output_type": "stream",
          "text": [
            "Versão da Linguagem Python Usada Neste Jupyter Notebook: 3.11.5\n"
          ]
        }
      ],
      "source": [
        "# Versão da Linguagem Python\n",
        "from platform import python_version\n",
        "print('Versão da Linguagem Python Usada Neste Jupyter Notebook:', python_version())"
      ]
    },
    {
      "cell_type": "markdown",
      "metadata": {
        "id": "6BALjpx4eEoQ"
      },
      "source": [
        "#### Pressione as teclas shift e enter para executar o código em uma célula ou pressione o botão Run no menu superior."
      ]
    },
    {
      "cell_type": "markdown",
      "metadata": {
        "id": "7VqRoXSZeEoR"
      },
      "source": [
        "## <font color='blue'>Recapitulando</font>"
      ]
    },
    {
      "cell_type": "markdown",
      "metadata": {
        "id": "DJe_yixheEoS"
      },
      "source": [
        "### Operações Aritméticas"
      ]
    },
    {
      "cell_type": "code",
      "execution_count": null,
      "metadata": {
        "id": "G5VJRwqOeEoS",
        "outputId": "ac91ce4d-e800-4cbf-ff14-11be85bf0a2a"
      },
      "outputs": [
        {
          "data": {
            "text/plain": [
              "8"
            ]
          },
          "execution_count": 2,
          "metadata": {},
          "output_type": "execute_result"
        }
      ],
      "source": [
        "# Soma\n",
        "4 + 4"
      ]
    },
    {
      "cell_type": "code",
      "execution_count": null,
      "metadata": {
        "id": "-aXAcEzEeEoT",
        "outputId": "cca9147c-7fee-49a8-c724-e7b541f90a82"
      },
      "outputs": [
        {
          "data": {
            "text/plain": [
              "1"
            ]
          },
          "execution_count": 3,
          "metadata": {},
          "output_type": "execute_result"
        }
      ],
      "source": [
        "# Subtração\n",
        "4 - 3"
      ]
    },
    {
      "cell_type": "code",
      "execution_count": null,
      "metadata": {
        "id": "IHhuRWSxeEoU",
        "outputId": "c4e9414e-cc37-4693-de29-280616a0fac3"
      },
      "outputs": [
        {
          "data": {
            "text/plain": [
              "9"
            ]
          },
          "execution_count": 4,
          "metadata": {},
          "output_type": "execute_result"
        }
      ],
      "source": [
        "# Multiplicação\n",
        "3 * 3"
      ]
    },
    {
      "cell_type": "code",
      "execution_count": null,
      "metadata": {
        "id": "PD6XditEeEoV",
        "outputId": "bbea15e7-2dea-4a7a-bab3-8e06f1486f32"
      },
      "outputs": [
        {
          "data": {
            "text/plain": [
              "1.5"
            ]
          },
          "execution_count": 5,
          "metadata": {},
          "output_type": "execute_result"
        }
      ],
      "source": [
        "# Divisão\n",
        "3 / 2"
      ]
    },
    {
      "cell_type": "code",
      "execution_count": null,
      "metadata": {
        "id": "kPhuZvaJeEoW",
        "outputId": "a464d9f6-bcc6-44af-8bd5-04b19938b0dd"
      },
      "outputs": [
        {
          "data": {
            "text/plain": [
              "16"
            ]
          },
          "execution_count": 6,
          "metadata": {},
          "output_type": "execute_result"
        }
      ],
      "source": [
        "# Potência\n",
        "4 ** 2"
      ]
    },
    {
      "cell_type": "code",
      "execution_count": null,
      "metadata": {
        "id": "xOQretX4eEoW",
        "outputId": "be2a36a8-091c-4ce7-e8be-42c72ba8659d"
      },
      "outputs": [
        {
          "data": {
            "text/plain": [
              "1"
            ]
          },
          "execution_count": 7,
          "metadata": {},
          "output_type": "execute_result"
        }
      ],
      "source": [
        "# Módulo\n",
        "10 % 3"
      ]
    },
    {
      "cell_type": "markdown",
      "metadata": {
        "id": "8VcHfzGHeEoX"
      },
      "source": [
        "### Função Type"
      ]
    },
    {
      "cell_type": "code",
      "execution_count": null,
      "metadata": {
        "id": "vslk6X3leEoY",
        "outputId": "89d1e710-fc23-4b9e-aaf6-c1cad3cd26fc"
      },
      "outputs": [
        {
          "data": {
            "text/plain": [
              "int"
            ]
          },
          "execution_count": 8,
          "metadata": {},
          "output_type": "execute_result"
        }
      ],
      "source": [
        "type(5)"
      ]
    },
    {
      "cell_type": "code",
      "execution_count": null,
      "metadata": {
        "id": "4UCBMpkCeEoZ",
        "outputId": "779e8812-1f2e-4fab-e63a-269f8ec57677"
      },
      "outputs": [
        {
          "data": {
            "text/plain": [
              "float"
            ]
          },
          "execution_count": 9,
          "metadata": {},
          "output_type": "execute_result"
        }
      ],
      "source": [
        "type(5.0)"
      ]
    },
    {
      "cell_type": "code",
      "execution_count": null,
      "metadata": {
        "id": "LhNfR-L8eEoa",
        "outputId": "d757e59d-26d0-4984-af66-ce405fbeafc5"
      },
      "outputs": [
        {
          "data": {
            "text/plain": [
              "str"
            ]
          },
          "execution_count": 10,
          "metadata": {},
          "output_type": "execute_result"
        }
      ],
      "source": [
        "a = 'Estou estudando na Data Science Academy'\n",
        "type(a)"
      ]
    },
    {
      "cell_type": "markdown",
      "metadata": {
        "id": "qbuUz3g6eEob"
      },
      "source": [
        "### Operações com Números Float"
      ]
    },
    {
      "cell_type": "code",
      "execution_count": null,
      "metadata": {
        "id": "fFNcri4LeEob",
        "outputId": "450ea70a-b40e-498e-d782-8bb10eb21943"
      },
      "outputs": [
        {
          "data": {
            "text/plain": [
              "9.5"
            ]
          },
          "execution_count": 11,
          "metadata": {},
          "output_type": "execute_result"
        }
      ],
      "source": [
        "3.1 + 6.4"
      ]
    },
    {
      "cell_type": "code",
      "execution_count": null,
      "metadata": {
        "id": "d_ogFU_1eEoc",
        "outputId": "a8d55df5-0dc1-4330-82de-27331bc54faf"
      },
      "outputs": [
        {
          "data": {
            "text/plain": [
              "8.0"
            ]
          },
          "execution_count": 12,
          "metadata": {},
          "output_type": "execute_result"
        }
      ],
      "source": [
        "4 + 4.0"
      ]
    },
    {
      "cell_type": "code",
      "execution_count": null,
      "metadata": {
        "id": "bahOL3-oeEod",
        "outputId": "78f77391-c2da-4f91-e9a4-23dad953bd04"
      },
      "outputs": [
        {
          "data": {
            "text/plain": [
              "8"
            ]
          },
          "execution_count": 13,
          "metadata": {},
          "output_type": "execute_result"
        }
      ],
      "source": [
        "4 + 4"
      ]
    },
    {
      "cell_type": "code",
      "execution_count": null,
      "metadata": {
        "id": "ocH2f-BMeEod",
        "outputId": "faa6f2aa-658d-4f10-a717-f63091938291"
      },
      "outputs": [
        {
          "data": {
            "text/plain": [
              "2.0"
            ]
          },
          "execution_count": 14,
          "metadata": {},
          "output_type": "execute_result"
        }
      ],
      "source": [
        "# Resultado é um número float\n",
        "4 / 2"
      ]
    },
    {
      "cell_type": "code",
      "execution_count": null,
      "metadata": {
        "id": "7U-nzmj5eEoe",
        "outputId": "a7c72207-0d32-4caf-ce5c-d1bee6586030"
      },
      "outputs": [
        {
          "data": {
            "text/plain": [
              "2"
            ]
          },
          "execution_count": 15,
          "metadata": {},
          "output_type": "execute_result"
        }
      ],
      "source": [
        "# Resultado é um número inteiro\n",
        "4 // 2"
      ]
    },
    {
      "cell_type": "code",
      "execution_count": null,
      "metadata": {
        "id": "XfdDAlpgeEof",
        "outputId": "27fa5376-358d-4668-ac1b-4083e74298e4"
      },
      "outputs": [
        {
          "data": {
            "text/plain": [
              "1.3333333333333333"
            ]
          },
          "execution_count": 16,
          "metadata": {},
          "output_type": "execute_result"
        }
      ],
      "source": [
        "4 / 3.0"
      ]
    },
    {
      "cell_type": "code",
      "execution_count": null,
      "metadata": {
        "id": "a17S2ZRPeEof",
        "outputId": "8a859327-0260-4fe2-b190-4f820ee25d1f"
      },
      "outputs": [
        {
          "data": {
            "text/plain": [
              "1.0"
            ]
          },
          "execution_count": 17,
          "metadata": {},
          "output_type": "execute_result"
        }
      ],
      "source": [
        "4 // 3.0"
      ]
    },
    {
      "cell_type": "markdown",
      "metadata": {
        "id": "-f0hDk45eEog"
      },
      "source": [
        "### Conversão"
      ]
    },
    {
      "cell_type": "code",
      "execution_count": null,
      "metadata": {
        "id": "2INvnIJKeEog",
        "outputId": "4a47cafa-0466-4845-9bd9-6ab370414e96"
      },
      "outputs": [
        {
          "data": {
            "text/plain": [
              "9.0"
            ]
          },
          "execution_count": 18,
          "metadata": {},
          "output_type": "execute_result"
        }
      ],
      "source": [
        "float(9)"
      ]
    },
    {
      "cell_type": "code",
      "execution_count": null,
      "metadata": {
        "id": "ZxFWqAbPeEoh",
        "outputId": "fcf9bd9d-df31-4962-b3ee-aad41f9e7ed4"
      },
      "outputs": [
        {
          "data": {
            "text/plain": [
              "6"
            ]
          },
          "execution_count": 19,
          "metadata": {},
          "output_type": "execute_result"
        }
      ],
      "source": [
        "int(6.0)"
      ]
    },
    {
      "cell_type": "code",
      "execution_count": null,
      "metadata": {
        "id": "wlDf4tcneEoi",
        "outputId": "f5ce4bed-7710-497b-a39a-598669eeb6b3"
      },
      "outputs": [
        {
          "data": {
            "text/plain": [
              "6"
            ]
          },
          "execution_count": 20,
          "metadata": {},
          "output_type": "execute_result"
        }
      ],
      "source": [
        "int(6.5)"
      ]
    },
    {
      "cell_type": "code",
      "execution_count": null,
      "metadata": {
        "id": "feJeX7fSeEoi",
        "outputId": "1fadc0e0-8a17-4961-a90f-0920da87fb8f"
      },
      "outputs": [
        {
          "data": {
            "text/plain": [
              "6"
            ]
          },
          "execution_count": 21,
          "metadata": {},
          "output_type": "execute_result"
        }
      ],
      "source": [
        "int(6.6)"
      ]
    },
    {
      "cell_type": "code",
      "execution_count": null,
      "metadata": {
        "id": "0KsW-F9EeEoj",
        "outputId": "aed12043-42f1-49df-880b-e76796d164d1"
      },
      "outputs": [
        {
          "data": {
            "text/plain": [
              "6"
            ]
          },
          "execution_count": 22,
          "metadata": {},
          "output_type": "execute_result"
        }
      ],
      "source": [
        "round(6.5)"
      ]
    },
    {
      "cell_type": "code",
      "execution_count": null,
      "metadata": {
        "id": "I1A2xGO2eEoj",
        "outputId": "cc3ae37c-670e-47c9-e72d-ba46248c3b8a"
      },
      "outputs": [
        {
          "data": {
            "text/plain": [
              "7"
            ]
          },
          "execution_count": 23,
          "metadata": {},
          "output_type": "execute_result"
        }
      ],
      "source": [
        "round(6.6)"
      ]
    },
    {
      "cell_type": "markdown",
      "metadata": {
        "id": "N2sUAQ-8eEok"
      },
      "source": [
        "### Hexadecimal e Binário"
      ]
    },
    {
      "cell_type": "code",
      "execution_count": null,
      "metadata": {
        "id": "NhdNb13peEok",
        "outputId": "15878999-cac1-4eac-85e5-da2c52ff3488"
      },
      "outputs": [
        {
          "data": {
            "text/plain": [
              "'0x18a'"
            ]
          },
          "execution_count": 24,
          "metadata": {},
          "output_type": "execute_result"
        }
      ],
      "source": [
        "hex(394)"
      ]
    },
    {
      "cell_type": "code",
      "execution_count": null,
      "metadata": {
        "id": "BD6zZj_MeEol",
        "outputId": "0b49e6ba-05c4-4a0f-82f8-fd2d22e70f9a"
      },
      "outputs": [
        {
          "data": {
            "text/plain": [
              "'0xd9'"
            ]
          },
          "execution_count": 25,
          "metadata": {},
          "output_type": "execute_result"
        }
      ],
      "source": [
        "hex(217)"
      ]
    },
    {
      "cell_type": "code",
      "execution_count": null,
      "metadata": {
        "id": "pXybgkw-eEom",
        "outputId": "bcbac6eb-8ed5-4a59-d3e5-ac212f7cb24e"
      },
      "outputs": [
        {
          "data": {
            "text/plain": [
              "'0b100011110'"
            ]
          },
          "execution_count": 26,
          "metadata": {},
          "output_type": "execute_result"
        }
      ],
      "source": [
        "bin(286)"
      ]
    },
    {
      "cell_type": "code",
      "execution_count": null,
      "metadata": {
        "id": "gP1Y7IGweEom",
        "outputId": "8249563d-1608-4060-9b70-31d0bf138114"
      },
      "outputs": [
        {
          "data": {
            "text/plain": [
              "'0b110000110'"
            ]
          },
          "execution_count": 27,
          "metadata": {},
          "output_type": "execute_result"
        }
      ],
      "source": [
        "bin(390)"
      ]
    },
    {
      "cell_type": "markdown",
      "metadata": {
        "id": "i4rnfmLseEon"
      },
      "source": [
        "### Funções abs, round e pow"
      ]
    },
    {
      "cell_type": "code",
      "execution_count": null,
      "metadata": {
        "id": "LY5qKk7UeEon",
        "outputId": "2375867e-913f-46fa-da07-6c4a45e27962"
      },
      "outputs": [
        {
          "data": {
            "text/plain": [
              "8"
            ]
          },
          "execution_count": 28,
          "metadata": {},
          "output_type": "execute_result"
        }
      ],
      "source": [
        "# Retorna o valor absoluto\n",
        "abs(-8)"
      ]
    },
    {
      "cell_type": "code",
      "execution_count": null,
      "metadata": {
        "id": "TbuvGD-3eEoo",
        "outputId": "b5ad4d4e-a335-436a-eb18-e020c4337321"
      },
      "outputs": [
        {
          "data": {
            "text/plain": [
              "8"
            ]
          },
          "execution_count": 29,
          "metadata": {},
          "output_type": "execute_result"
        }
      ],
      "source": [
        "# Retorna o valor absoluto\n",
        "abs(8)"
      ]
    },
    {
      "cell_type": "code",
      "execution_count": null,
      "metadata": {
        "id": "fg2WfIhteEoo",
        "outputId": "aff12f03-54b3-4c4a-abc8-0e9f2f183955"
      },
      "outputs": [
        {
          "data": {
            "text/plain": [
              "3.14"
            ]
          },
          "execution_count": 30,
          "metadata": {},
          "output_type": "execute_result"
        }
      ],
      "source": [
        "# Retorna o valor com duas casas decimais\n",
        "round(3.14151922, 2)"
      ]
    },
    {
      "cell_type": "code",
      "execution_count": null,
      "metadata": {
        "id": "z8zrZU8IeEpL",
        "outputId": "2da97b84-a6d1-4c10-d38e-5b35fd457d30"
      },
      "outputs": [
        {
          "data": {
            "text/plain": [
              "16"
            ]
          },
          "execution_count": 31,
          "metadata": {},
          "output_type": "execute_result"
        }
      ],
      "source": [
        "# Potência\n",
        "pow(4,2)"
      ]
    },
    {
      "cell_type": "code",
      "execution_count": null,
      "metadata": {
        "id": "VgoRZmJveEpL",
        "outputId": "80f3bc1d-b4a2-4bac-b49b-60bfdb88b0d0"
      },
      "outputs": [
        {
          "data": {
            "text/plain": [
              "125"
            ]
          },
          "execution_count": 32,
          "metadata": {},
          "output_type": "execute_result"
        }
      ],
      "source": [
        "# Potência\n",
        "pow(5,3)"
      ]
    },
    {
      "cell_type": "markdown",
      "metadata": {
        "id": "XEXUv-25eEpM"
      },
      "source": [
        "### Trabalhando com Variáveis"
      ]
    },
    {
      "cell_type": "code",
      "execution_count": null,
      "metadata": {
        "id": "meJVRNbfeEpM"
      },
      "outputs": [],
      "source": [
        "# Atribuindo o valor 1 à variável var_teste\n",
        "var_teste = 1"
      ]
    },
    {
      "cell_type": "code",
      "execution_count": null,
      "metadata": {
        "id": "PhXT023ieEpN",
        "outputId": "1e802a62-55fc-40a6-d72b-81aa82b24cd6"
      },
      "outputs": [
        {
          "data": {
            "text/plain": [
              "1"
            ]
          },
          "execution_count": 34,
          "metadata": {},
          "output_type": "execute_result"
        }
      ],
      "source": [
        "# Imprimindo o valor da variável\n",
        "var_teste"
      ]
    },
    {
      "cell_type": "code",
      "execution_count": null,
      "metadata": {
        "id": "MwAAl-yReEpN",
        "outputId": "867d591a-da72-48bf-da51-fc8417b10ff6"
      },
      "outputs": [
        {
          "name": "stdout",
          "output_type": "stream",
          "text": [
            "1\n"
          ]
        }
      ],
      "source": [
        "# Imprimindo o valor da variável\n",
        "print(var_teste)"
      ]
    },
    {
      "cell_type": "code",
      "execution_count": null,
      "metadata": {
        "id": "RId_0hMBeEpO",
        "outputId": "46bf521c-fd39-4b74-b254-76e7352bd923"
      },
      "outputs": [
        {
          "ename": "NameError",
          "evalue": "name 'my_var' is not defined",
          "output_type": "error",
          "traceback": [
            "\u001b[1;31m---------------------------------------------------------------------------\u001b[0m",
            "\u001b[1;31mNameError\u001b[0m                                 Traceback (most recent call last)",
            "Cell \u001b[1;32mIn[36], line 2\u001b[0m\n\u001b[0;32m      1\u001b[0m \u001b[38;5;66;03m# Não podemos utilizar uma variável que não foi definida. Leia a mensagem de erro.\u001b[39;00m\n\u001b[1;32m----> 2\u001b[0m my_var\n",
            "\u001b[1;31mNameError\u001b[0m: name 'my_var' is not defined"
          ]
        }
      ],
      "source": [
        "# Não podemos utilizar uma variável que não foi definida. Leia a mensagem de erro.\n",
        "my_var"
      ]
    },
    {
      "cell_type": "code",
      "execution_count": null,
      "metadata": {
        "id": "syc3oZN3eEpO"
      },
      "outputs": [],
      "source": [
        "var_teste = 2"
      ]
    },
    {
      "cell_type": "code",
      "execution_count": null,
      "metadata": {
        "id": "cCNCy7aneEpP",
        "outputId": "3dfd62f0-e8de-431f-ca2b-d26267b8cc53"
      },
      "outputs": [
        {
          "data": {
            "text/plain": [
              "2"
            ]
          },
          "execution_count": 39,
          "metadata": {},
          "output_type": "execute_result"
        }
      ],
      "source": [
        "var_teste"
      ]
    },
    {
      "cell_type": "code",
      "execution_count": null,
      "metadata": {
        "id": "ayKgb5xdeEpP",
        "outputId": "4cfeae84-7aae-4d14-b296-8daf8d3ccc79"
      },
      "outputs": [
        {
          "data": {
            "text/plain": [
              "int"
            ]
          },
          "execution_count": 40,
          "metadata": {},
          "output_type": "execute_result"
        }
      ],
      "source": [
        "type(var_teste)"
      ]
    },
    {
      "cell_type": "code",
      "execution_count": null,
      "metadata": {
        "id": "lT-VofkyeEpP"
      },
      "outputs": [],
      "source": [
        "var_teste = 9.5"
      ]
    },
    {
      "cell_type": "code",
      "execution_count": null,
      "metadata": {
        "id": "bEFIZb6geEpQ",
        "outputId": "1994e891-c24f-4821-8f8f-6764ea1ff944"
      },
      "outputs": [
        {
          "data": {
            "text/plain": [
              "float"
            ]
          },
          "execution_count": 42,
          "metadata": {},
          "output_type": "execute_result"
        }
      ],
      "source": [
        "type(var_teste)"
      ]
    },
    {
      "cell_type": "code",
      "execution_count": null,
      "metadata": {
        "id": "lk8Ojjg2eEpQ"
      },
      "outputs": [],
      "source": [
        "x = 1"
      ]
    },
    {
      "cell_type": "code",
      "execution_count": null,
      "metadata": {
        "id": "gtqiwUA7eEpR",
        "outputId": "023bf57d-a9c1-475c-f4c7-005ab67b40b4"
      },
      "outputs": [
        {
          "data": {
            "text/plain": [
              "1"
            ]
          },
          "execution_count": 44,
          "metadata": {},
          "output_type": "execute_result"
        }
      ],
      "source": [
        "x"
      ]
    },
    {
      "cell_type": "markdown",
      "metadata": {
        "id": "qJlH0Hb1eEpR"
      },
      "source": [
        "### Declaração Múltipla"
      ]
    },
    {
      "cell_type": "code",
      "execution_count": null,
      "metadata": {
        "id": "lYLm9fOeeEpS"
      },
      "outputs": [],
      "source": [
        "pessoa1, pessoa2, pessoa3 = \"Bob\", \"Maria\", \"Ana\""
      ]
    },
    {
      "cell_type": "code",
      "execution_count": null,
      "metadata": {
        "id": "OYZENdv6eEpS",
        "outputId": "e37872a6-8b00-4dd6-eda0-bde27b526df3"
      },
      "outputs": [
        {
          "data": {
            "text/plain": [
              "'Bob'"
            ]
          },
          "execution_count": 46,
          "metadata": {},
          "output_type": "execute_result"
        }
      ],
      "source": [
        "pessoa1"
      ]
    },
    {
      "cell_type": "code",
      "execution_count": null,
      "metadata": {
        "id": "bQqq6OzIeEpS",
        "outputId": "b54e00da-2586-4809-a068-e849f066f017"
      },
      "outputs": [
        {
          "data": {
            "text/plain": [
              "'Maria'"
            ]
          },
          "execution_count": 47,
          "metadata": {},
          "output_type": "execute_result"
        }
      ],
      "source": [
        "pessoa2"
      ]
    },
    {
      "cell_type": "code",
      "execution_count": null,
      "metadata": {
        "id": "LursvxZ-eEpT",
        "outputId": "39a8c476-82b9-4a48-8e52-3e017cb83922"
      },
      "outputs": [
        {
          "data": {
            "text/plain": [
              "'Ana'"
            ]
          },
          "execution_count": 48,
          "metadata": {},
          "output_type": "execute_result"
        }
      ],
      "source": [
        "pessoa3"
      ]
    },
    {
      "cell_type": "code",
      "execution_count": null,
      "metadata": {
        "id": "_52AFRYYeEpT"
      },
      "outputs": [],
      "source": [
        "fruta1 = fruta2 = fruta3 = \"Melancia\""
      ]
    },
    {
      "cell_type": "code",
      "execution_count": null,
      "metadata": {
        "id": "DVtL5MFleEpT",
        "outputId": "9127d6d0-6576-4745-e305-3805c32bf677"
      },
      "outputs": [
        {
          "data": {
            "text/plain": [
              "'Melancia'"
            ]
          },
          "execution_count": 50,
          "metadata": {},
          "output_type": "execute_result"
        }
      ],
      "source": [
        "fruta1"
      ]
    },
    {
      "cell_type": "code",
      "execution_count": null,
      "metadata": {
        "id": "Hj4dde70eEpU",
        "outputId": "1c3e5a28-d7f8-477e-d28f-6a580ffa6ff5"
      },
      "outputs": [
        {
          "data": {
            "text/plain": [
              "'Melancia'"
            ]
          },
          "execution_count": 51,
          "metadata": {},
          "output_type": "execute_result"
        }
      ],
      "source": [
        "fruta2"
      ]
    },
    {
      "cell_type": "code",
      "execution_count": null,
      "metadata": {
        "id": "V4lXTn23eEpU",
        "outputId": "d8aec05f-e927-41bf-8107-a16e81aa6061"
      },
      "outputs": [
        {
          "data": {
            "text/plain": [
              "'Melancia'"
            ]
          },
          "execution_count": 52,
          "metadata": {},
          "output_type": "execute_result"
        }
      ],
      "source": [
        "fruta3"
      ]
    },
    {
      "cell_type": "code",
      "execution_count": null,
      "metadata": {
        "id": "RcKAf9ajeEpU",
        "outputId": "dc1398a7-ad00-4edd-e27a-6b74b6ad62d3"
      },
      "outputs": [
        {
          "ename": "NameError",
          "evalue": "name 'Fruta2' is not defined",
          "output_type": "error",
          "traceback": [
            "\u001b[1;31m---------------------------------------------------------------------------\u001b[0m",
            "\u001b[1;31mNameError\u001b[0m                                 Traceback (most recent call last)",
            "Cell \u001b[1;32mIn[53], line 3\u001b[0m\n\u001b[0;32m      1\u001b[0m \u001b[38;5;66;03m# Fique atento!!! Python é case-sensitive. Criamos a variável fruta2, mas não a variável Fruta2.\u001b[39;00m\n\u001b[0;32m      2\u001b[0m \u001b[38;5;66;03m# Letras maiúsculas e minúsculas tem diferença no nome da variável.\u001b[39;00m\n\u001b[1;32m----> 3\u001b[0m Fruta2\n",
            "\u001b[1;31mNameError\u001b[0m: name 'Fruta2' is not defined"
          ]
        }
      ],
      "source": [
        "# Fique atento!!! Python é case-sensitive. Criamos a variável fruta2, mas não a variável Fruta2.\n",
        "# Letras maiúsculas e minúsculas tem diferença no nome da variável.\n",
        "Fruta2"
      ]
    },
    {
      "cell_type": "markdown",
      "metadata": {
        "id": "7K2W-m9feEpV"
      },
      "source": [
        "> Pode-se usar letras, números e underline em nome de variável (mas não se pode começar com números)."
      ]
    },
    {
      "cell_type": "code",
      "execution_count": null,
      "metadata": {
        "id": "BATDQsnUeEpV"
      },
      "outputs": [],
      "source": [
        "x1 = 50"
      ]
    },
    {
      "cell_type": "code",
      "execution_count": null,
      "metadata": {
        "id": "p3WQ3B9oeEpV",
        "outputId": "9b71263d-030f-46d3-e10f-05c09c562176"
      },
      "outputs": [
        {
          "data": {
            "text/plain": [
              "50"
            ]
          },
          "execution_count": 55,
          "metadata": {},
          "output_type": "execute_result"
        }
      ],
      "source": [
        "x1"
      ]
    },
    {
      "cell_type": "code",
      "execution_count": null,
      "metadata": {
        "id": "U9ESlm2feEpW",
        "outputId": "172509a6-29ef-4597-b86b-3ee114f8d74e"
      },
      "outputs": [
        {
          "ename": "SyntaxError",
          "evalue": "invalid decimal literal (319158066.py, line 2)",
          "output_type": "error",
          "traceback": [
            "\u001b[1;36m  Cell \u001b[1;32mIn[56], line 2\u001b[1;36m\u001b[0m\n\u001b[1;33m    1x = 50\u001b[0m\n\u001b[1;37m    ^\u001b[0m\n\u001b[1;31mSyntaxError\u001b[0m\u001b[1;31m:\u001b[0m invalid decimal literal\n"
          ]
        }
      ],
      "source": [
        "# Mensagem de erro, pois a linguagem Python não permite nomes de variáveis que iniciem com números\n",
        "1x = 50"
      ]
    },
    {
      "cell_type": "markdown",
      "metadata": {
        "id": "8WlVtbeceEpW"
      },
      "source": [
        "> Não se pode usar palavras reservadas como nome de variável\n",
        "\n",
        "- False      \n",
        "- class      \n",
        "- finally    \n",
        "- is         \n",
        "- return\n",
        "- None       \n",
        "- continue   \n",
        "- for        \n",
        "- lambda     \n",
        "- try\n",
        "- True       \n",
        "- def        \n",
        "- from       \n",
        "- nonlocal   \n",
        "- while\n",
        "- and        \n",
        "- del        \n",
        "- global     \n",
        "- not        \n",
        "- with\n",
        "- as         \n",
        "- elif       \n",
        "- if         \n",
        "- or         \n",
        "- yield\n",
        "- assert     \n",
        "- else       \n",
        "- import     \n",
        "- pass\n",
        "- break      \n",
        "- except     \n",
        "- in         \n",
        "- raise"
      ]
    },
    {
      "cell_type": "code",
      "execution_count": null,
      "metadata": {
        "id": "kZLCjAqPeEpW",
        "outputId": "efa05f02-15aa-4dd1-a58a-73ff4225b62a"
      },
      "outputs": [
        {
          "ename": "SyntaxError",
          "evalue": "invalid syntax (103517557.py, line 2)",
          "output_type": "error",
          "traceback": [
            "\u001b[1;36m  Cell \u001b[1;32mIn[57], line 2\u001b[1;36m\u001b[0m\n\u001b[1;33m    break = 1\u001b[0m\n\u001b[1;37m          ^\u001b[0m\n\u001b[1;31mSyntaxError\u001b[0m\u001b[1;31m:\u001b[0m invalid syntax\n"
          ]
        }
      ],
      "source": [
        "# Não podemos usar palavras reservadas como nome de variável\n",
        "break = 1"
      ]
    },
    {
      "cell_type": "markdown",
      "metadata": {
        "id": "hi084EhDeEpX"
      },
      "source": [
        "### Variáveis Atribuídas a Outras Variáveis e Ordem dos Operadores"
      ]
    },
    {
      "cell_type": "code",
      "execution_count": null,
      "metadata": {
        "id": "G7fY65k7eEpX"
      },
      "outputs": [],
      "source": [
        "largura = 2"
      ]
    },
    {
      "cell_type": "code",
      "execution_count": null,
      "metadata": {
        "id": "g_E57eSHeEpX"
      },
      "outputs": [],
      "source": [
        "altura = 4"
      ]
    },
    {
      "cell_type": "code",
      "execution_count": null,
      "metadata": {
        "id": "sfnRoPyueEpY"
      },
      "outputs": [],
      "source": [
        "area = largura * altura"
      ]
    },
    {
      "cell_type": "code",
      "execution_count": null,
      "metadata": {
        "id": "1dSGVFXceEpY",
        "outputId": "16144edf-782f-4746-997e-d7ba1049802c"
      },
      "outputs": [
        {
          "data": {
            "text/plain": [
              "8"
            ]
          },
          "execution_count": 61,
          "metadata": {},
          "output_type": "execute_result"
        }
      ],
      "source": [
        "area"
      ]
    },
    {
      "cell_type": "code",
      "execution_count": null,
      "metadata": {
        "id": "J3OmwSrFeEpY"
      },
      "outputs": [],
      "source": [
        "perimetro = 2 * largura + 2 * altura"
      ]
    },
    {
      "cell_type": "code",
      "execution_count": null,
      "metadata": {
        "id": "3J-Je1J8eEpZ",
        "outputId": "a8dc6b8d-a043-44fe-876a-ee6b03153848"
      },
      "outputs": [
        {
          "data": {
            "text/plain": [
              "12"
            ]
          },
          "execution_count": 63,
          "metadata": {},
          "output_type": "execute_result"
        }
      ],
      "source": [
        "perimetro"
      ]
    },
    {
      "cell_type": "code",
      "execution_count": null,
      "metadata": {
        "id": "KZOWPiCDeEpZ"
      },
      "outputs": [],
      "source": [
        "# A ordem dos operadores é a mesma seguida na Matemática\n",
        "perimetro = 2 * (largura + 2)  * altura"
      ]
    },
    {
      "cell_type": "code",
      "execution_count": null,
      "metadata": {
        "id": "tkZ6jApVeEpZ",
        "outputId": "4c378b4d-2646-4886-f138-fec897136239"
      },
      "outputs": [
        {
          "data": {
            "text/plain": [
              "32"
            ]
          },
          "execution_count": 65,
          "metadata": {},
          "output_type": "execute_result"
        }
      ],
      "source": [
        "perimetro"
      ]
    },
    {
      "cell_type": "markdown",
      "metadata": {
        "id": "P0RpVq39eEpa"
      },
      "source": [
        "### Operações com Variáveis"
      ]
    },
    {
      "cell_type": "code",
      "execution_count": null,
      "metadata": {
        "id": "KNJV-tizeEpa"
      },
      "outputs": [],
      "source": [
        "idade1 = 25"
      ]
    },
    {
      "cell_type": "code",
      "execution_count": null,
      "metadata": {
        "id": "dx9rU_XQeEpa"
      },
      "outputs": [],
      "source": [
        "idade2 = 35"
      ]
    },
    {
      "cell_type": "code",
      "execution_count": null,
      "metadata": {
        "id": "i2yr5Tn_eEpb",
        "outputId": "2f546672-d0fc-4ab8-a115-d7e4d3ec9fef"
      },
      "outputs": [
        {
          "data": {
            "text/plain": [
              "60"
            ]
          },
          "execution_count": 68,
          "metadata": {},
          "output_type": "execute_result"
        }
      ],
      "source": [
        "idade1 + idade2"
      ]
    },
    {
      "cell_type": "code",
      "execution_count": null,
      "metadata": {
        "id": "pRBizNBpeEpb",
        "outputId": "48b27b57-e352-4fef-dedf-ed0c3a9f264c"
      },
      "outputs": [
        {
          "data": {
            "text/plain": [
              "10"
            ]
          },
          "execution_count": 69,
          "metadata": {},
          "output_type": "execute_result"
        }
      ],
      "source": [
        "idade2 - idade1"
      ]
    },
    {
      "cell_type": "code",
      "execution_count": null,
      "metadata": {
        "id": "6WBiKf2GeEpb",
        "outputId": "de9440e5-629b-4301-9bec-990f3e8f1aa0"
      },
      "outputs": [
        {
          "data": {
            "text/plain": [
              "875"
            ]
          },
          "execution_count": 70,
          "metadata": {},
          "output_type": "execute_result"
        }
      ],
      "source": [
        "idade2 * idade1"
      ]
    },
    {
      "cell_type": "code",
      "execution_count": null,
      "metadata": {
        "id": "AJb9DZzFeEpc",
        "outputId": "d43f69e6-7bea-433d-fd8a-ea0f5111afbb"
      },
      "outputs": [
        {
          "data": {
            "text/plain": [
              "1.4"
            ]
          },
          "execution_count": 71,
          "metadata": {},
          "output_type": "execute_result"
        }
      ],
      "source": [
        "idade2 / idade1"
      ]
    },
    {
      "cell_type": "code",
      "execution_count": null,
      "metadata": {
        "id": "PqqB31eZeEpc",
        "outputId": "b6d13eb7-bf22-4e3a-fdcd-de1fa4d68e88"
      },
      "outputs": [
        {
          "data": {
            "text/plain": [
              "10"
            ]
          },
          "execution_count": 72,
          "metadata": {},
          "output_type": "execute_result"
        }
      ],
      "source": [
        "idade2 % idade1"
      ]
    },
    {
      "cell_type": "markdown",
      "metadata": {
        "id": "GMdNDc8feEpc"
      },
      "source": [
        "### Concatenação de Variáveis"
      ]
    },
    {
      "cell_type": "code",
      "execution_count": null,
      "metadata": {
        "id": "hv80vrmWeEpc"
      },
      "outputs": [],
      "source": [
        "nome = \"Bob\""
      ]
    },
    {
      "cell_type": "code",
      "execution_count": null,
      "metadata": {
        "id": "tZUl1EWmeEpc"
      },
      "outputs": [],
      "source": [
        "sobrenome = \"Marley\""
      ]
    },
    {
      "cell_type": "code",
      "execution_count": null,
      "metadata": {
        "id": "kkNEf_XGeEpd"
      },
      "outputs": [],
      "source": [
        "fullName = nome + \" \" + sobrenome"
      ]
    },
    {
      "cell_type": "code",
      "execution_count": null,
      "metadata": {
        "id": "D53wEuQpeEpd",
        "outputId": "a3612f0c-f804-449f-c5bb-dd841834d8c5"
      },
      "outputs": [
        {
          "data": {
            "text/plain": [
              "'Bob Marley'"
            ]
          },
          "execution_count": 76,
          "metadata": {},
          "output_type": "execute_result"
        }
      ],
      "source": [
        "fullName"
      ]
    },
    {
      "cell_type": "code",
      "execution_count": null,
      "metadata": {
        "id": "eYuuc2VAeEpd"
      },
      "outputs": [],
      "source": []
    },
    {
      "cell_type": "markdown",
      "metadata": {
        "id": "RESWxOR4eEpd"
      },
      "source": [
        "### Criando uma String\n",
        "\n",
        "Para criar uma string em Python você pode usar aspas simples ou duplas. Por exemplo:"
      ]
    },
    {
      "cell_type": "code",
      "execution_count": null,
      "metadata": {
        "id": "8x399G-feEpe",
        "outputId": "d328fc13-dd29-46ed-a471-b63d8f76f533"
      },
      "outputs": [
        {
          "data": {
            "text/plain": [
              "'Oi'"
            ]
          },
          "execution_count": 77,
          "metadata": {},
          "output_type": "execute_result"
        }
      ],
      "source": [
        "# Uma única palavra\n",
        "'Oi'"
      ]
    },
    {
      "cell_type": "code",
      "execution_count": null,
      "metadata": {
        "id": "Ix_-q6f4eEpe",
        "outputId": "f049aa51-1898-4c26-ee96-3e54fcd25175"
      },
      "outputs": [
        {
          "data": {
            "text/plain": [
              "'Criando uma string em Python'"
            ]
          },
          "execution_count": 78,
          "metadata": {},
          "output_type": "execute_result"
        }
      ],
      "source": [
        "# Uma frase\n",
        "'Criando uma string em Python'"
      ]
    },
    {
      "cell_type": "code",
      "execution_count": null,
      "metadata": {
        "id": "fnIhiNZheEpe",
        "outputId": "d854f8df-1cc6-4d44-9822-ce8c548bbb79"
      },
      "outputs": [
        {
          "data": {
            "text/plain": [
              "'Podemos usar aspas duplas ou simples para strings em Python'"
            ]
          },
          "execution_count": 79,
          "metadata": {},
          "output_type": "execute_result"
        }
      ],
      "source": [
        "# Podemos usar aspas duplas\n",
        "\"Podemos usar aspas duplas ou simples para strings em Python\""
      ]
    },
    {
      "cell_type": "code",
      "execution_count": null,
      "metadata": {
        "id": "HOwTT6uneEpe",
        "outputId": "738adab1-dc4c-4660-87d1-2fcb5f118bec"
      },
      "outputs": [
        {
          "data": {
            "text/plain": [
              "\"Testando strings em 'Python'\""
            ]
          },
          "execution_count": 80,
          "metadata": {},
          "output_type": "execute_result"
        }
      ],
      "source": [
        "# Você pode combinar aspas duplas e simples\n",
        "\"Testando strings em 'Python'\""
      ]
    },
    {
      "cell_type": "markdown",
      "metadata": {
        "id": "wbDga0ZUeEpf"
      },
      "source": [
        "### Imprimindo uma String"
      ]
    },
    {
      "cell_type": "code",
      "execution_count": null,
      "metadata": {
        "id": "qu6hNCyieEpf",
        "outputId": "af4472a8-b826-4300-fc08-c6bc37d113c0"
      },
      "outputs": [
        {
          "name": "stdout",
          "output_type": "stream",
          "text": [
            "Testando Strings em Python\n"
          ]
        }
      ],
      "source": [
        "print ('Testando Strings em Python')"
      ]
    },
    {
      "cell_type": "code",
      "execution_count": null,
      "metadata": {
        "id": "iehMbH26eEpf",
        "outputId": "fa64cebe-6656-4ac5-9647-d2e8f94150c1"
      },
      "outputs": [
        {
          "name": "stdout",
          "output_type": "stream",
          "text": [
            "Testando \n",
            " Strings \n",
            " em \n",
            " Python\n"
          ]
        }
      ],
      "source": [
        "print ('Testando \\n Strings \\n em \\n Python')"
      ]
    },
    {
      "cell_type": "code",
      "execution_count": null,
      "metadata": {
        "scrolled": true,
        "id": "EGaWmnjgeEpf",
        "outputId": "f4abc561-916a-4220-9c6b-d06aa0dbf743"
      },
      "outputs": [
        {
          "name": "stdout",
          "output_type": "stream",
          "text": [
            "\n",
            "\n"
          ]
        }
      ],
      "source": [
        "print ('\\n')"
      ]
    },
    {
      "cell_type": "markdown",
      "metadata": {
        "id": "nnmFVlobeEpg"
      },
      "source": [
        "### Indexando Strings"
      ]
    },
    {
      "cell_type": "code",
      "execution_count": null,
      "metadata": {
        "id": "04NWY5kIeEpg"
      },
      "outputs": [],
      "source": [
        "# Atribuindo uma string\n",
        "s = 'Projet pyPRO'"
      ]
    },
    {
      "cell_type": "code",
      "execution_count": null,
      "metadata": {
        "id": "L9h54XJeeEpg",
        "outputId": "8bc020ea-170e-41a2-d1ff-4cf802e0fc5d"
      },
      "outputs": [
        {
          "name": "stdout",
          "output_type": "stream",
          "text": [
            "Projet pyPRO\n"
          ]
        }
      ],
      "source": [
        "print(s)"
      ]
    },
    {
      "cell_type": "markdown",
      "metadata": {
        "id": "ZTGb6l8TeEpg"
      },
      "source": [
        "> Indexação em Python começar por zero."
      ]
    },
    {
      "cell_type": "code",
      "execution_count": null,
      "metadata": {
        "id": "KQpXnZwueEph",
        "outputId": "1aae1c15-e8f1-473e-963c-3be9f534bc94"
      },
      "outputs": [
        {
          "data": {
            "text/plain": [
              "'P'"
            ]
          },
          "execution_count": 86,
          "metadata": {},
          "output_type": "execute_result"
        }
      ],
      "source": [
        "# Primeiro elemento da string\n",
        "s[0]"
      ]
    },
    {
      "cell_type": "code",
      "execution_count": null,
      "metadata": {
        "id": "Z6JaUbp8eEph",
        "outputId": "7372c713-defe-40c3-a135-01f2463de326"
      },
      "outputs": [
        {
          "data": {
            "text/plain": [
              "'r'"
            ]
          },
          "execution_count": 87,
          "metadata": {},
          "output_type": "execute_result"
        }
      ],
      "source": [
        "s[1]"
      ]
    },
    {
      "cell_type": "code",
      "execution_count": null,
      "metadata": {
        "id": "yPK4X4hueEph",
        "outputId": "55e18192-adcc-48c2-8bba-00deda7e2083"
      },
      "outputs": [
        {
          "data": {
            "text/plain": [
              "'o'"
            ]
          },
          "execution_count": 88,
          "metadata": {},
          "output_type": "execute_result"
        }
      ],
      "source": [
        "s[2]"
      ]
    },
    {
      "cell_type": "code",
      "execution_count": null,
      "metadata": {
        "id": "aoz0jS32eEph",
        "outputId": "4baed4a3-c2df-48a6-8d03-b9d06d01863e"
      },
      "outputs": [
        {
          "data": {
            "text/plain": [
              "'j'"
            ]
          },
          "execution_count": 89,
          "metadata": {},
          "output_type": "execute_result"
        }
      ],
      "source": [
        "s[3]"
      ]
    },
    {
      "cell_type": "code",
      "execution_count": null,
      "metadata": {
        "id": "_C9px1qveEpi",
        "outputId": "72cf9ce3-0e95-42ec-c77b-33f8a240f822"
      },
      "outputs": [
        {
          "data": {
            "text/plain": [
              "'e'"
            ]
          },
          "execution_count": 90,
          "metadata": {},
          "output_type": "execute_result"
        }
      ],
      "source": [
        "\n",
        "s[4]"
      ]
    },
    {
      "cell_type": "markdown",
      "metadata": {
        "id": "z_8ImzEseEpi"
      },
      "source": [
        "Podemos usar um : para executar um slicing que faz a leitura de tudo até um ponto designado. Por exemplo:"
      ]
    },
    {
      "cell_type": "code",
      "execution_count": null,
      "metadata": {
        "id": "3J4aDm5IeEpi",
        "outputId": "6a60500f-e222-4de3-dc10-538d3ba2a1cd"
      },
      "outputs": [
        {
          "data": {
            "text/plain": [
              "'rojet pyPRO'"
            ]
          },
          "execution_count": 91,
          "metadata": {},
          "output_type": "execute_result"
        }
      ],
      "source": [
        "# Retorna todos os elementos da string, começando pela posição\n",
        "# (lembre-se que Python começa a indexação pela posição 0),\n",
        "# até o fim da string.\n",
        "s[1:]"
      ]
    },
    {
      "cell_type": "code",
      "execution_count": null,
      "metadata": {
        "id": "2fg0q7DieEpi",
        "outputId": "b5242d71-a964-4009-e2c8-53ba659177b0"
      },
      "outputs": [
        {
          "data": {
            "text/plain": [
              "'Projet pyPRO'"
            ]
          },
          "execution_count": 92,
          "metadata": {},
          "output_type": "execute_result"
        }
      ],
      "source": [
        "# A string original permanece inalterada\n",
        "s"
      ]
    },
    {
      "cell_type": "code",
      "execution_count": null,
      "metadata": {
        "id": "AGtctiu3eEpj",
        "outputId": "6286fa28-26ec-46d7-ea9c-0d9794494960"
      },
      "outputs": [
        {
          "data": {
            "text/plain": [
              "'Pro'"
            ]
          },
          "execution_count": 93,
          "metadata": {},
          "output_type": "execute_result"
        }
      ],
      "source": [
        "# Retorna tudo até a posição de índice 3\n",
        "s[:3]"
      ]
    },
    {
      "cell_type": "code",
      "execution_count": null,
      "metadata": {
        "id": "qz6I8G5reEpj",
        "outputId": "ff752be0-6870-4bc4-cba4-68032d7770fb"
      },
      "outputs": [
        {
          "data": {
            "text/plain": [
              "'Proj'"
            ]
          },
          "execution_count": 94,
          "metadata": {},
          "output_type": "execute_result"
        }
      ],
      "source": [
        "# Retorna tudo até a posição de índice 4\n",
        "s[:4]"
      ]
    },
    {
      "cell_type": "code",
      "execution_count": null,
      "metadata": {
        "id": "s8L5Q2LteEpj",
        "outputId": "f067b14c-89cd-4ac9-8048-7c1f7e57e429"
      },
      "outputs": [
        {
          "data": {
            "text/plain": [
              "'O'"
            ]
          },
          "execution_count": 95,
          "metadata": {},
          "output_type": "execute_result"
        }
      ],
      "source": [
        "# Nós também podemos usar a indexação negativa e ler de trás para frente\n",
        "s[-1]"
      ]
    },
    {
      "cell_type": "code",
      "execution_count": null,
      "metadata": {
        "id": "60Z6piUSeEpj",
        "outputId": "526b62bb-c0a7-4999-8353-cee028be35af"
      },
      "outputs": [
        {
          "data": {
            "text/plain": [
              "'Projet pyPR'"
            ]
          },
          "execution_count": 96,
          "metadata": {},
          "output_type": "execute_result"
        }
      ],
      "source": [
        "# Retornar tudo, exceto a última letra\n",
        "s[:-1]"
      ]
    },
    {
      "cell_type": "markdown",
      "metadata": {
        "id": "6vtk4tFleEpk"
      },
      "source": [
        "Nós também podemos usar a notação de índice e fatiar a string em pedaços específicos (o padrão é 1).\n",
        "\n",
        "Por exemplo, podemos usar dois pontos duas vezes em uma linha e, em seguida, um número que especifica a frequência para retornar elementos."
      ]
    },
    {
      "cell_type": "code",
      "execution_count": null,
      "metadata": {
        "id": "w7RCkbaTeEpk",
        "outputId": "a11817d9-07bf-4a08-f538-a57d14a93b0f"
      },
      "outputs": [
        {
          "data": {
            "text/plain": [
              "'Projet pyPRO'"
            ]
          },
          "execution_count": 97,
          "metadata": {},
          "output_type": "execute_result"
        }
      ],
      "source": [
        "s[::1]"
      ]
    },
    {
      "cell_type": "code",
      "execution_count": null,
      "metadata": {
        "id": "LTM3PvxReEpk",
        "outputId": "54ff9cc4-ee21-4dc9-9523-9788078a3aa8"
      },
      "outputs": [
        {
          "data": {
            "text/plain": [
              "'Poe yR'"
            ]
          },
          "execution_count": 98,
          "metadata": {},
          "output_type": "execute_result"
        }
      ],
      "source": [
        "s[::2]"
      ]
    },
    {
      "cell_type": "code",
      "execution_count": null,
      "metadata": {
        "id": "1oDfam5VeEpk",
        "outputId": "c2d96d1a-37ae-4011-ccaf-827c7b925c57"
      },
      "outputs": [
        {
          "data": {
            "text/plain": [
              "'ORPyp tejorP'"
            ]
          },
          "execution_count": 99,
          "metadata": {},
          "output_type": "execute_result"
        }
      ],
      "source": [
        "s[::-1]"
      ]
    },
    {
      "cell_type": "markdown",
      "metadata": {
        "id": "53M6c9VIeEpl"
      },
      "source": [
        "### Propriedades de Strings"
      ]
    },
    {
      "cell_type": "code",
      "execution_count": null,
      "metadata": {
        "id": "NhUw-8Y8eEpl",
        "outputId": "7a5f7dd8-aac4-4caf-f587-73878c93b6bf"
      },
      "outputs": [
        {
          "data": {
            "text/plain": [
              "'Projet pyPRO'"
            ]
          },
          "execution_count": 100,
          "metadata": {},
          "output_type": "execute_result"
        }
      ],
      "source": [
        "s"
      ]
    },
    {
      "cell_type": "code",
      "execution_count": null,
      "metadata": {
        "id": "P_mQowkEeEpl",
        "outputId": "e389681d-7c0a-4ebd-c585-eb670959b6d1"
      },
      "outputs": [
        {
          "ename": "TypeError",
          "evalue": "'str' object does not support item assignment",
          "output_type": "error",
          "traceback": [
            "\u001b[1;31m---------------------------------------------------------------------------\u001b[0m",
            "\u001b[1;31mTypeError\u001b[0m                                 Traceback (most recent call last)",
            "Cell \u001b[1;32mIn[101], line 2\u001b[0m\n\u001b[0;32m      1\u001b[0m \u001b[38;5;66;03m# Alterando um caracter (não é possível alterar um elemento da string)\u001b[39;00m\n\u001b[1;32m----> 2\u001b[0m s[\u001b[38;5;241m0\u001b[39m] \u001b[38;5;241m=\u001b[39m \u001b[38;5;124m'\u001b[39m\u001b[38;5;124mx\u001b[39m\u001b[38;5;124m'\u001b[39m\n",
            "\u001b[1;31mTypeError\u001b[0m: 'str' object does not support item assignment"
          ]
        }
      ],
      "source": [
        "# Alterando um caracter (não é possível alterar um elemento da string)\n",
        "s[0] = 'x'"
      ]
    },
    {
      "cell_type": "code",
      "execution_count": null,
      "metadata": {
        "id": "JzrojptueEpl",
        "outputId": "682221c6-a5ff-4d59-e995-f66f391bab85"
      },
      "outputs": [
        {
          "data": {
            "text/plain": [
              "'Projet pyPRO é a melhor maneira de estar preparado para o mercado de trabalho em Ciência de Dados!'"
            ]
          },
          "execution_count": 102,
          "metadata": {},
          "output_type": "execute_result"
        }
      ],
      "source": [
        "# Concatenando strings\n",
        "s + ' é a melhor maneira de estar preparado para o mercado de trabalho em Ciência de Dados!'"
      ]
    },
    {
      "cell_type": "code",
      "execution_count": null,
      "metadata": {
        "id": "vcuw3mB3eEpl"
      },
      "outputs": [],
      "source": [
        "s = s + ' é a melhor maneira de estar preparado para o mercado de trabalho em Ciência de Dados!'"
      ]
    },
    {
      "cell_type": "code",
      "execution_count": null,
      "metadata": {
        "id": "VWQO-xdKeEpm",
        "outputId": "e8a9002a-f6bc-4b13-d7a3-32561d183a34"
      },
      "outputs": [
        {
          "name": "stdout",
          "output_type": "stream",
          "text": [
            "Projet pyPRO é a melhor maneira de estar preparado para o mercado de trabalho em Ciência de Dados!\n"
          ]
        }
      ],
      "source": [
        "print(s)"
      ]
    },
    {
      "cell_type": "code",
      "execution_count": null,
      "metadata": {
        "id": "ZYzh48YReEpm"
      },
      "outputs": [],
      "source": [
        "# Podemos usar o símbolo de multiplicação para criar repetição!\n",
        "letra = 'w'"
      ]
    },
    {
      "cell_type": "code",
      "execution_count": null,
      "metadata": {
        "id": "-8MZErs_eEpm",
        "outputId": "28cf7803-12a1-4a51-8886-7184bc51108c"
      },
      "outputs": [
        {
          "data": {
            "text/plain": [
              "'www'"
            ]
          },
          "execution_count": 106,
          "metadata": {},
          "output_type": "execute_result"
        }
      ],
      "source": [
        "letra * 3"
      ]
    },
    {
      "cell_type": "markdown",
      "metadata": {
        "id": "r2JTbI5leEpm"
      },
      "source": [
        "## <font color='blue'>Estrutura Sequencial</font>"
      ]
    },
    {
      "cell_type": "markdown",
      "metadata": {
        "id": "5r09uwkgeEpm"
      },
      "source": [
        "## Pseudocódigo 1 - Calcular a Área de Um Paralelograma\n",
        "\n",
        "Nota: Um paralelogramo é um quadrilátero com lados opostos paralelos (e portanto ângulos opostos iguais). Um quadrilátero com lados iguais é chamado de losango e um paralelogramo cujos ângulos são todos ângulos retos é chamado de retângulo."
      ]
    },
    {
      "cell_type": "markdown",
      "metadata": {
        "id": "okQcn2J3eEpn"
      },
      "source": [
        "Inicie\n",
        "    \n",
        "    Exiba \"Bem-vindo ao Calculador de Área de Paralelogramo\"\n",
        "    Peça para o usuário inserir o comprimento da base\n",
        "    Armazene o comprimento da base em uma variável\n",
        "    Peça para o usuário inserir a altura\n",
        "    Armazene a altura em uma variável\n",
        "    Calcule a área do paralelogramo:  base * altura\n",
        "    Armazene o resultado em uma variável\n",
        "    Exiba o resultado\n",
        "    \n",
        "Fim\n"
      ]
    },
    {
      "cell_type": "markdown",
      "metadata": {
        "id": "s4XuTlTWeEpn"
      },
      "source": [
        "## Convertendo o Pseudocódigo 1 em Programa Python"
      ]
    },
    {
      "cell_type": "code",
      "execution_count": null,
      "metadata": {
        "id": "ojX3v64heEpn",
        "outputId": "438f5318-30e9-40b8-fac4-e807072917dc"
      },
      "outputs": [
        {
          "name": "stdout",
          "output_type": "stream",
          "text": [
            "Bem-vindo ao Calculador de Área de Paralelogramo\n"
          ]
        }
      ],
      "source": [
        "print(\"Bem-vindo ao Calculador de Área de Paralelogramo\")"
      ]
    },
    {
      "cell_type": "code",
      "execution_count": null,
      "metadata": {
        "id": "2qgEBzxseEpn",
        "outputId": "d34e4014-5b9a-4c8d-dda9-a87ae65661ea"
      },
      "outputs": [
        {
          "name": "stdout",
          "output_type": "stream",
          "text": [
            "Insira o comprimento da base: 4.5\n"
          ]
        }
      ],
      "source": [
        "base = float(input(\"Insira o comprimento da base: \"))"
      ]
    },
    {
      "cell_type": "code",
      "execution_count": null,
      "metadata": {
        "id": "QVKleRffeEpn",
        "outputId": "970ae33f-5417-4149-dd99-1ee71d78e54e"
      },
      "outputs": [
        {
          "name": "stdout",
          "output_type": "stream",
          "text": [
            "Insira a altura: 3\n"
          ]
        }
      ],
      "source": [
        "altura = float(input(\"Insira a altura: \"))"
      ]
    },
    {
      "cell_type": "code",
      "execution_count": null,
      "metadata": {
        "id": "y5-L38u2eEpo"
      },
      "outputs": [],
      "source": [
        "area = base * altura"
      ]
    },
    {
      "cell_type": "code",
      "execution_count": null,
      "metadata": {
        "id": "ybS_RBnJeEpo",
        "outputId": "4de18b86-e84d-4f12-c87c-b19252040f41"
      },
      "outputs": [
        {
          "name": "stdout",
          "output_type": "stream",
          "text": [
            "A área do paralelogramo é:  13.5\n"
          ]
        }
      ],
      "source": [
        "print(\"A área do paralelogramo é: \", area)"
      ]
    },
    {
      "cell_type": "markdown",
      "metadata": {
        "id": "eFh_7R8deEpo"
      },
      "source": [
        "### EXEMPLO 01\n",
        "Calcular a área de um quadrilátero, com dois lados iguais. Para isso faz a leitura de dois números inteiros, representando os lados e imprime os valores lidos e a área calculada.\n",
        "\n",
        "base, altura, area representam os nomes das variáveis – podem ser do tipo inteiro ou do tipo real.\n"
      ]
    },
    {
      "cell_type": "code",
      "execution_count": null,
      "metadata": {
        "id": "Ry5XUy_CeEpo",
        "outputId": "7ae804f6-e92d-4fba-948e-09e23ce7fbe4"
      },
      "outputs": [
        {
          "name": "stdout",
          "output_type": "stream",
          "text": [
            "Entre com a base:32\n",
            "Entre com a altura:10\n",
            "A área é =  320.0\n"
          ]
        }
      ],
      "source": [
        "base = float(input('Entre com a base:'))\n",
        "altura = float(input('Entre com a altura:'))\n",
        "area = base * altura\n",
        "print('A área é = ', area)"
      ]
    },
    {
      "cell_type": "markdown",
      "metadata": {
        "id": "rLgcCVo9eEpp"
      },
      "source": [
        "## EXEMPLO 02\n",
        "Ler a temperatura em °C e apresentar em °F.\n",
        "\n",
        "Dados : F=(9*C+160)/5."
      ]
    },
    {
      "cell_type": "code",
      "execution_count": null,
      "metadata": {
        "id": "yRtscC_4eEpp",
        "outputId": "4b0e86a1-26b2-4ccf-cf73-6e6cc7fc0bb4"
      },
      "outputs": [
        {
          "name": "stdout",
          "output_type": "stream",
          "text": [
            "Entre com a temperatura em C:19\n",
            "A temperatura em F =  66.2\n"
          ]
        }
      ],
      "source": [
        "celsius = float(input(\"Entre com a temperatura em C:\"))\n",
        "fare = (9 * celsius + 160) / 5\n",
        "print(\"A temperatura em F = \", fare)"
      ]
    },
    {
      "cell_type": "markdown",
      "metadata": {
        "id": "w7zA-lqueEpp"
      },
      "source": [
        "## EXEMPLO 03\n",
        "CALCULAR A DISTÂNCIA ENTRE 2 PONTOS."
      ]
    },
    {
      "cell_type": "markdown",
      "metadata": {
        "id": "cHclLIcpeEpp"
      },
      "source": [
        "![Figura](exemplo03.JPG)"
      ]
    },
    {
      "cell_type": "code",
      "execution_count": null,
      "metadata": {
        "id": "xGjegeeleEpp",
        "outputId": "e709cd0c-7add-41fa-8464-2d330ea392d2"
      },
      "outputs": [
        {
          "name": "stdout",
          "output_type": "stream",
          "text": [
            "Entre com x1: 2\n",
            "Entre com y1: 2\n",
            "Entre com x2: 5\n",
            "Entre com y2: 7\n",
            "Distância =  5.83\n"
          ]
        }
      ],
      "source": [
        "from math import pow, sqrt\n",
        "\n",
        "x1 = float(input(\"Entre com x1: \"))\n",
        "y1 = float(input(\"Entre com y1: \"))\n",
        "x2 = float(input(\"Entre com x2: \"))\n",
        "y2 = float(input(\"Entre com y2: \"))\n",
        "dx = x2 - x1\n",
        "dy = y2 - y1\n",
        "d = sqrt(pow(dx,2)+pow(dy,2))\n",
        "print(\"Distância = \", round(d,2))"
      ]
    },
    {
      "cell_type": "markdown",
      "metadata": {
        "id": "VCtu03YkeEpp"
      },
      "source": [
        "## <font color='blue'>Exercícios</font>"
      ]
    },
    {
      "cell_type": "markdown",
      "metadata": {
        "id": "ady3EugMeEpq"
      },
      "source": [
        "1. Faça um programa para ler e escrever na tela o seu nome e a sua idade."
      ]
    },
    {
      "cell_type": "code",
      "execution_count": null,
      "metadata": {
        "id": "LZfGKDsEeEpq",
        "outputId": "9ca974cd-2de0-4145-f6a6-056a556af8db"
      },
      "outputs": [
        {
          "name": "stdout",
          "output_type": "stream",
          "text": [
            "Digite seu nome: Gabriel\n",
            "Digite sua idade: 19\n",
            "Seu nome é Gabriel. Você tem 19 anos de vida!\n"
          ]
        }
      ],
      "source": [
        "nome = input(\"Digite seu nome: \")\n",
        "idade = int(input(\"Digite sua idade: \"))\n",
        "print(f\"Seu nome é {nome}. Você tem {idade} anos de vida!\")"
      ]
    },
    {
      "cell_type": "markdown",
      "metadata": {
        "id": "ij8_4dOveEpq"
      },
      "source": [
        "2. Faça um script para ler um valor e calcular a raiz quadrada desse valor."
      ]
    },
    {
      "cell_type": "code",
      "execution_count": null,
      "metadata": {
        "id": "uR_QS6_teEpq",
        "outputId": "b5c0073f-e6f5-4efc-e23c-cd0b676edb6b"
      },
      "outputs": [
        {
          "name": "stdout",
          "output_type": "stream",
          "text": [
            "Digite o valor: 36\n"
          ]
        },
        {
          "ename": "NameError",
          "evalue": "name 'sqrt' is not defined",
          "output_type": "error",
          "traceback": [
            "\u001b[1;31m---------------------------------------------------------------------------\u001b[0m",
            "\u001b[1;31mNameError\u001b[0m                                 Traceback (most recent call last)",
            "Cell \u001b[1;32mIn[3], line 2\u001b[0m\n\u001b[0;32m      1\u001b[0m x \u001b[38;5;241m=\u001b[39m \u001b[38;5;28mfloat\u001b[39m(\u001b[38;5;28minput\u001b[39m(\u001b[38;5;124m\"\u001b[39m\u001b[38;5;124mDigite o valor: \u001b[39m\u001b[38;5;124m\"\u001b[39m))\n\u001b[1;32m----> 2\u001b[0m \u001b[38;5;28mprint\u001b[39m(\u001b[38;5;124mf\u001b[39m\u001b[38;5;124m\"\u001b[39m\u001b[38;5;124mO valor da raiz quadrada é \u001b[39m\u001b[38;5;132;01m{\u001b[39;00msqrt(x)\u001b[38;5;132;01m}\u001b[39;00m\u001b[38;5;124m\"\u001b[39m)\n",
            "\u001b[1;31mNameError\u001b[0m: name 'sqrt' is not defined"
          ]
        }
      ],
      "source": [
        "x = float(input(\"Digite o valor: \"))\n",
        "print(f\"O valor da raiz quadrada é {sqrt(x)}\")"
      ]
    },
    {
      "cell_type": "markdown",
      "metadata": {
        "id": "wwPegSODeEpq"
      },
      "source": [
        "3. Faça um algoritmo que receba o ano de nascimento de uma pessoa e o ano atual e mostre:\n",
        "A idade dessa pessoa em anos;\n",
        "A idade dessa pessoa em meses;\n",
        "A idade dessa pessoa em dias;\n",
        "A idade dessa pessoa em semanas."
      ]
    },
    {
      "cell_type": "code",
      "execution_count": null,
      "metadata": {
        "id": "7HgL0RQIeEpr",
        "outputId": "649d5b9f-8cc0-4ed9-ac3f-d51ee330b5cf"
      },
      "outputs": [
        {
          "name": "stdout",
          "output_type": "stream",
          "text": [
            "Digite o ano que você nasceu: 2024\n",
            "Digite o ano atual: 2005\n"
          ]
        },
        {
          "ename": "TypeError",
          "evalue": "unsupported operand type(s) for -: 'str' and 'str'",
          "output_type": "error",
          "traceback": [
            "\u001b[1;31m---------------------------------------------------------------------------\u001b[0m",
            "\u001b[1;31mTypeError\u001b[0m                                 Traceback (most recent call last)",
            "Cell \u001b[1;32mIn[4], line 3\u001b[0m\n\u001b[0;32m      1\u001b[0m a \u001b[38;5;241m=\u001b[39m \u001b[38;5;28minput\u001b[39m(\u001b[38;5;124m\"\u001b[39m\u001b[38;5;124mDigite o ano que você nasceu: \u001b[39m\u001b[38;5;124m\"\u001b[39m)\n\u001b[0;32m      2\u001b[0m b \u001b[38;5;241m=\u001b[39m \u001b[38;5;28minput\u001b[39m(\u001b[38;5;124m\"\u001b[39m\u001b[38;5;124mDigite o ano atual: \u001b[39m\u001b[38;5;124m\"\u001b[39m)\n\u001b[1;32m----> 3\u001b[0m \u001b[38;5;28mprint\u001b[39m(b \u001b[38;5;241m-\u001b[39m a)\n",
            "\u001b[1;31mTypeError\u001b[0m: unsupported operand type(s) for -: 'str' and 'str'"
          ]
        }
      ],
      "source": [
        "a = input(\"Digite o ano que você nasceu: \")\n",
        "b = input(\"Digite o ano atual: \")\n",
        "print(b - a)"
      ]
    },
    {
      "cell_type": "markdown",
      "metadata": {
        "id": "eLEed77MeEpr"
      },
      "source": [
        "4. Faça um algoritmo que receba o salário de um funcionário, calcule e mostre o novo salário, sabendo-se que este sofreu um aumento de 25%."
      ]
    },
    {
      "cell_type": "code",
      "execution_count": 1,
      "metadata": {
        "colab": {
          "base_uri": "https://localhost:8080/"
        },
        "id": "1uGSCmjkeEpr",
        "outputId": "7070b3b8-ee56-444a-f455-f8819059cddc"
      },
      "outputs": [
        {
          "output_type": "stream",
          "name": "stdout",
          "text": [
            "Digite o salário do funcionário: 5000\n",
            "O novo salário do funcionário, com o aumento de 25%, é: 6250.0\n"
          ]
        }
      ],
      "source": [
        "salario = float(input(\"Digite o salário do funcionário: \"))\n",
        "\n",
        "# Calculando o aumento de 25%\n",
        "aumento = salario * 0.25\n",
        "\n",
        "# Calculando o novo salário\n",
        "novo_salario = salario + aumento\n",
        "\n",
        "# Mostrando o novo salário\n",
        "print(\"O novo salário do funcionário, com o aumento de 25%, é:\", novo_salario)"
      ]
    },
    {
      "cell_type": "markdown",
      "metadata": {
        "id": "pkubcEEzeEpr"
      },
      "source": [
        "5. Faça um algoritmo que calcule e mostre a área de um círculo. Sabe-se que\n",
        "\tArea= π * R2\n",
        "\n",
        "\tπ = 3,115\n"
      ]
    },
    {
      "cell_type": "code",
      "execution_count": null,
      "metadata": {
        "id": "krIA5h-IeEpr",
        "outputId": "e1b113e3-bbe7-4e0e-f41d-42bd1c3f1f9e"
      },
      "outputs": [
        {
          "name": "stdout",
          "output_type": "stream",
          "text": [
            "39.47841760435743\n"
          ]
        }
      ],
      "source": [
        "from math import pi\n",
        "area = 4 * pow(pi, 2)\n",
        "print(area)"
      ]
    },
    {
      "cell_type": "markdown",
      "metadata": {
        "id": "RZRLfDLgeEps"
      },
      "source": [
        "6. Cada degrau de uma escada tem Xcm de altura. Faça um algoritmo que receba a altura de cada degrau em cm e a altura que o usuário deseja alcançar subindo a escada (em metros). Faça as conversões, calcule e mostre quantos degraus o usuário deverá subir para atingir seu objetivo.\n",
        "\n",
        "Obs: não se preocupe com a altura do usuário!"
      ]
    },
    {
      "cell_type": "code",
      "execution_count": null,
      "metadata": {
        "id": "wfywbxM2eEps",
        "outputId": "b25943d9-74da-4df8-e33a-691599acf305"
      },
      "outputs": [
        {
          "name": "stdout",
          "output_type": "stream",
          "text": [
            "Tamanho do degrau (cm): 23\n",
            "Qual a altura da escada (m): 2.80\n",
            "Você, para atingir seu objetivo, deve subir 12 degraus\n"
          ]
        }
      ],
      "source": [
        "degrau = int(input(\"Tamanho do degrau (cm): \"))\n",
        "altura = float(input(\"Qual a altura da escada (m): \"))\n",
        "altura = altura * 100\n",
        "qtd =  round(altura / degrau)\n",
        "print(f\"Você, para atingir seu objetivo, deve subir {qtd} degraus\")"
      ]
    },
    {
      "cell_type": "markdown",
      "metadata": {
        "id": "NJSZ67qReEps"
      },
      "source": [
        "# Fim"
      ]
    }
  ],
  "metadata": {
    "anaconda-cloud": {},
    "kernelspec": {
      "display_name": "Python 3 (ipykernel)",
      "language": "python",
      "name": "python3"
    },
    "language_info": {
      "codemirror_mode": {
        "name": "ipython",
        "version": 3
      },
      "file_extension": ".py",
      "mimetype": "text/x-python",
      "name": "python",
      "nbconvert_exporter": "python",
      "pygments_lexer": "ipython3",
      "version": "3.11.5"
    },
    "colab": {
      "provenance": []
    }
  },
  "nbformat": 4,
  "nbformat_minor": 0
}