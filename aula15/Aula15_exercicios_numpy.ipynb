{
  "cells": [
    {
      "cell_type": "markdown",
      "metadata": {
        "id": "wn-zfPT4oSsw"
      },
      "source": [
        "# Aula 15 - Algoritmos e Estrutura de Dados\n",
        "## Exercícios sobre Numpy"
      ]
    },
    {
      "cell_type": "markdown",
      "metadata": {
        "id": "LpCXNHI-oSs1"
      },
      "source": [
        "## Fácil"
      ]
    },
    {
      "cell_type": "markdown",
      "metadata": {
        "id": "tyWqYikwoSs2"
      },
      "source": [
        "⚫1- Importe numpy como ‘np’ e imprima o número da versão."
      ]
    },
    {
      "cell_type": "code",
      "execution_count": null,
      "metadata": {
        "id": "UdG60knqoSs4"
      },
      "outputs": [],
      "source": [
        "import numpy as np"
      ]
    },
    {
      "cell_type": "code",
      "execution_count": null,
      "metadata": {
        "id": "PLtVo6HIoSs6",
        "outputId": "19b97def-bd57-40cd-a0f5-d6b150210e39"
      },
      "outputs": [
        {
          "data": {
            "text/plain": [
              "'1.26.4'"
            ]
          },
          "execution_count": 4,
          "metadata": {},
          "output_type": "execute_result"
        }
      ],
      "source": [
        "np.__version__"
      ]
    },
    {
      "cell_type": "markdown",
      "metadata": {
        "id": "DBNnQ3HhoSs8"
      },
      "source": [
        "⚫2- Crie uma matriz 1D com números de 0 a 9"
      ]
    },
    {
      "cell_type": "code",
      "execution_count": null,
      "metadata": {
        "id": "876WCED-oSs9",
        "outputId": "da209fb5-4ef1-4cea-8e96-8b905c1a4533"
      },
      "outputs": [
        {
          "name": "stdout",
          "output_type": "stream",
          "text": [
            "[0 1 2 3 4 5 6 7 8 9]\n"
          ]
        }
      ],
      "source": [
        "matriz = np.arange(10)\n",
        "print(matriz)"
      ]
    },
    {
      "cell_type": "markdown",
      "metadata": {
        "id": "Yz3lh09QoSs-"
      },
      "source": [
        "⚫3- Crie uma matriz booleana numpy 3×3 com ‘True’"
      ]
    },
    {
      "cell_type": "code",
      "execution_count": null,
      "metadata": {
        "id": "qkT6FZ2loSs-",
        "outputId": "674bfe26-d3d4-4b04-d764-33859abe205e"
      },
      "outputs": [
        {
          "name": "stdout",
          "output_type": "stream",
          "text": [
            "[[ True  True  True]\n",
            " [ True  True  True]\n",
            " [ True  True  True]]\n"
          ]
        }
      ],
      "source": [
        "print(np.full((3, 3), True, dtype = bool))"
      ]
    },
    {
      "cell_type": "code",
      "execution_count": null,
      "metadata": {
        "id": "caO2c5kIoSs_",
        "outputId": "d4ac4e3a-3cdf-4474-d867-802e0d5f86b1"
      },
      "outputs": [
        {
          "name": "stdout",
          "output_type": "stream",
          "text": [
            "[[ True  True  True]\n",
            " [ True  True  True]\n",
            " [ True  True  True]]\n"
          ]
        }
      ],
      "source": [
        "print(np.ones((3, 3), dtype = bool))"
      ]
    },
    {
      "cell_type": "markdown",
      "metadata": {
        "id": "SQPmu0k3oStA"
      },
      "source": [
        "⚫4- Extraia todos os números ímpares de uma variável chamada 'arr' que recebe o vetorcriado no exercícios 2 acima."
      ]
    },
    {
      "cell_type": "code",
      "execution_count": null,
      "metadata": {
        "id": "Ah0H8klooStB",
        "outputId": "d78f0e06-5391-44e8-db09-f165c05267f6"
      },
      "outputs": [
        {
          "data": {
            "text/plain": [
              "array([1, 3, 5, 7, 9])"
            ]
          },
          "execution_count": 22,
          "metadata": {},
          "output_type": "execute_result"
        }
      ],
      "source": [
        "arr = np.array([0, 1, 2, 3, 4, 5, 6, 7, 8, 9])\n",
        "arr[arr % 2 == 1]"
      ]
    },
    {
      "cell_type": "markdown",
      "metadata": {
        "id": "NAeqzDMPoStC"
      },
      "source": [
        "⚫5- Substitua todos os números ímpares arr por -1"
      ]
    },
    {
      "cell_type": "code",
      "execution_count": null,
      "metadata": {
        "id": "FDjse13RoStC",
        "outputId": "e9ab0ec0-3937-4c39-d62f-23c78f4e3367"
      },
      "outputs": [
        {
          "name": "stdout",
          "output_type": "stream",
          "text": [
            "[ 0 -1  2 -1  4 -1  6 -1  8 -1]\n"
          ]
        }
      ],
      "source": [
        "arr[arr % 2 == 1] = -1\n",
        "print(arr)"
      ]
    },
    {
      "cell_type": "markdown",
      "metadata": {
        "id": "hJZpttnPoStD"
      },
      "source": [
        "## Médio"
      ]
    },
    {
      "cell_type": "markdown",
      "metadata": {
        "id": "h9HXSkZToStE"
      },
      "source": [
        "⚫1- Substitua todos os números ímpares em arr com -1 sem alterar arr"
      ]
    },
    {
      "cell_type": "code",
      "execution_count": 1,
      "metadata": {
        "colab": {
          "base_uri": "https://localhost:8080/"
        },
        "id": "KEk8zMUKoStE",
        "outputId": "e8cf3942-0981-4c56-bcfb-f0f26612fa74"
      },
      "outputs": [
        {
          "output_type": "stream",
          "name": "stdout",
          "text": [
            "Lista original: [1, 2, 3, 4, 5, 6, 7, 8, 9, 10]\n",
            "Nova lista: [-1, 2, -1, 4, -1, 6, -1, 8, -1, 10]\n"
          ]
        }
      ],
      "source": [
        "def substituir_impares(arr):\n",
        "    \"\"\"\n",
        "    Substitui todos os números ímpares em arr por -1 sem alterar arr.\n",
        "\n",
        "    Args:\n",
        "    arr (list): Lista de números inteiros.\n",
        "\n",
        "    Returns:\n",
        "    list: Nova lista com números ímpares substituídos por -1.\n",
        "    \"\"\"\n",
        "    nova_lista = [-1 if x % 2 != 0 else x for x in arr]\n",
        "    return nova_lista\n",
        "\n",
        "# Exemplo de uso\n",
        "arr = [1, 2, 3, 4, 5, 6, 7, 8, 9, 10]\n",
        "nova_lista = substituir_impares(arr)\n",
        "print(\"Lista original:\", arr)\n",
        "print(\"Nova lista:\", nova_lista)"
      ]
    },
    {
      "cell_type": "markdown",
      "metadata": {
        "id": "oWa8Af1loStE"
      },
      "source": [
        "⚫2- Converta uma matriz 1D para uma matriz 2D com 2 linhas:"
      ]
    },
    {
      "cell_type": "code",
      "execution_count": 2,
      "metadata": {
        "colab": {
          "base_uri": "https://localhost:8080/"
        },
        "id": "DQEstnAloStF",
        "outputId": "dc210513-ad07-4d13-c366-5794472c7364"
      },
      "outputs": [
        {
          "output_type": "stream",
          "name": "stdout",
          "text": [
            "Matriz 1D: [1, 2, 3, 4, 5, 6, 7, 8]\n",
            "Matriz 2D com 2 linhas:\n",
            "[[1 2 3 4]\n",
            " [5 6 7 8]]\n"
          ]
        }
      ],
      "source": [
        "import numpy as np\n",
        "\n",
        "def converter_para_matriz_2d(matriz_1d):\n",
        "    \"\"\"\n",
        "    Converte uma matriz 1D em uma matriz 2D com 2 linhas.\n",
        "\n",
        "    Args:\n",
        "    matriz_1d (list): Matriz 1D a ser convertida.\n",
        "\n",
        "    Returns:\n",
        "    numpy.ndarray: Matriz 2D com 2 linhas.\n",
        "    \"\"\"\n",
        "    # Verifica se o número de elementos na matriz 1D é par\n",
        "    if len(matriz_1d) % 2 != 0:\n",
        "        raise ValueError(\"A matriz 1D deve ter um número par de elementos.\")\n",
        "\n",
        "    # Converte a lista para um array numpy\n",
        "    array_1d = np.array(matriz_1d)\n",
        "\n",
        "    # Divide o array em duas partes iguais e redimensiona para uma matriz 2D com 2 linhas\n",
        "    matriz_2d = np.reshape(array_1d, (2, -1))\n",
        "\n",
        "    return matriz_2d\n",
        "\n",
        "# Exemplo de uso\n",
        "matriz_1d = [1, 2, 3, 4, 5, 6, 7, 8]\n",
        "matriz_2d = converter_para_matriz_2d(matriz_1d)\n",
        "print(\"Matriz 1D:\", matriz_1d)\n",
        "print(\"Matriz 2D com 2 linhas:\")\n",
        "print(matriz_2d)\n"
      ]
    },
    {
      "cell_type": "markdown",
      "metadata": {
        "id": "Br3rixdxoStF"
      },
      "source": [
        "⚫3- Empilhe matrizes verticalmente:"
      ]
    },
    {
      "cell_type": "code",
      "execution_count": 3,
      "metadata": {
        "colab": {
          "base_uri": "https://localhost:8080/"
        },
        "id": "yX8T4a3YoStG",
        "outputId": "2f942f42-f7e3-42a3-c466-5c74ff703ff6"
      },
      "outputs": [
        {
          "output_type": "stream",
          "name": "stdout",
          "text": [
            "Matriz 1:\n",
            "[[1 2 3]\n",
            " [4 5 6]]\n",
            "\n",
            "Matriz 2:\n",
            "[[ 7  8  9]\n",
            " [10 11 12]]\n",
            "\n",
            "Matriz empilhada verticalmente:\n",
            "[[ 1  2  3]\n",
            " [ 4  5  6]\n",
            " [ 7  8  9]\n",
            " [10 11 12]]\n"
          ]
        }
      ],
      "source": [
        "import numpy as np\n",
        "\n",
        "def empilhar_verticalmente(matriz1, matriz2):\n",
        "    \"\"\"\n",
        "    Empilha duas matrizes verticalmente.\n",
        "\n",
        "    Args:\n",
        "    matriz1 (numpy.ndarray): Primeira matriz a ser empilhada.\n",
        "    matriz2 (numpy.ndarray): Segunda matriz a ser empilhada.\n",
        "\n",
        "    Returns:\n",
        "    numpy.ndarray: Matriz resultante da concatenação vertical.\n",
        "    \"\"\"\n",
        "    # Empilha as matrizes verticalmente\n",
        "    matriz_empilhada = np.vstack((matriz1, matriz2))\n",
        "\n",
        "    return matriz_empilhada\n",
        "\n",
        "# Exemplo de uso\n",
        "matriz1 = np.array([[1, 2, 3],\n",
        "                    [4, 5, 6]])\n",
        "matriz2 = np.array([[7, 8, 9],\n",
        "                    [10, 11, 12]])\n",
        "\n",
        "matriz_empilhada = empilhar_verticalmente(matriz1, matriz2)\n",
        "print(\"Matriz 1:\")\n",
        "print(matriz1)\n",
        "print(\"\\nMatriz 2:\")\n",
        "print(matriz2)\n",
        "print(\"\\nMatriz empilhada verticalmente:\")\n",
        "print(matriz_empilhada)"
      ]
    },
    {
      "cell_type": "markdown",
      "metadata": {
        "id": "ul5yu1MToStG"
      },
      "source": [
        "⚫4- Empilhe as matrizes horizontalmente:"
      ]
    },
    {
      "cell_type": "code",
      "execution_count": 4,
      "metadata": {
        "colab": {
          "base_uri": "https://localhost:8080/"
        },
        "id": "wj33UGlHoStG",
        "outputId": "935d46b8-d4fc-4c9d-c233-4f09fa7210f3"
      },
      "outputs": [
        {
          "output_type": "stream",
          "name": "stdout",
          "text": [
            "Matriz 1:\n",
            "[[1 2]\n",
            " [3 4]]\n",
            "\n",
            "Matriz 2:\n",
            "[[5 6]\n",
            " [7 8]]\n",
            "\n",
            "Matriz empilhada horizontalmente:\n",
            "[[1 2 5 6]\n",
            " [3 4 7 8]]\n"
          ]
        }
      ],
      "source": [
        "import numpy as np\n",
        "\n",
        "def empilhar_horizontalmente(matriz1, matriz2):\n",
        "    \"\"\"\n",
        "    Empilha duas matrizes horizontalmente.\n",
        "\n",
        "    Args:\n",
        "    matriz1 (numpy.ndarray): Primeira matriz a ser empilhada.\n",
        "    matriz2 (numpy.ndarray): Segunda matriz a ser empilhada.\n",
        "\n",
        "    Returns:\n",
        "    numpy.ndarray: Matriz resultante da concatenação horizontal.\n",
        "    \"\"\"\n",
        "    # Empilha as matrizes horizontalmente\n",
        "    matriz_empilhada = np.hstack((matriz1, matriz2))\n",
        "\n",
        "    return matriz_empilhada\n",
        "\n",
        "# Exemplo de uso\n",
        "matriz1 = np.array([[1, 2],\n",
        "                    [3, 4]])\n",
        "matriz2 = np.array([[5, 6],\n",
        "                    [7, 8]])\n",
        "\n",
        "matriz_empilhada = empilhar_horizontalmente(matriz1, matriz2)\n",
        "print(\"Matriz 1:\")\n",
        "print(matriz1)\n",
        "print(\"\\nMatriz 2:\")\n",
        "print(matriz2)\n",
        "print(\"\\nMatriz empilhada horizontalmente:\")\n",
        "print(matriz_empilhada)"
      ]
    },
    {
      "cell_type": "markdown",
      "metadata": {
        "id": "Qz67Tlb-oStH"
      },
      "source": [
        "⚫5- Crie o seguinte padrão sem codificação, usando apenas funções numpy e a matriz de entrada abaixo ‘a’."
      ]
    },
    {
      "cell_type": "code",
      "execution_count": 6,
      "metadata": {
        "id": "_K7LLFmUoStH"
      },
      "outputs": [],
      "source": [
        "a = np.array([1,2,3])"
      ]
    },
    {
      "cell_type": "code",
      "execution_count": 9,
      "metadata": {
        "colab": {
          "base_uri": "https://localhost:8080/"
        },
        "id": "Ws5yNAvioStI",
        "outputId": "70cb79b0-f184-4afb-fdd8-d3f5b59c67f6"
      },
      "outputs": [
        {
          "output_type": "stream",
          "name": "stdout",
          "text": [
            "[[1 1 1]\n",
            " [0 2 2]\n",
            " [0 0 3]]\n"
          ]
        }
      ],
      "source": [
        "import numpy as np\n",
        "\n",
        "def criar_padrao(a):\n",
        "    \"\"\"\n",
        "    Cria o padrão especificado com base na matriz de entrada 'a'.\n",
        "\n",
        "    Args:\n",
        "    a (numpy.ndarray): Matriz de entrada.\n",
        "\n",
        "    Returns:\n",
        "    numpy.ndarray: Matriz resultante com o padrão criado.\n",
        "    \"\"\"\n",
        "    # Criando uma matriz com o padrão desejado\n",
        "    n = len(a)\n",
        "    padrao = np.repeat(a, np.arange(n, 0, -1))\n",
        "\n",
        "    # Redimensionando para formar o padrão em forma de matriz\n",
        "    padrao_final = np.zeros((n, n), dtype=int)\n",
        "    padrao_final[np.triu_indices(n)] = padrao\n",
        "\n",
        "    return padrao_final\n",
        "\n",
        "# Definindo a matriz de entrada\n",
        "a = np.array([1, 2, 3])\n",
        "\n",
        "# Criando o padrão\n",
        "resultado = criar_padrao(a)\n",
        "\n",
        "# Exibindo o resultado\n",
        "print(resultado)"
      ]
    },
    {
      "cell_type": "markdown",
      "metadata": {
        "id": "6j_FywMDoStI"
      },
      "source": [
        "## Difícil"
      ]
    },
    {
      "cell_type": "markdown",
      "metadata": {
        "id": "m9OnLTeUoStI"
      },
      "source": [
        "⚫1- Calcule as contagens de valores únicos na linha."
      ]
    },
    {
      "cell_type": "code",
      "execution_count": 10,
      "metadata": {
        "colab": {
          "base_uri": "https://localhost:8080/"
        },
        "id": "JhGfwrd3oStJ",
        "outputId": "a6fdec89-850d-477c-8b10-4c73d13e05ca"
      },
      "outputs": [
        {
          "output_type": "stream",
          "name": "stdout",
          "text": [
            "Matriz:\n",
            "[[1 2 3 2]\n",
            " [2 2 1 3]\n",
            " [1 1 2 2]]\n",
            "\n",
            "Contagens de valores únicos por linha:\n",
            "[4. 4. 4.]\n"
          ]
        }
      ],
      "source": [
        "import numpy as np\n",
        "\n",
        "def contar_valores_unicos_por_linha(matriz):\n",
        "    \"\"\"\n",
        "    Calcula as contagens de valores únicos em cada linha da matriz.\n",
        "\n",
        "    Args:\n",
        "    matriz (numpy.ndarray): Matriz de entrada.\n",
        "\n",
        "    Returns:\n",
        "    numpy.ndarray: Matriz com as contagens de valores únicos por linha.\n",
        "    \"\"\"\n",
        "    # Número de linhas e colunas da matriz\n",
        "    num_linhas, num_colunas = matriz.shape\n",
        "\n",
        "    # Inicializa uma matriz para armazenar as contagens de valores únicos por linha\n",
        "    contagens = np.zeros((num_linhas,))\n",
        "\n",
        "    # Itera sobre cada linha da matriz\n",
        "    for i in range(num_linhas):\n",
        "        # Obtém os valores únicos e suas contagens na linha atual\n",
        "        valores_unicos, contagem = np.unique(matriz[i], return_counts=True)\n",
        "\n",
        "        # Soma as contagens de valores únicos na linha atual\n",
        "        contagens[i] = np.sum(contagem)\n",
        "\n",
        "    return contagens\n",
        "\n",
        "# Exemplo de uso\n",
        "matriz = np.array([[1, 2, 3, 2],\n",
        "                   [2, 2, 1, 3],\n",
        "                   [1, 1, 2, 2]])\n",
        "\n",
        "contagens_por_linha = contar_valores_unicos_por_linha(matriz)\n",
        "print(\"Matriz:\")\n",
        "print(matriz)\n",
        "print(\"\\nContagens de valores únicos por linha:\")\n",
        "print(contagens_por_linha)"
      ]
    },
    {
      "cell_type": "code",
      "execution_count": null,
      "metadata": {
        "id": "WwKfwDB3oStJ"
      },
      "outputs": [],
      "source": [
        "def counts_of_all_values_rowwise(arr2d):\n"
      ]
    }
  ],
  "metadata": {
    "kernelspec": {
      "display_name": "Python 3 (ipykernel)",
      "language": "python",
      "name": "python3"
    },
    "language_info": {
      "codemirror_mode": {
        "name": "ipython",
        "version": 3
      },
      "file_extension": ".py",
      "mimetype": "text/x-python",
      "name": "python",
      "nbconvert_exporter": "python",
      "pygments_lexer": "ipython3",
      "version": "3.11.7"
    },
    "colab": {
      "provenance": []
    }
  },
  "nbformat": 4,
  "nbformat_minor": 0
}