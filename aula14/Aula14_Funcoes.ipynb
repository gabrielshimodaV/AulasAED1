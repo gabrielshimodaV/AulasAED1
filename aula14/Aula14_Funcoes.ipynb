{
  "cells": [
    {
      "cell_type": "markdown",
      "metadata": {
        "id": "J4s4nDEnmWFF"
      },
      "source": [
        "## <font color='blue'>Aula 14 - Algoritmos e Estrutura de Dados 1 </font>\n",
        "## <font color='blue'>Funções e Funções Lambda</font>"
      ]
    },
    {
      "cell_type": "code",
      "execution_count": null,
      "metadata": {
        "id": "O-Mz-gpDmWFK",
        "outputId": "7a4cc13e-d512-44d7-ea2d-63b46eaf911d"
      },
      "outputs": [
        {
          "name": "stdout",
          "output_type": "stream",
          "text": [
            "Versão da Linguagem Python Usada Neste Jupyter Notebook: 3.11.7\n"
          ]
        }
      ],
      "source": [
        "# Versão da Linguagem Python\n",
        "from platform import python_version\n",
        "print('Versão da Linguagem Python Usada Neste Jupyter Notebook:', python_version())"
      ]
    },
    {
      "cell_type": "markdown",
      "metadata": {
        "id": "ZqavMX7xmWFP"
      },
      "source": [
        "## Funções"
      ]
    },
    {
      "cell_type": "code",
      "execution_count": null,
      "metadata": {
        "id": "fUGfnmQxmWFQ",
        "outputId": "3ec2a752-aa6d-46c6-d8fd-c05227c2ed26"
      },
      "outputs": [
        {
          "name": "stdout",
          "output_type": "stream",
          "text": [
            "Hello World\n"
          ]
        }
      ],
      "source": [
        "print('Hello World')"
      ]
    },
    {
      "cell_type": "code",
      "execution_count": null,
      "metadata": {
        "id": "9TmuwPtBmWFR"
      },
      "outputs": [],
      "source": [
        "# Definindo uma função\n",
        "def primeiraFunc():\n",
        "    print('Hello World')"
      ]
    },
    {
      "cell_type": "code",
      "execution_count": null,
      "metadata": {
        "id": "y64s-vWemWFS",
        "outputId": "5ca640ed-ee39-4574-ab19-67b9f3566bdf"
      },
      "outputs": [
        {
          "name": "stdout",
          "output_type": "stream",
          "text": [
            "Hello World\n"
          ]
        }
      ],
      "source": [
        "primeiraFunc()"
      ]
    },
    {
      "cell_type": "code",
      "execution_count": null,
      "metadata": {
        "id": "PjEVRCK2mWFT"
      },
      "outputs": [],
      "source": [
        "# Definindo uma função\n",
        "def primeiraFunc():\n",
        "    nome = 'Ana'\n",
        "    print(f'Olá {nome}!')"
      ]
    },
    {
      "cell_type": "code",
      "execution_count": null,
      "metadata": {
        "id": "1wn7_yOomWFU",
        "outputId": "05a6280b-03b3-475e-8590-cdc3e04c7337"
      },
      "outputs": [
        {
          "name": "stdout",
          "output_type": "stream",
          "text": [
            "Olá Ana!\n"
          ]
        }
      ],
      "source": [
        "primeiraFunc()"
      ]
    },
    {
      "cell_type": "code",
      "execution_count": null,
      "metadata": {
        "id": "tdUxABflmWFU"
      },
      "outputs": [],
      "source": [
        "# Definindo uma função com parâmetro\n",
        "def segundaFunc(nome = \"Sem Nome\"):\n",
        "    print(f'Olá {nome}!')"
      ]
    },
    {
      "cell_type": "code",
      "execution_count": null,
      "metadata": {
        "id": "LQEJglawmWFV",
        "outputId": "65749768-c10f-483c-fd68-8645f7aaa5e1"
      },
      "outputs": [
        {
          "name": "stdout",
          "output_type": "stream",
          "text": [
            "Olá Piva!\n"
          ]
        }
      ],
      "source": [
        "segundaFunc('Piva')"
      ]
    },
    {
      "cell_type": "code",
      "execution_count": null,
      "metadata": {
        "id": "NPIBRawYmWFW",
        "outputId": "6bb1babd-17c9-4145-934a-1c5788cc9b19"
      },
      "outputs": [
        {
          "name": "stdout",
          "output_type": "stream",
          "text": [
            "Olá Sem Nome!\n"
          ]
        }
      ],
      "source": [
        "segundaFunc()"
      ]
    },
    {
      "cell_type": "code",
      "execution_count": null,
      "metadata": {
        "id": "voP8c_DdmWFX"
      },
      "outputs": [],
      "source": [
        "# Função para imprimir números\n",
        "def imprimeNumeros():\n",
        "\n",
        "    # Loop\n",
        "    for i in range(0, 5):\n",
        "        print(\"Número \" + str(i))"
      ]
    },
    {
      "cell_type": "code",
      "execution_count": null,
      "metadata": {
        "id": "yTt-kPH9mWFY",
        "outputId": "625eaeb4-38dc-4a87-d7cf-edffd34e050e"
      },
      "outputs": [
        {
          "name": "stdout",
          "output_type": "stream",
          "text": [
            "Número 0\n",
            "Número 1\n",
            "Número 2\n",
            "Número 3\n",
            "Número 4\n"
          ]
        }
      ],
      "source": [
        "imprimeNumeros()"
      ]
    },
    {
      "cell_type": "code",
      "execution_count": null,
      "metadata": {
        "id": "l4n04xj2mWFZ"
      },
      "outputs": [],
      "source": [
        "# Função para somar números\n",
        "def addNum(n1, n2):\n",
        "    print(\"Primeiro número: \" + str(n1))\n",
        "    print(\"Segundo número: \" + str(n2))\n",
        "    print(\"Soma: \", n1 + n2)"
      ]
    },
    {
      "cell_type": "code",
      "execution_count": null,
      "metadata": {
        "id": "jrJELgc_mWFa",
        "outputId": "c39b3062-40b3-40bd-bc24-050489f3d7eb"
      },
      "outputs": [
        {
          "name": "stdout",
          "output_type": "stream",
          "text": [
            "Primeiro número: 4\n",
            "Segundo número: 7\n",
            "Soma:  11\n"
          ]
        }
      ],
      "source": [
        "# Chamando a função e passando parâmetros\n",
        "addNum(4, 7)"
      ]
    },
    {
      "cell_type": "code",
      "execution_count": null,
      "metadata": {
        "id": "oWOvger8mWFa",
        "outputId": "5d62328b-80cc-475c-9e97-e33ffe0f54aa"
      },
      "outputs": [
        {
          "name": "stdout",
          "output_type": "stream",
          "text": [
            "Primeiro número: 45\n",
            "Segundo número: 3\n",
            "Soma:  48\n"
          ]
        }
      ],
      "source": [
        "# Chamando a função e passando parâmetros\n",
        "addNum(45, 3)"
      ]
    },
    {
      "cell_type": "code",
      "execution_count": null,
      "metadata": {
        "id": "8gPAm8JZmWFb"
      },
      "outputs": [],
      "source": [
        "# Funções com número variável de argumentos\n",
        "# É muito comum encontrar como nome dessa variável: *args\n",
        "def printVarInfo( arg1, *vartuple ):\n",
        "\n",
        "   # Imprimindo o valor do primeiro argumento\n",
        "    print (\"O parâmetro passado foi: \", arg1)\n",
        "\n",
        "   # Imprimindo o valor do segundo argumento\n",
        "    for item in vartuple:\n",
        "        print (\"O parâmetro passado foi: \", item)\n",
        "    return;"
      ]
    },
    {
      "cell_type": "code",
      "execution_count": null,
      "metadata": {
        "id": "YC4C6i9rmWFc",
        "outputId": "c0dd86e2-dc59-467f-f851-93f174fd751f"
      },
      "outputs": [
        {
          "name": "stdout",
          "output_type": "stream",
          "text": [
            "O parâmetro passado foi:  10\n"
          ]
        }
      ],
      "source": [
        "# Fazendo chamada à função usando apenas 1 argumento\n",
        "printVarInfo(10)"
      ]
    },
    {
      "cell_type": "code",
      "execution_count": null,
      "metadata": {
        "id": "iqezGpOomWFd",
        "outputId": "7d7eb0f6-0515-4a8b-a997-b6c9fe1128e1"
      },
      "outputs": [
        {
          "name": "stdout",
          "output_type": "stream",
          "text": [
            "O parâmetro passado foi:  Chocolate\n",
            "O parâmetro passado foi:  Morango\n"
          ]
        }
      ],
      "source": [
        "printVarInfo('Chocolate', 'Morango')"
      ]
    },
    {
      "cell_type": "code",
      "execution_count": null,
      "metadata": {
        "id": "Xx36mXmKmWFd",
        "outputId": "4fa1a497-b376-485b-e768-e5052107cc6c"
      },
      "outputs": [
        {
          "name": "stdout",
          "output_type": "stream",
          "text": [
            "O parâmetro passado foi:  PyPRO\n",
            "O parâmetro passado foi:  Fatec\n",
            "O parâmetro passado foi:  CDN\n",
            "O parâmetro passado foi:  Ciência de Dados\n"
          ]
        }
      ],
      "source": [
        "printVarInfo('PyPRO', 'Fatec', 'CDN', 'Ciência de Dados')"
      ]
    },
    {
      "cell_type": "code",
      "execution_count": null,
      "metadata": {
        "id": "Hqkurpi4mWFe"
      },
      "outputs": [],
      "source": [
        "def somaNum(*args):\n",
        "    soma = 0\n",
        "    for n in args:\n",
        "        soma += n\n",
        "    return soma"
      ]
    },
    {
      "cell_type": "code",
      "execution_count": null,
      "metadata": {
        "id": "9TuawpEqmWFf",
        "outputId": "39c8dbb5-0423-4f5f-dcd8-fa5d33de5eec"
      },
      "outputs": [
        {
          "name": "stdout",
          "output_type": "stream",
          "text": [
            "0\n"
          ]
        }
      ],
      "source": [
        "s = somaNum()\n",
        "print(s)"
      ]
    },
    {
      "cell_type": "code",
      "execution_count": null,
      "metadata": {
        "id": "53pR6YKjmWFg",
        "outputId": "179d629f-6186-404d-ae9a-14db6295fb31"
      },
      "outputs": [
        {
          "name": "stdout",
          "output_type": "stream",
          "text": [
            "1\n"
          ]
        }
      ],
      "source": [
        "s = somaNum(1)\n",
        "print(s)"
      ]
    },
    {
      "cell_type": "code",
      "execution_count": null,
      "metadata": {
        "id": "4bBrMT02mWFg",
        "outputId": "24d34b35-cde5-46f7-df1a-c60b63206bae"
      },
      "outputs": [
        {
          "name": "stdout",
          "output_type": "stream",
          "text": [
            "158\n"
          ]
        }
      ],
      "source": [
        "s = somaNum(2, 6, 78, 23, 34, 12, 3)\n",
        "print(s)"
      ]
    },
    {
      "cell_type": "markdown",
      "metadata": {
        "id": "eAbpnkYlmWFh"
      },
      "source": [
        "## Escopo de Variável  - Local e Global"
      ]
    },
    {
      "cell_type": "code",
      "execution_count": null,
      "metadata": {
        "id": "u6C9FC2bmWFh"
      },
      "outputs": [],
      "source": [
        "# Variável Global\n",
        "var_global = 10  # Esta é uma variável global\n",
        "\n",
        "# Função\n",
        "def multiplica_numeros(num1, num2):\n",
        "    var_global = num1 * num2  # Esta é uma variável local\n",
        "    print(var_global)"
      ]
    },
    {
      "cell_type": "code",
      "execution_count": null,
      "metadata": {
        "id": "_1wP5bStmWFi",
        "outputId": "d0ae80d0-23ea-442b-c0f3-bcbaeffe9c2b"
      },
      "outputs": [
        {
          "name": "stdout",
          "output_type": "stream",
          "text": [
            "125\n"
          ]
        }
      ],
      "source": [
        "multiplica_numeros(5, 25)"
      ]
    },
    {
      "cell_type": "code",
      "execution_count": null,
      "metadata": {
        "id": "bmBU0p5mmWFj",
        "outputId": "dd9c5056-c950-4193-9188-6cb4efcaf00a"
      },
      "outputs": [
        {
          "name": "stdout",
          "output_type": "stream",
          "text": [
            "10\n"
          ]
        }
      ],
      "source": [
        "print(var_global)"
      ]
    },
    {
      "cell_type": "code",
      "execution_count": null,
      "metadata": {
        "id": "dd6c-Lo2mWFj"
      },
      "outputs": [],
      "source": [
        "# Variável Global\n",
        "var_global = 10  # Esta é uma variável global\n",
        "\n",
        "# Função\n",
        "def multiplica_numeros(num1, num2):\n",
        "    var_local = num1 * num2   # Esta é uma variável local\n",
        "    print(var_local)"
      ]
    },
    {
      "cell_type": "code",
      "execution_count": null,
      "metadata": {
        "id": "Cm4zQl3DmWFk",
        "outputId": "126a46b7-13eb-4523-d8ab-a0bb9ce8f0dc"
      },
      "outputs": [
        {
          "name": "stdout",
          "output_type": "stream",
          "text": [
            "125\n"
          ]
        }
      ],
      "source": [
        "multiplica_numeros(5, 25)"
      ]
    },
    {
      "cell_type": "code",
      "execution_count": null,
      "metadata": {
        "id": "U9N1BY_GmWFl",
        "outputId": "c59a9686-7933-4400-a284-bbb735ca13c0"
      },
      "outputs": [
        {
          "ename": "NameError",
          "evalue": "name 'var_local' is not defined",
          "output_type": "error",
          "traceback": [
            "\u001b[1;31m---------------------------------------------------------------------------\u001b[0m",
            "\u001b[1;31mNameError\u001b[0m                                 Traceback (most recent call last)",
            "Cell \u001b[1;32mIn[35], line 1\u001b[0m\n\u001b[1;32m----> 1\u001b[0m \u001b[38;5;28mprint\u001b[39m(var_local)\n",
            "\u001b[1;31mNameError\u001b[0m: name 'var_local' is not defined"
          ]
        }
      ],
      "source": [
        "print(var_local)"
      ]
    },
    {
      "cell_type": "code",
      "execution_count": null,
      "metadata": {
        "id": "U7Uwd1GHmWFl",
        "outputId": "28f19a2b-61c8-47b6-9597-c12bc4dee0c7"
      },
      "outputs": [
        {
          "name": "stdout",
          "output_type": "stream",
          "text": [
            "10\n"
          ]
        }
      ],
      "source": [
        "print(var_global)"
      ]
    },
    {
      "cell_type": "markdown",
      "metadata": {
        "id": "o_Z_86NomWFm"
      },
      "source": [
        "## Funções Built-in"
      ]
    },
    {
      "cell_type": "code",
      "execution_count": null,
      "metadata": {
        "id": "lrg0JtJUmWFn",
        "outputId": "36ec1a52-f4e0-446a-fc15-caab1eb81a38"
      },
      "outputs": [
        {
          "data": {
            "text/plain": [
              "56"
            ]
          },
          "execution_count": 37,
          "metadata": {},
          "output_type": "execute_result"
        }
      ],
      "source": [
        "abs(-56)"
      ]
    },
    {
      "cell_type": "code",
      "execution_count": null,
      "metadata": {
        "id": "6dtDvlNemWFn",
        "outputId": "a5a3b947-5732-41a5-df8a-6b5864fa5b12"
      },
      "outputs": [
        {
          "data": {
            "text/plain": [
              "23"
            ]
          },
          "execution_count": 38,
          "metadata": {},
          "output_type": "execute_result"
        }
      ],
      "source": [
        "abs(23)"
      ]
    },
    {
      "cell_type": "code",
      "execution_count": null,
      "metadata": {
        "id": "D_2Dz9oomWFo",
        "outputId": "cc798e08-d0cc-4d02-81c1-1a54186f58d5"
      },
      "outputs": [
        {
          "data": {
            "text/plain": [
              "False"
            ]
          },
          "execution_count": 39,
          "metadata": {},
          "output_type": "execute_result"
        }
      ],
      "source": [
        "bool(0)"
      ]
    },
    {
      "cell_type": "code",
      "execution_count": null,
      "metadata": {
        "id": "uEDYROKmmWFp",
        "outputId": "2b57ce70-cef3-454b-de9e-94986d3af4c9"
      },
      "outputs": [
        {
          "data": {
            "text/plain": [
              "True"
            ]
          },
          "execution_count": 40,
          "metadata": {},
          "output_type": "execute_result"
        }
      ],
      "source": [
        "bool(1)"
      ]
    },
    {
      "cell_type": "code",
      "execution_count": null,
      "metadata": {
        "id": "_xlnYYwqmWFq",
        "outputId": "a72e1c07-44a5-4620-ec86-0a916e3204b9"
      },
      "outputs": [
        {
          "data": {
            "text/plain": [
              "4"
            ]
          },
          "execution_count": 41,
          "metadata": {},
          "output_type": "execute_result"
        }
      ],
      "source": [
        "int(4.3)"
      ]
    },
    {
      "cell_type": "code",
      "execution_count": null,
      "metadata": {
        "id": "acrj0AB3mWFr",
        "outputId": "f0535f75-949c-4c52-da3f-cdb1e4a669d7"
      },
      "outputs": [
        {
          "data": {
            "text/plain": [
              "'13'"
            ]
          },
          "execution_count": 42,
          "metadata": {},
          "output_type": "execute_result"
        }
      ],
      "source": [
        "str(13)"
      ]
    },
    {
      "cell_type": "code",
      "execution_count": null,
      "metadata": {
        "id": "Dg_NGC5PmWFs",
        "outputId": "b1818816-f976-45cb-9f88-a68b7add185e"
      },
      "outputs": [
        {
          "data": {
            "text/plain": [
              "5.0"
            ]
          },
          "execution_count": 43,
          "metadata": {},
          "output_type": "execute_result"
        }
      ],
      "source": [
        "float(5)"
      ]
    },
    {
      "cell_type": "code",
      "execution_count": null,
      "metadata": {
        "id": "_sTCU6NFmWFt",
        "outputId": "a6b0a8e2-d21c-4c03-adf1-8b673d565d5b"
      },
      "outputs": [
        {
          "name": "stdin",
          "output_type": "stream",
          "text": [
            "Digite sua idade:  hhh\n"
          ]
        },
        {
          "ename": "TypeError",
          "evalue": "'>' not supported between instances of 'str' and 'int'",
          "output_type": "error",
          "traceback": [
            "\u001b[1;31m---------------------------------------------------------------------------\u001b[0m",
            "\u001b[1;31mTypeError\u001b[0m                                 Traceback (most recent call last)",
            "Cell \u001b[1;32mIn[44], line 3\u001b[0m\n\u001b[0;32m      1\u001b[0m \u001b[38;5;66;03m# Erro ao executar por causa da conversão\u001b[39;00m\n\u001b[0;32m      2\u001b[0m idade \u001b[38;5;241m=\u001b[39m \u001b[38;5;28minput\u001b[39m(\u001b[38;5;124m\"\u001b[39m\u001b[38;5;124mDigite sua idade: \u001b[39m\u001b[38;5;124m\"\u001b[39m)\n\u001b[1;32m----> 3\u001b[0m \u001b[38;5;28;01mif\u001b[39;00m idade \u001b[38;5;241m>\u001b[39m \u001b[38;5;241m13\u001b[39m:\n\u001b[0;32m      4\u001b[0m     \u001b[38;5;28mprint\u001b[39m(\u001b[38;5;124m\"\u001b[39m\u001b[38;5;124mVocê pode acessar Redes Sociais sem supervisão!\u001b[39m\u001b[38;5;124m\"\u001b[39m)  \n\u001b[0;32m      5\u001b[0m \u001b[38;5;28;01melse\u001b[39;00m:\n",
            "\u001b[1;31mTypeError\u001b[0m: '>' not supported between instances of 'str' and 'int'"
          ]
        }
      ],
      "source": [
        "# Erro ao executar por causa da conversão\n",
        "idade = input(\"Digite sua idade: \")\n",
        "if idade > 13:\n",
        "    print(\"Você pode acessar Redes Sociais sem supervisão!\")\n",
        "else:\n",
        "    print(\"Seus pais não deveriam você acessar Redes Sociais sem supervisão!\")"
      ]
    },
    {
      "cell_type": "code",
      "execution_count": null,
      "metadata": {
        "id": "SRR5m4EgmWFt",
        "outputId": "6bbdbdd3-cdc3-4395-a5a5-ac232fc6a167"
      },
      "outputs": [
        {
          "name": "stdin",
          "output_type": "stream",
          "text": [
            "Digite sua idade:  78\n"
          ]
        },
        {
          "name": "stdout",
          "output_type": "stream",
          "text": [
            "Você pode acessar Redes Sociais sem supervisão!\n"
          ]
        }
      ],
      "source": [
        "# Usando a função int para converter o valor digitado\n",
        "idade = int(input(\"Digite sua idade: \"))\n",
        "if idade > 13:\n",
        "    print(\"Você pode acessar Redes Sociais sem supervisão!\")\n",
        "else:\n",
        "    print(\"Seus pais não deveriam você acessar Redes Sociais sem supervisão!\")"
      ]
    },
    {
      "cell_type": "code",
      "execution_count": null,
      "metadata": {
        "id": "LzafFT9EmWFu",
        "outputId": "be4439ed-138f-409e-ecc4-fd1f152fa233"
      },
      "outputs": [
        {
          "data": {
            "text/plain": [
              "26"
            ]
          },
          "execution_count": 46,
          "metadata": {},
          "output_type": "execute_result"
        }
      ],
      "source": [
        "int(\"26\")"
      ]
    },
    {
      "cell_type": "code",
      "execution_count": null,
      "metadata": {
        "id": "QbepaWNvmWFw",
        "outputId": "895c8286-418c-4bf0-f5e9-30a2313fa1ee"
      },
      "outputs": [
        {
          "data": {
            "text/plain": [
              "123.345"
            ]
          },
          "execution_count": 47,
          "metadata": {},
          "output_type": "execute_result"
        }
      ],
      "source": [
        "float(\"123.345\")"
      ]
    },
    {
      "cell_type": "code",
      "execution_count": null,
      "metadata": {
        "id": "bHEagb25mWFw",
        "outputId": "7594249f-c497-4347-ab1c-fae9ea5a677e"
      },
      "outputs": [
        {
          "ename": "ValueError",
          "evalue": "could not convert string to float: '123.3A45'",
          "output_type": "error",
          "traceback": [
            "\u001b[1;31m---------------------------------------------------------------------------\u001b[0m",
            "\u001b[1;31mValueError\u001b[0m                                Traceback (most recent call last)",
            "Cell \u001b[1;32mIn[48], line 1\u001b[0m\n\u001b[1;32m----> 1\u001b[0m \u001b[38;5;28mfloat\u001b[39m(\u001b[38;5;124m\"\u001b[39m\u001b[38;5;124m123.3A45\u001b[39m\u001b[38;5;124m\"\u001b[39m)\n",
            "\u001b[1;31mValueError\u001b[0m: could not convert string to float: '123.3A45'"
          ]
        }
      ],
      "source": [
        "float(\"123.3A45\")"
      ]
    },
    {
      "cell_type": "code",
      "execution_count": null,
      "metadata": {
        "id": "ks8NeHpQmWFx",
        "outputId": "dcd00a3e-5a57-4ef8-a43a-fd8896c97e04"
      },
      "outputs": [
        {
          "data": {
            "text/plain": [
              "'14'"
            ]
          },
          "execution_count": 49,
          "metadata": {},
          "output_type": "execute_result"
        }
      ],
      "source": [
        "str(14)"
      ]
    },
    {
      "cell_type": "code",
      "execution_count": null,
      "metadata": {
        "id": "to7wdAjpmWFy",
        "outputId": "949bb00e-e5e5-47eb-a4ba-a9e8e1f64bd5"
      },
      "outputs": [
        {
          "data": {
            "text/plain": [
              "4"
            ]
          },
          "execution_count": 50,
          "metadata": {},
          "output_type": "execute_result"
        }
      ],
      "source": [
        "len([23,34,45,46])"
      ]
    },
    {
      "cell_type": "code",
      "execution_count": null,
      "metadata": {
        "id": "sMGk9mXHmWFz"
      },
      "outputs": [],
      "source": [
        "array = [1, 2, 3]"
      ]
    },
    {
      "cell_type": "code",
      "execution_count": null,
      "metadata": {
        "id": "nZhdnXPEmWF0",
        "outputId": "e3418395-0dd1-496a-bd5f-e32a7c8fa86d"
      },
      "outputs": [
        {
          "data": {
            "text/plain": [
              "3"
            ]
          },
          "execution_count": 52,
          "metadata": {},
          "output_type": "execute_result"
        }
      ],
      "source": [
        "max(array)"
      ]
    },
    {
      "cell_type": "code",
      "execution_count": null,
      "metadata": {
        "id": "lJDtMD3AmWF0",
        "outputId": "dd328b6a-5ade-4cd2-f3ee-c62635793c80"
      },
      "outputs": [
        {
          "data": {
            "text/plain": [
              "1"
            ]
          },
          "execution_count": 53,
          "metadata": {},
          "output_type": "execute_result"
        }
      ],
      "source": [
        "min(array)"
      ]
    },
    {
      "cell_type": "code",
      "execution_count": null,
      "metadata": {
        "id": "1XeGHl-AmWF1"
      },
      "outputs": [],
      "source": [
        "list1 = [16, 23, 44, 75]"
      ]
    },
    {
      "cell_type": "code",
      "execution_count": null,
      "metadata": {
        "id": "79i7g0vymWF2",
        "outputId": "9fb0eb93-c798-4c14-8cae-2318eea89cbe"
      },
      "outputs": [
        {
          "data": {
            "text/plain": [
              "158"
            ]
          },
          "execution_count": 55,
          "metadata": {},
          "output_type": "execute_result"
        }
      ],
      "source": [
        "sum(list1)"
      ]
    },
    {
      "cell_type": "markdown",
      "metadata": {
        "id": "I_iMxsp1mWF2"
      },
      "source": [
        "## Criando Funções Usando Outras Funções\n",
        "\n",
        "https://pypi.org/"
      ]
    },
    {
      "cell_type": "code",
      "execution_count": null,
      "metadata": {
        "id": "tYWpt-urmWF3"
      },
      "outputs": [],
      "source": [
        "import math\n",
        "\n",
        "# Verificando se um número é primo\n",
        "def numPrimo(num):\n",
        "    if (num % 2) == 0 and num > 2:\n",
        "        return \"Este número não é primo\"\n",
        "    for i in range(3, int(math.sqrt(num)) + 1, 2):\n",
        "        if (num % i) == 0:\n",
        "            return \"Este número não é primo\"\n",
        "    return \"Este número é primo\""
      ]
    },
    {
      "cell_type": "code",
      "execution_count": null,
      "metadata": {
        "id": "CS8CtHNQmWF4",
        "outputId": "40e3db34-3eb0-4f48-f1ff-dc3528f80710"
      },
      "outputs": [
        {
          "data": {
            "text/plain": [
              "'Este número é primo'"
            ]
          },
          "execution_count": 57,
          "metadata": {},
          "output_type": "execute_result"
        }
      ],
      "source": [
        "numPrimo(541)"
      ]
    },
    {
      "cell_type": "code",
      "execution_count": null,
      "metadata": {
        "id": "av53kMxOmWF5",
        "outputId": "55c4fa3c-6a4e-4dcf-af30-c7b4165c4437"
      },
      "outputs": [
        {
          "data": {
            "text/plain": [
              "'Este número é primo'"
            ]
          },
          "execution_count": 58,
          "metadata": {},
          "output_type": "execute_result"
        }
      ],
      "source": [
        "numPrimo(2)"
      ]
    },
    {
      "cell_type": "code",
      "execution_count": null,
      "metadata": {
        "id": "MrlUO6VwmWF6",
        "outputId": "534e6cf0-f165-4507-b8ad-8be57da750d2"
      },
      "outputs": [
        {
          "data": {
            "text/plain": [
              "'Este número não é primo'"
            ]
          },
          "execution_count": 59,
          "metadata": {},
          "output_type": "execute_result"
        }
      ],
      "source": [
        "numPrimo(6)"
      ]
    },
    {
      "cell_type": "code",
      "execution_count": null,
      "metadata": {
        "id": "p5w1Or4ZmWF6"
      },
      "outputs": [],
      "source": [
        "caixa_baixa = \"Este Texto Deveria Estar Todo Em LowerCase\""
      ]
    },
    {
      "cell_type": "code",
      "execution_count": null,
      "metadata": {
        "id": "QfZ7rZa_mWF7"
      },
      "outputs": [],
      "source": [
        "def lowercase(text):\n",
        "    return text.lower()"
      ]
    },
    {
      "cell_type": "code",
      "execution_count": null,
      "metadata": {
        "id": "v1FXsYtHmWF8"
      },
      "outputs": [],
      "source": [
        "string_caixa_baixa = lowercase(caixa_baixa)"
      ]
    },
    {
      "cell_type": "code",
      "execution_count": null,
      "metadata": {
        "id": "OrenudFmmWF8",
        "outputId": "e5f3c033-3f57-4f31-c366-3c44174e1b48"
      },
      "outputs": [
        {
          "data": {
            "text/plain": [
              "'este texto deveria estar todo em lowercase'"
            ]
          },
          "execution_count": 63,
          "metadata": {},
          "output_type": "execute_result"
        }
      ],
      "source": [
        "string_caixa_baixa"
      ]
    },
    {
      "cell_type": "markdown",
      "metadata": {
        "id": "pN2GIc9TmWF9"
      },
      "source": [
        "## Fazendo Split dos Dados"
      ]
    },
    {
      "cell_type": "code",
      "execution_count": null,
      "metadata": {
        "id": "O3fTpemtmWF-"
      },
      "outputs": [],
      "source": [
        "# Fazendo split dos dados\n",
        "def split_string_palavras(text):\n",
        "    return text.split(\" \")"
      ]
    },
    {
      "cell_type": "code",
      "execution_count": null,
      "metadata": {
        "id": "Utbii3UxmWF-"
      },
      "outputs": [],
      "source": [
        "texto = \"Esta função será bastante útil para separar grandes volumes de dados.\""
      ]
    },
    {
      "cell_type": "code",
      "execution_count": null,
      "metadata": {
        "id": "w1UjJpVCmWF_",
        "outputId": "bfcc8270-2d6f-4f47-fd4b-e26cd56d21ef"
      },
      "outputs": [
        {
          "name": "stdout",
          "output_type": "stream",
          "text": [
            "['Esta', 'função', 'será', 'bastante', 'útil', 'para', 'separar', 'grandes', 'volumes', 'de', 'dados.']\n"
          ]
        }
      ],
      "source": [
        "# Isso divide a string em uma lista de palavras\n",
        "print(split_string_palavras(texto))"
      ]
    },
    {
      "cell_type": "code",
      "execution_count": null,
      "metadata": {
        "id": "LsUJp5NPmWGA"
      },
      "outputs": [],
      "source": [
        "# Podemos atribuir o output de uma função para uma variável\n",
        "token = split_string_palavras(texto)"
      ]
    },
    {
      "cell_type": "code",
      "execution_count": null,
      "metadata": {
        "id": "OSd-Gz9DmWGA",
        "outputId": "ea0e4dfb-1277-4785-9182-49f7775ba4a0"
      },
      "outputs": [
        {
          "data": {
            "text/plain": [
              "['Esta',\n",
              " 'função',\n",
              " 'será',\n",
              " 'bastante',\n",
              " 'útil',\n",
              " 'para',\n",
              " 'separar',\n",
              " 'grandes',\n",
              " 'volumes',\n",
              " 'de',\n",
              " 'dados.']"
            ]
          },
          "execution_count": 68,
          "metadata": {},
          "output_type": "execute_result"
        }
      ],
      "source": [
        "token"
      ]
    },
    {
      "cell_type": "code",
      "execution_count": null,
      "metadata": {
        "id": "vmpiuB6BmWGB"
      },
      "outputs": [],
      "source": [
        "# Fazendo split dos dados\n",
        "def split_string_letras(text):\n",
        "    texto = text.upper()\n",
        "    for letra in texto:\n",
        "        print(letra)"
      ]
    },
    {
      "cell_type": "code",
      "execution_count": null,
      "metadata": {
        "id": "zNy1M7sGmWGC",
        "outputId": "9493ca77-81f4-4946-e3e9-ebb405292671"
      },
      "outputs": [
        {
          "name": "stdout",
          "output_type": "stream",
          "text": [
            "E\n",
            "S\n",
            "T\n",
            "A\n",
            " \n",
            "F\n",
            "U\n",
            "N\n",
            "Ç\n",
            "Ã\n",
            "O\n",
            " \n",
            "S\n",
            "E\n",
            "R\n",
            "Á\n",
            " \n",
            "B\n",
            "A\n",
            "S\n",
            "T\n",
            "A\n",
            "N\n",
            "T\n",
            "E\n",
            " \n",
            "Ú\n",
            "T\n",
            "I\n",
            "L\n",
            " \n",
            "P\n",
            "A\n",
            "R\n",
            "A\n",
            " \n",
            "S\n",
            "E\n",
            "P\n",
            "A\n",
            "R\n",
            "A\n",
            "R\n",
            " \n",
            "G\n",
            "R\n",
            "A\n",
            "N\n",
            "D\n",
            "E\n",
            "S\n",
            " \n",
            "V\n",
            "O\n",
            "L\n",
            "U\n",
            "M\n",
            "E\n",
            "S\n",
            " \n",
            "D\n",
            "E\n",
            " \n",
            "D\n",
            "A\n",
            "D\n",
            "O\n",
            "S\n",
            ".\n"
          ]
        }
      ],
      "source": [
        "split_string_letras(texto)"
      ]
    },
    {
      "cell_type": "markdown",
      "metadata": {
        "id": "xNSLaT9WmWGC"
      },
      "source": [
        "## Expressão ou Função Lambda"
      ]
    },
    {
      "cell_type": "code",
      "execution_count": null,
      "metadata": {
        "id": "lpfEK0PTmWGD"
      },
      "outputs": [],
      "source": [
        "# Definindo uma função - 3 linhas de código\n",
        "def potencia(num):\n",
        "    resultado = num ** 2\n",
        "    return resultado"
      ]
    },
    {
      "cell_type": "code",
      "execution_count": null,
      "metadata": {
        "id": "uPTjjbCJmWGE",
        "outputId": "a90ad40d-4da3-4b48-b72b-086f6c1e3ba3"
      },
      "outputs": [
        {
          "data": {
            "text/plain": [
              "25"
            ]
          },
          "execution_count": 72,
          "metadata": {},
          "output_type": "execute_result"
        }
      ],
      "source": [
        "potencia(5)"
      ]
    },
    {
      "cell_type": "code",
      "execution_count": null,
      "metadata": {
        "id": "42t_TdYemWGF"
      },
      "outputs": [],
      "source": [
        "# Definindo uma função - 1 linha de código\n",
        "def potencia(num): return num ** 2"
      ]
    },
    {
      "cell_type": "code",
      "execution_count": null,
      "metadata": {
        "id": "qeFS9K0PmWGF",
        "outputId": "a7a9a1b8-930d-47c4-87ee-bad314832536"
      },
      "outputs": [
        {
          "data": {
            "text/plain": [
              "25"
            ]
          },
          "execution_count": 74,
          "metadata": {},
          "output_type": "execute_result"
        }
      ],
      "source": [
        "potencia(5)"
      ]
    },
    {
      "cell_type": "code",
      "execution_count": null,
      "metadata": {
        "id": "TQRU2ycUmWGG"
      },
      "outputs": [],
      "source": [
        "# Definindo uma expressão lambda (função anônima)\n",
        "potencia = lambda num: num ** 2"
      ]
    },
    {
      "cell_type": "code",
      "execution_count": null,
      "metadata": {
        "id": "e2gvAxovmWGG",
        "outputId": "d04c114a-4e2d-4446-9e19-d1e9c1a8d6f2"
      },
      "outputs": [
        {
          "data": {
            "text/plain": [
              "25"
            ]
          },
          "execution_count": 76,
          "metadata": {},
          "output_type": "execute_result"
        }
      ],
      "source": [
        "potencia(5)"
      ]
    },
    {
      "cell_type": "code",
      "execution_count": null,
      "metadata": {
        "id": "Pzr_QZx-mWGH"
      },
      "outputs": [],
      "source": [
        "# Lembre: operadores de comparação retornam boolean: true or false\n",
        "par = lambda x: x%2==0"
      ]
    },
    {
      "cell_type": "code",
      "execution_count": null,
      "metadata": {
        "id": "fMp_43EJmWGI",
        "outputId": "bf975f87-1c51-4ba0-e4a4-64f6e21141f0"
      },
      "outputs": [
        {
          "data": {
            "text/plain": [
              "False"
            ]
          },
          "execution_count": 78,
          "metadata": {},
          "output_type": "execute_result"
        }
      ],
      "source": [
        "par(3)"
      ]
    },
    {
      "cell_type": "code",
      "execution_count": null,
      "metadata": {
        "id": "fgR0xYA7mWGI"
      },
      "outputs": [],
      "source": [
        "primeira_letra = lambda s: s[0]"
      ]
    },
    {
      "cell_type": "code",
      "execution_count": null,
      "metadata": {
        "id": "dIwRbYx9mWGJ",
        "outputId": "3b66d683-b5d5-4e1e-f589-5573a1d76dcc"
      },
      "outputs": [
        {
          "data": {
            "text/plain": [
              "'F'"
            ]
          },
          "execution_count": 80,
          "metadata": {},
          "output_type": "execute_result"
        }
      ],
      "source": [
        "primeira_letra(\"Fatec Votorantim\")"
      ]
    },
    {
      "cell_type": "code",
      "execution_count": null,
      "metadata": {
        "id": "18Wuu63TmWGK"
      },
      "outputs": [],
      "source": [
        "reverso = lambda s: s[::-1]"
      ]
    },
    {
      "cell_type": "code",
      "execution_count": null,
      "metadata": {
        "id": "WQUUe6iMmWGK",
        "outputId": "0b7b3908-7cd4-4405-8b18-6a3ffb6c0d95"
      },
      "outputs": [
        {
          "data": {
            "text/plain": [
              "'mitnarotoV cetaF'"
            ]
          },
          "execution_count": 82,
          "metadata": {},
          "output_type": "execute_result"
        }
      ],
      "source": [
        "reverso(\"Fatec Votorantim\")"
      ]
    },
    {
      "cell_type": "code",
      "execution_count": null,
      "metadata": {
        "id": "vwGqUa0QmWGL"
      },
      "outputs": [],
      "source": [
        "adicao = lambda x,y : x+y"
      ]
    },
    {
      "cell_type": "code",
      "execution_count": null,
      "metadata": {
        "id": "S71xmYdumWGM",
        "outputId": "ca96c254-5d17-4d92-95e4-f7c7352e1205"
      },
      "outputs": [
        {
          "data": {
            "text/plain": [
              "8"
            ]
          },
          "execution_count": 84,
          "metadata": {},
          "output_type": "execute_result"
        }
      ],
      "source": [
        "adicao(3, 5)"
      ]
    },
    {
      "cell_type": "markdown",
      "metadata": {
        "id": "2T2jAvy9mWGO"
      },
      "source": [
        "## Exercícios"
      ]
    },
    {
      "cell_type": "markdown",
      "metadata": {
        "id": "ncLBCttTmWGO"
      },
      "source": [
        "1.\tFaça um programa, com uma função que receba uma quantidade variável de argumentos, e que forneça a soma desses argumentos."
      ]
    },
    {
      "cell_type": "code",
      "execution_count": null,
      "metadata": {
        "id": "bZTeAHOVmWGP",
        "outputId": "46474b33-a4c9-4e59-ce16-9adcf57225ad"
      },
      "outputs": [
        {
          "name": "stdin",
          "output_type": "stream",
          "text": [
            "Entre com um valor (digite -1 para finalizar):  53\n",
            "Entre com um valor (digite -1 para finalizar):  21\n",
            "Entre com um valor (digite -1 para finalizar):  526\n",
            "Entre com um valor (digite -1 para finalizar):  77\n",
            "Entre com um valor (digite -1 para finalizar):  45\n",
            "Entre com um valor (digite -1 para finalizar):  -1\n"
          ]
        },
        {
          "name": "stdout",
          "output_type": "stream",
          "text": [
            "722.0\n"
          ]
        }
      ],
      "source": [
        "def soma (x):\n",
        "    soma = 0\n",
        "    for n in x:\n",
        "        soma = soma + n\n",
        "    return soma\n",
        "\n",
        "l = []\n",
        "while True:\n",
        "    num = float(input(\"Entre com um valor (digite -1 para finalizar): \"))\n",
        "    if num != -1.0:\n",
        "        l.append(num)\n",
        "    else:\n",
        "        break\n",
        "\n",
        "valores = tuple(l)\n",
        "print(soma(valores))"
      ]
    },
    {
      "cell_type": "code",
      "execution_count": null,
      "metadata": {
        "id": "uXO92i0nmWGQ"
      },
      "outputs": [],
      "source": []
    },
    {
      "cell_type": "markdown",
      "metadata": {
        "id": "KkVX3Ke1mWGQ"
      },
      "source": [
        "2.\tFaça um script, com uma função que necessite de um argumento. A função retorna o valor de caractere ‘P’, se seu argumento for positivo, e ‘N’, se seu argumento for zero ou negativo."
      ]
    },
    {
      "cell_type": "code",
      "execution_count": null,
      "metadata": {
        "id": "JT8fzSzumWGR",
        "outputId": "39971f9b-7cf9-4a62-908b-fe39f9fbfb69"
      },
      "outputs": [
        {
          "name": "stdin",
          "output_type": "stream",
          "text": [
            "Digite o valor:  3466\n"
          ]
        },
        {
          "name": "stdout",
          "output_type": "stream",
          "text": [
            "O valor é:  P\n"
          ]
        }
      ],
      "source": [
        "def positivo_negativo(valor):\n",
        "    if  valor <= 0:\n",
        "        return \"N\"\n",
        "    else:\n",
        "        return \"P\"\n",
        "\n",
        "valor = int(input(\"Digite o valor: \"))\n",
        "print(\"O valor é: \", positivo_negativo(valor))"
      ]
    },
    {
      "cell_type": "code",
      "execution_count": null,
      "metadata": {
        "id": "JqIWDimKmWGS",
        "outputId": "93f271e7-1f7b-4c32-c4b3-4e07aaf0d49f"
      },
      "outputs": [
        {
          "name": "stdin",
          "output_type": "stream",
          "text": [
            "Digite o valor:  47\n"
          ]
        },
        {
          "name": "stdout",
          "output_type": "stream",
          "text": [
            "O valor é:  P\n"
          ]
        }
      ],
      "source": [
        "positivo_negativo = lambda valor:  \"N\" if valor <= 0 else \"P\"\n",
        "\n",
        "valor = int(input(\"Digite o valor: \"))\n",
        "print(\"O valor é: \", positivo_negativo(valor))"
      ]
    },
    {
      "cell_type": "markdown",
      "metadata": {
        "id": "swqECaE0mWGS"
      },
      "source": [
        "3. Faça uma função que receba como parâmetro o raio de uma esfera, calcule e retorne o valor de seu volume. Volume da Esfera : v = 4/3 π * R3"
      ]
    },
    {
      "cell_type": "code",
      "execution_count": null,
      "metadata": {
        "id": "pR4iq4ovmWGT",
        "outputId": "326de74d-cbb1-40aa-d17e-703a98d3f402"
      },
      "outputs": [
        {
          "name": "stdin",
          "output_type": "stream",
          "text": [
            "Digite o raio da esfera:  130\n"
          ]
        },
        {
          "name": "stdout",
          "output_type": "stream",
          "text": [
            "O volume da esfera de raio 130.0 é 9202772.0799157.\n"
          ]
        }
      ],
      "source": [
        "from math import pi, pow\n",
        "def volume(raio):\n",
        "    return (4/3) * pi * pow(raio, 3)\n",
        "\n",
        "raio = float(input(\"Digite o raio da esfera: \"))\n",
        "volume = volume(raio)\n",
        "print(f\"O volume da esfera de raio {raio} é {volume}.\")"
      ]
    },
    {
      "cell_type": "markdown",
      "metadata": {
        "id": "i-mdstkomWGU"
      },
      "source": [
        "4. Faça um programa com uma função chamada somaImposto. A função possui dois parâmetros formais: taxaImposto, que é a quantia de imposto sobre vendas expressa em porcentagem e custo, que é o custo de um item antes do imposto. A função “altera” o valor de custo para incluir o imposto sobre vendas."
      ]
    },
    {
      "cell_type": "code",
      "execution_count": null,
      "metadata": {
        "id": "C2P2I1-YmWGU"
      },
      "outputs": [],
      "source": [
        "def somaImposto()\n",
        "\n",
        "\n",
        "taxaImposto = imposto / venda"
      ]
    },
    {
      "cell_type": "code",
      "execution_count": null,
      "metadata": {
        "id": "5SGm4b3gmWGV"
      },
      "outputs": [],
      "source": []
    },
    {
      "cell_type": "markdown",
      "metadata": {
        "id": "3uMcnWUgmWGV"
      },
      "source": [
        "5. Faça um programa que use a função valorPagamento para determinar o valor a ser pago por uma prestação de uma conta. O programa deverá solicitar ao usuário o valor da prestação e o número de dias em atraso e passar estes valores para a função valorPagamento, que calculará o valor a ser pago e devolverá este valor ao programa que a chamou. O programa deverá então exibir o valor a ser pago na tela. Após a execução o programa deverá voltar a pedir outro valor de prestação e assim continuar até que seja informado um valor igual a zero para a prestação. Neste momento o programa deverá ser encerrado, exibindo o relatório do dia, que conterá a quantidade e o valor total de prestações pagas no dia. O cálculo do valor a ser pago é feito da seguinte forma. Para pagamentos sem atraso, cobrar o valor da prestação. Quando houver atraso, cobrar 3% de multa, mais 0,1% de juros por dia de atraso"
      ]
    },
    {
      "cell_type": "code",
      "execution_count": 1,
      "metadata": {
        "colab": {
          "base_uri": "https://localhost:8080/"
        },
        "id": "dWYFGb0MmWGW",
        "outputId": "af64f4f7-9bc9-42ef-e6c1-b25ea0362628"
      },
      "outputs": [
        {
          "output_type": "stream",
          "name": "stdout",
          "text": [
            "Digite o valor da prestação (0 para encerrar): 42\n",
            "Digite o número de dias em atraso: 3445\n",
            "Valor a ser pago: R$187.95\n",
            "Digite o valor da prestação (0 para encerrar): 2453\n",
            "Digite o número de dias em atraso: 53\n",
            "Valor a ser pago: R$2656.60\n",
            "Digite o valor da prestação (0 para encerrar): 2252\n",
            "Digite o número de dias em atraso: 0\n",
            "Valor a ser pago: R$2252.00\n",
            "Digite o valor da prestação (0 para encerrar): 0\n",
            "\n",
            "Relatório do dia:\n",
            "Quantidade de prestações pagas: 3\n",
            "Valor total de prestações pagas: R$5096.55\n"
          ]
        }
      ],
      "source": [
        "def valorPagamento(valor_prestacao, dias_atraso):\n",
        "    \"\"\"\n",
        "    Calcula o valor a ser pago por uma prestação, considerando multa e juros por atraso.\n",
        "\n",
        "    Args:\n",
        "    valor_prestacao (float): Valor da prestação.\n",
        "    dias_atraso (int): Número de dias em atraso.\n",
        "\n",
        "    Returns:\n",
        "    float: Valor total a ser pago.\n",
        "    \"\"\"\n",
        "    if dias_atraso > 0:\n",
        "        multa = 0.03 * valor_prestacao\n",
        "        juros = 0.001 * valor_prestacao * dias_atraso\n",
        "        valor_total = valor_prestacao + multa + juros\n",
        "    else:\n",
        "        valor_total = valor_prestacao\n",
        "\n",
        "    return valor_total\n",
        "\n",
        "def main():\n",
        "    quantidade_prestacoes = 0\n",
        "    valor_total_prestacoes = 0.0\n",
        "\n",
        "    while True:\n",
        "        valor_prestacao = float(input(\"Digite o valor da prestação (0 para encerrar): \"))\n",
        "        if valor_prestacao == 0:\n",
        "            break\n",
        "        dias_atraso = int(input(\"Digite o número de dias em atraso: \"))\n",
        "\n",
        "        valor_a_pagar = valorPagamento(valor_prestacao, dias_atraso)\n",
        "        print(f\"Valor a ser pago: R${valor_a_pagar:.2f}\")\n",
        "\n",
        "        quantidade_prestacoes += 1\n",
        "        valor_total_prestacoes += valor_a_pagar\n",
        "\n",
        "    # Exibindo o relatório do dia\n",
        "    print(\"\\nRelatório do dia:\")\n",
        "    print(f\"Quantidade de prestações pagas: {quantidade_prestacoes}\")\n",
        "    print(f\"Valor total de prestações pagas: R${valor_total_prestacoes:.2f}\")\n",
        "\n",
        "# Executando o programa principal\n",
        "if __name__ == \"__main__\":\n",
        "    main()"
      ]
    },
    {
      "cell_type": "code",
      "execution_count": null,
      "metadata": {
        "id": "QrIaq9oUmWGW"
      },
      "outputs": [],
      "source": [
        "\n"
      ]
    },
    {
      "cell_type": "markdown",
      "metadata": {
        "id": "JJ2krpEEmWGX"
      },
      "source": [
        "6. Embaralha palavra. Construa uma função que receba uma string como parâmetro e devolva outra string com os carateres embaralhados. Por exemplo: se função receber a palavra python, pode retornar npthyo, ophtyn ou qualquer outra combinação possível, de forma aleatória. Padronize em sua função que todos os caracteres serão devolvidos em caixa alta ou caixa baixa, independentemente de como foram digitados"
      ]
    },
    {
      "cell_type": "code",
      "execution_count": 2,
      "metadata": {
        "colab": {
          "base_uri": "https://localhost:8080/"
        },
        "id": "0UOrp-HQmWGX",
        "outputId": "4b43901e-6921-4447-d78e-3ffc7818a998"
      },
      "outputs": [
        {
          "output_type": "stream",
          "name": "stdout",
          "text": [
            "Digite uma palavra para embaralhar: gargalhada\n",
            "Palavra embaralhada: adlaraaghg\n"
          ]
        }
      ],
      "source": [
        "import random\n",
        "\n",
        "def embaralha_palavra(palavra):\n",
        "    \"\"\"\n",
        "    Recebe uma string e devolve outra string com os caracteres embaralhados.\n",
        "    Os caracteres serão devolvidos em caixa baixa.\n",
        "\n",
        "    Args:\n",
        "    palavra (str): A palavra a ser embaralhada.\n",
        "\n",
        "    Returns:\n",
        "    str: A palavra com os caracteres embaralhados.\n",
        "    \"\"\"\n",
        "    palavra = palavra.lower()  # Padroniza a palavra para caixa baixa\n",
        "    caracteres = list(palavra)  # Converte a palavra em uma lista de caracteres\n",
        "    random.shuffle(caracteres)  # Embaralha os caracteres\n",
        "    palavra_embaralhada = ''.join(caracteres)  # Junta os caracteres em uma string\n",
        "    return palavra_embaralhada\n",
        "\n",
        "# Testando a função\n",
        "palavra = input(\"Digite uma palavra para embaralhar: \")\n",
        "palavra_embaralhada = embaralha_palavra(palavra)\n",
        "print(f\"Palavra embaralhada: {palavra_embaralhada}\")\n"
      ]
    },
    {
      "cell_type": "code",
      "execution_count": null,
      "metadata": {
        "id": "I7ZA6kkJmWGY"
      },
      "outputs": [],
      "source": []
    },
    {
      "cell_type": "markdown",
      "metadata": {
        "id": "qMcEvbFimWGY"
      },
      "source": [
        "## FIM"
      ]
    }
  ],
  "metadata": {
    "kernelspec": {
      "display_name": "Python 3 (ipykernel)",
      "language": "python",
      "name": "python3"
    },
    "language_info": {
      "codemirror_mode": {
        "name": "ipython",
        "version": 3
      },
      "file_extension": ".py",
      "mimetype": "text/x-python",
      "name": "python",
      "nbconvert_exporter": "python",
      "pygments_lexer": "ipython3",
      "version": "3.11.7"
    },
    "colab": {
      "provenance": []
    }
  },
  "nbformat": 4,
  "nbformat_minor": 0
}