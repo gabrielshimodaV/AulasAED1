{
  "cells": [
    {
      "cell_type": "markdown",
      "metadata": {
        "id": "aFrC-KnUe4an"
      },
      "source": [
        "## <font color='blue'>Algoritmos e Estrutura de Dados</font>\n",
        "## <font color='blue'>Aula 8 -  Condicionais</font>"
      ]
    },
    {
      "cell_type": "code",
      "execution_count": null,
      "metadata": {
        "id": "1-IebLtme4at",
        "outputId": "a2ca56f9-e0ed-49a9-da7a-1ece264deca9"
      },
      "outputs": [
        {
          "name": "stdout",
          "output_type": "stream",
          "text": [
            "Versão da Linguagem Python Usada Neste Jupyter Notebook: 3.11.5\n"
          ]
        }
      ],
      "source": [
        "# Versão da Linguagem Python\n",
        "from platform import python_version\n",
        "print('Versão da Linguagem Python Usada Neste Jupyter Notebook:', python_version())"
      ]
    },
    {
      "cell_type": "markdown",
      "metadata": {
        "id": "ewu1yusae4ay"
      },
      "source": [
        "## Condicional If"
      ]
    },
    {
      "cell_type": "code",
      "execution_count": null,
      "metadata": {
        "id": "Qdp2mayBe4az",
        "outputId": "e5faecbc-0da3-4147-e33d-da838ee62dfe"
      },
      "outputs": [
        {
          "name": "stdout",
          "output_type": "stream",
          "text": [
            "A sentença é verdadeira!\n",
            "Final\n"
          ]
        }
      ],
      "source": [
        "# Condicional If (Se)\n",
        "if 5 > 2:\n",
        "    print(\"A sentença é verdadeira!\")\n",
        "print(\"Final\")"
      ]
    },
    {
      "cell_type": "code",
      "execution_count": null,
      "metadata": {
        "id": "kGxZZGWDe4a0",
        "outputId": "234aa96f-e2cf-4957-f093-509ee8b0bde2"
      },
      "outputs": [
        {
          "name": "stdout",
          "output_type": "stream",
          "text": [
            "A sentença é verdadeira!\n",
            "final\n"
          ]
        }
      ],
      "source": [
        "# Condicional If...Else\n",
        "if 5 > 2:\n",
        "    print(\"A sentença é verdadeira!\")\n",
        "else:\n",
        "    print(\"A sentença é falsa!\")\n",
        "print(\"final\")"
      ]
    },
    {
      "cell_type": "code",
      "execution_count": null,
      "metadata": {
        "id": "NSJsMz6fe4a1",
        "outputId": "372c9e98-c1e1-4532-8704-22ca512865d4"
      },
      "outputs": [
        {
          "name": "stdout",
          "output_type": "stream",
          "text": [
            "Hoje fará sol!\n"
          ]
        }
      ],
      "source": [
        "# Condicional If...Else com variável\n",
        "dia = \"Segunda\"\n",
        "if dia == \"Segunda\":\n",
        "    print(\"Hoje fará sol!\")\n",
        "else:\n",
        "    print(\"Hoje vai chover!\")"
      ]
    },
    {
      "cell_type": "code",
      "execution_count": null,
      "metadata": {
        "id": "-J-jxf4Ze4a2",
        "outputId": "9c49a8f6-397e-47ac-b465-8b4026191b87"
      },
      "outputs": [
        {
          "name": "stdout",
          "output_type": "stream",
          "text": [
            "Qual do dia da semana: terca\n",
            "Sem previsão do tempo para o dia selecionado\n"
          ]
        }
      ],
      "source": [
        "# Podemos usar o operador elif para validar mais de uma condição\n",
        "dia = input(\"Qual do dia da semana: \")\n",
        "if dia == \"Segunda\":\n",
        "    print(\"Hoje fará sol!\")\n",
        "elif dia == \"Terça\":\n",
        "    print(\"Hoje vai chover!\")\n",
        "else:\n",
        "    print(\"Sem previsão do tempo para o dia selecionado\")"
      ]
    },
    {
      "cell_type": "markdown",
      "metadata": {
        "id": "jbOflGDfe4a3"
      },
      "source": [
        "## Operadores Relacionais\n",
        "\n",
        "Retorna um valor booleano."
      ]
    },
    {
      "cell_type": "code",
      "execution_count": null,
      "metadata": {
        "id": "d8mvSt7ce4a4",
        "outputId": "117f7c07-50f2-414f-c79f-fd68678edc45"
      },
      "outputs": [
        {
          "data": {
            "text/plain": [
              "True"
            ]
          },
          "execution_count": 23,
          "metadata": {},
          "output_type": "execute_result"
        }
      ],
      "source": [
        "6 > 3"
      ]
    },
    {
      "cell_type": "code",
      "execution_count": null,
      "metadata": {
        "id": "mqZEta2Ye4a5",
        "outputId": "c44aea0a-bfe5-4ab7-dfe8-16dd325b2875"
      },
      "outputs": [
        {
          "data": {
            "text/plain": [
              "False"
            ]
          },
          "execution_count": 25,
          "metadata": {},
          "output_type": "execute_result"
        }
      ],
      "source": [
        "3 > 7"
      ]
    },
    {
      "cell_type": "code",
      "execution_count": null,
      "metadata": {
        "id": "pM-lOOqMe4a5",
        "outputId": "72a64c55-0bfe-4b4b-c41e-fb2e98b6e782"
      },
      "outputs": [
        {
          "data": {
            "text/plain": [
              "True"
            ]
          },
          "execution_count": 26,
          "metadata": {},
          "output_type": "execute_result"
        }
      ],
      "source": [
        "4 < 8"
      ]
    },
    {
      "cell_type": "code",
      "execution_count": null,
      "metadata": {
        "id": "HW2Vn2j3e4a6",
        "outputId": "77ee0830-2497-440c-e984-8e6c982456af"
      },
      "outputs": [
        {
          "data": {
            "text/plain": [
              "True"
            ]
          },
          "execution_count": 27,
          "metadata": {},
          "output_type": "execute_result"
        }
      ],
      "source": [
        "4 >= 4"
      ]
    },
    {
      "cell_type": "code",
      "execution_count": null,
      "metadata": {
        "id": "XVw7Hvgbe4a7",
        "outputId": "c7cbc22b-3981-4d20-ea3f-7fdc4c33fd73"
      },
      "outputs": [
        {
          "data": {
            "text/plain": [
              "True"
            ]
          },
          "execution_count": 28,
          "metadata": {},
          "output_type": "execute_result"
        }
      ],
      "source": [
        "5 == 5"
      ]
    },
    {
      "cell_type": "code",
      "execution_count": null,
      "metadata": {
        "id": "2ea7ZlVoe4a8",
        "outputId": "93be7a3b-db8b-474f-8645-33bf93a3cac1"
      },
      "outputs": [
        {
          "name": "stdout",
          "output_type": "stream",
          "text": [
            "Testando Python!\n"
          ]
        }
      ],
      "source": [
        "if 5 == 5:\n",
        "    print(\"Testando Python!\")"
      ]
    },
    {
      "cell_type": "code",
      "execution_count": null,
      "metadata": {
        "id": "5VVDKUZme4a9",
        "outputId": "6303c767-eef0-4efe-b373-898bcac712b3"
      },
      "outputs": [
        {
          "name": "stdout",
          "output_type": "stream",
          "text": [
            "Parece que Python funciona!\n"
          ]
        }
      ],
      "source": [
        "if True:\n",
        "    print('Parece que Python funciona!')"
      ]
    },
    {
      "cell_type": "code",
      "execution_count": null,
      "metadata": {
        "id": "HldYSRLse4a-",
        "outputId": "7146d29e-7ea2-4767-d382-112dfcde8752"
      },
      "outputs": [
        {
          "name": "stdout",
          "output_type": "stream",
          "text": [
            "Tudo funciona!\n"
          ]
        }
      ],
      "source": [
        "# Atenção com a sintaxe\n",
        "if 4 > 3:\n",
        "    print(\"Tudo funciona!\")"
      ]
    },
    {
      "cell_type": "code",
      "execution_count": null,
      "metadata": {
        "id": "jvwtqFDPe4a-",
        "outputId": "897f51a8-85e7-476a-8113-602457eea040"
      },
      "outputs": [
        {
          "name": "stdout",
          "output_type": "stream",
          "text": [
            "Tudo funciona!\n"
          ]
        }
      ],
      "source": [
        "# Atenção com a sintaxe\n",
        "if 4 > 3:\n",
        "    print(\"Tudo funciona!\")"
      ]
    },
    {
      "cell_type": "markdown",
      "metadata": {
        "id": "tZyqTYjce4a_"
      },
      "source": [
        "#### --> Atenção aos espaços entre a margem e cada um dos seus comandos.\n",
        "#### --> Esses espaços são chamados de \"identação\".\n",
        "#### --> A indentação faz parte da sintaxe da linguagem Python e identifica os blocos de código"
      ]
    },
    {
      "cell_type": "markdown",
      "metadata": {
        "id": "h2JZJFnQe4a_"
      },
      "source": [
        "## Condicionais Aninhados"
      ]
    },
    {
      "cell_type": "code",
      "execution_count": null,
      "metadata": {
        "id": "bU5wdFCJe4bA",
        "outputId": "4197df16-e059-42ff-a6c6-28e15602946f"
      },
      "outputs": [
        {
          "name": "stdout",
          "output_type": "stream",
          "text": [
            "Você pode dirigir!\n"
          ]
        }
      ],
      "source": [
        "idade = 18\n",
        "if idade > 14:\n",
        "    print(\"Você pode dirigir!\")"
      ]
    },
    {
      "cell_type": "code",
      "execution_count": null,
      "metadata": {
        "id": "zbOd0v8Fe4bA",
        "outputId": "5d30afb8-bd42-4767-c7d3-5c4061993b82"
      },
      "outputs": [
        {
          "name": "stdout",
          "output_type": "stream",
          "text": [
            "Ok Bob, você está autorizado a entrar!\n"
          ]
        }
      ],
      "source": [
        "idade = 13\n",
        "Nome = \"Bob\"\n",
        "if idade >= 13 and Nome == \"Bob\":\n",
        "    print(\"Ok Bob, você está autorizado a entrar!\")"
      ]
    },
    {
      "cell_type": "code",
      "execution_count": null,
      "metadata": {
        "id": "iuhszcLwe4bB",
        "outputId": "76034441-5b90-4386-d9d8-e5129824d405"
      },
      "outputs": [
        {
          "name": "stdout",
          "output_type": "stream",
          "text": [
            "Ok Bob, você está autorizado a entrar!\n"
          ]
        }
      ],
      "source": [
        "idade = 12\n",
        "Nome = \"Bob\"\n",
        "if (idade >= 13) or (Nome == \"Bob\"):\n",
        "    print(\"Ok Bob, você está autorizado a entrar!\")"
      ]
    },
    {
      "cell_type": "code",
      "execution_count": null,
      "metadata": {
        "id": "OS6u-PbYe4bC",
        "outputId": "1c69423b-40d7-449a-9877-42789c9705d4"
      },
      "outputs": [
        {
          "name": "stdout",
          "output_type": "stream",
          "text": [
            "Ok Bob, você está autorizado a entrar!\n"
          ]
        }
      ],
      "source": [
        "Nome = \"Bob\"\n",
        "if idade > 13:\n",
        "    if Nome == \"Bob\":\n",
        "        print(\"Ok Bob, você está autorizado a entrar!\")\n",
        "    else:\n",
        "        print(\"Desculpe, mas você não pode entrar!\")"
      ]
    },
    {
      "cell_type": "markdown",
      "metadata": {
        "id": "4PLjk-48e4bC"
      },
      "source": [
        "## Operadores Lógicos"
      ]
    },
    {
      "cell_type": "code",
      "execution_count": null,
      "metadata": {
        "id": "avhlRRvFe4bD",
        "outputId": "cc7fb249-1d69-4704-fbfc-ec96ea8db658"
      },
      "outputs": [
        {
          "name": "stdout",
          "output_type": "stream",
          "text": [
            "Você pode dirigir!\n"
          ]
        }
      ],
      "source": [
        "idade = 18\n",
        "nome = \"Bob\"\n",
        "if idade > 17:\n",
        "    print(\"Você pode dirigir!\")"
      ]
    },
    {
      "cell_type": "code",
      "execution_count": null,
      "metadata": {
        "id": "rLaZkIyme4bD",
        "outputId": "e092b19b-6185-423b-fb6e-b62d57decdee"
      },
      "outputs": [
        {
          "name": "stdout",
          "output_type": "stream",
          "text": [
            "Autorizado!\n"
          ]
        }
      ],
      "source": [
        "idade = 18\n",
        "if idade > 17 and nome == \"Bob\":\n",
        "    print(\"Autorizado!\")"
      ]
    },
    {
      "cell_type": "markdown",
      "metadata": {
        "id": "6zQpjbsPe4bE"
      },
      "source": [
        "Os operadores lógicos funcionam assim:\n",
        "\n",
        "- Operador **and** - Retorna True se ambas as declarações forem verdadeiras.\n",
        "- Operador **or** - Retorna True se uma das declarações for verdadeira.\n",
        "- Operador **not** - Inverte o resultado, retorna False se o resultado for True."
      ]
    },
    {
      "cell_type": "code",
      "execution_count": null,
      "metadata": {
        "id": "XoFYDDHQe4bE",
        "outputId": "6c5ba9e8-aedd-4249-dc0e-d57e024752cf"
      },
      "outputs": [
        {
          "name": "stdout",
          "output_type": "stream",
          "text": [
            "Isso está sendo impresso porque as duas condições são verdadeiras!\n"
          ]
        }
      ],
      "source": [
        "# Operador and\n",
        "\n",
        "numero = 4\n",
        "\n",
        "if (numero > 2) and (numero % 2 == 0):\n",
        "    print(\"Isso está sendo impresso porque as duas condições são verdadeiras!\")"
      ]
    },
    {
      "cell_type": "code",
      "execution_count": null,
      "metadata": {
        "id": "PsnPY0T1e4bF",
        "outputId": "0f612bda-2d30-4c05-f48c-980a83ba9eff"
      },
      "outputs": [
        {
          "name": "stdout",
          "output_type": "stream",
          "text": [
            "Isso está sendo impresso porque uma das duas condições é falsa!\n"
          ]
        }
      ],
      "source": [
        "# Operador and\n",
        "\n",
        "numero = 4\n",
        "\n",
        "if (numero > 5) and (numero % 2 == 0):\n",
        "    print(\"Isso está sendo impresso porque as duas condições são verdadeiras!\")\n",
        "else:\n",
        "    print(\"Isso está sendo impresso porque uma das duas condições é falsa!\")"
      ]
    },
    {
      "cell_type": "code",
      "execution_count": null,
      "metadata": {
        "id": "_I28GXlSe4bG",
        "outputId": "bc281156-5c47-4db8-97f7-6d4ea1e4b7b9"
      },
      "outputs": [
        {
          "name": "stdout",
          "output_type": "stream",
          "text": [
            "Isso está sendo impresso porque uma duas condições é verdadeira!\n"
          ]
        }
      ],
      "source": [
        "# Operador or\n",
        "\n",
        "numero = 4\n",
        "\n",
        "if (numero > 5) or (numero % 2 == 0):\n",
        "    print(\"Isso está sendo impresso porque uma duas condições é verdadeira!\")"
      ]
    },
    {
      "cell_type": "code",
      "execution_count": null,
      "metadata": {
        "id": "tc4EG6Vje4bG",
        "outputId": "aaba3af8-66c4-41e5-eb36-14e97f010d74"
      },
      "outputs": [
        {
          "name": "stdout",
          "output_type": "stream",
          "text": [
            "Isso está sendo impresso porque as duas condições são verdadeiras!\n"
          ]
        }
      ],
      "source": [
        "# Operador not\n",
        "\n",
        "numero = 4\n",
        "\n",
        "if not(numero > 5) and (numero % 2 == 0):\n",
        "    print(\"Isso está sendo impresso porque as duas condições são verdadeiras!\")\n",
        "else:\n",
        "    print(\"Isso está sendo impresso porque uma das duas condições é falsa!\")"
      ]
    },
    {
      "cell_type": "code",
      "execution_count": null,
      "metadata": {
        "id": "IYtduRx9e4bH",
        "outputId": "ac6387f6-130d-4f83-a767-ef92a0badbb6"
      },
      "outputs": [
        {
          "name": "stdout",
          "output_type": "stream",
          "text": [
            "Isso está sendo impresso porque as duas primeiras condições são verdadeiras ou a terceira é verdadeira!\n"
          ]
        }
      ],
      "source": [
        "# Operador and, or e not\n",
        "\n",
        "numero = 4\n",
        "\n",
        "if (not(numero > 5) and (numero % 2 == 0)) or (numero == 4):\n",
        "    print(\"Isso está sendo impresso porque as duas primeiras condições são verdadeiras ou a terceira é verdadeira!\")"
      ]
    },
    {
      "cell_type": "code",
      "execution_count": null,
      "metadata": {
        "id": "lEGuMhcve4bI",
        "outputId": "1b89d531-4430-40b7-9565-623ee1bb3a03"
      },
      "outputs": [
        {
          "name": "stdout",
          "output_type": "stream",
          "text": [
            "Você foi aprovado!\n"
          ]
        }
      ],
      "source": [
        "# Exemplo com o uso de variáveis\n",
        "\n",
        "disciplina = 'Algoritmos'\n",
        "nota_final = 70\n",
        "\n",
        "if disciplina == 'Algoritmos' and nota_final >= 70:\n",
        "    print('Você foi aprovado!')\n",
        "else:\n",
        "    print('Lamento, acho que você precisa estudar mais!')"
      ]
    },
    {
      "cell_type": "code",
      "execution_count": null,
      "metadata": {
        "id": "yUVs8HrDe4bJ",
        "outputId": "8bbd2a31-4723-45b4-ffa7-76457c0dd7df"
      },
      "outputs": [
        {
          "name": "stdout",
          "output_type": "stream",
          "text": [
            "Lamento, acho que você precisa estudar mais!\n"
          ]
        }
      ],
      "source": [
        "# Usando mais de uma condição na cláusula if\n",
        "\n",
        "disciplina = 'Algoritmos'\n",
        "nota_final = 60\n",
        "\n",
        "if disciplina == 'Algoritmos' and nota_final >= 70:\n",
        "    print('Você foi aprovado!')\n",
        "else:\n",
        "    print('Lamento, acho que você precisa estudar mais!')"
      ]
    },
    {
      "cell_type": "code",
      "execution_count": null,
      "metadata": {
        "id": "fJXq44dde4bK",
        "outputId": "a9475101-55c1-4694-e362-62da93ebb084"
      },
      "outputs": [
        {
          "name": "stdout",
          "output_type": "stream",
          "text": [
            "Você foi aprovado em Algoritmos com média final 90!\n"
          ]
        }
      ],
      "source": [
        "# Usando mais de uma condição na cláusula if e introduzindo Placeholders\n",
        "\n",
        "disciplina = 'Algoritmos'\n",
        "nota_final = 90\n",
        "semestre = 1\n",
        "\n",
        "if disciplina == 'Algoritmos' and nota_final >= 80 and semestre != 2:\n",
        "    print(f'Você foi aprovado em {disciplina} com média final {nota_final}!')\n",
        "else:\n",
        "    print('Lamento, acho que você precisa estudar mais!')"
      ]
    },
    {
      "cell_type": "markdown",
      "metadata": {
        "id": "3cCJwS0ke4bK"
      },
      "source": [
        "----------\n",
        "## Exercícios"
      ]
    },
    {
      "cell_type": "markdown",
      "metadata": {
        "id": "vyZwzur-e4bL"
      },
      "source": [
        "1. Faça um Programa que peça dois números e imprima o maior deles."
      ]
    },
    {
      "cell_type": "code",
      "execution_count": null,
      "metadata": {
        "id": "wvDl6MHAe4bL",
        "outputId": "d825131c-0a5f-4a26-bfb7-f0362eef47c1"
      },
      "outputs": [
        {
          "name": "stdout",
          "output_type": "stream",
          "text": [
            "Digite um número3\n",
            "Digite outro número3\n",
            "O número 3.0 e 3.0 são iguais!\n"
          ]
        }
      ],
      "source": [
        "x = float(input(\"Digite um número\"))\n",
        "y = float(input(\"Digite outro número\"))\n",
        "if x > y:\n",
        "    print(f\"O número mair é {x}!\")\n",
        "elif y > x:\n",
        "    print(f\"O número maior é {y}!\")\n",
        "else:\n",
        "    print(f\"O número {x} e {y} são iguais!\")"
      ]
    },
    {
      "cell_type": "markdown",
      "metadata": {
        "id": "ITbltXK9e4bM"
      },
      "source": [
        "2. Faça um Programa que verifique se uma letra digitada é vogal ou consoante."
      ]
    },
    {
      "cell_type": "code",
      "execution_count": null,
      "metadata": {
        "id": "eIGhSKkTe4bN",
        "outputId": "199925e2-37cd-43eb-8ef8-fa1d724ed451"
      },
      "outputs": [
        {
          "name": "stdout",
          "output_type": "stream",
          "text": [
            "Digite uma letra: p\n",
            "A letra P é uma consoante\n"
          ]
        }
      ],
      "source": [
        "letra = input(\"Digite uma letra: \")\n",
        "letra = letra.upper()\n",
        "if (letra == 'A') or (letra == 'E') or (letra == 'I') or (letra == 'O') or (letra == 'U'):\n",
        "    print(f\"A letra {letra} é uma vogal!\")\n",
        "else:\n",
        "    print(f\"A letra {letra} é uma consoante\")"
      ]
    },
    {
      "cell_type": "code",
      "execution_count": null,
      "metadata": {
        "id": "T981iPJ8e4bO",
        "outputId": "3e43b580-7c14-4123-8f57-078d045f200d"
      },
      "outputs": [
        {
          "name": "stdout",
          "output_type": "stream",
          "text": [
            "Digite uma letra: i\n",
            "A letra I é uma vogal!\n"
          ]
        }
      ],
      "source": [
        "letra = input(\"Digite uma letra: \")\n",
        "letra = letra.upper()\n",
        "if letra in \"AEIOU\":\n",
        "    print(f\"A letra {letra} é uma vogal!\")\n",
        "else:\n",
        "    print(f\"A letra {letra} é uma consoante\")"
      ]
    },
    {
      "cell_type": "markdown",
      "metadata": {
        "id": "dB0fmvRpe4bO"
      },
      "source": [
        "3. Faça um programa que receba a idade de um nadador e mostre a sua categoria usando as regras a seguir:\n",
        "\n",
        "Categoria_______Idade\n",
        "\n",
        "Infantil___________5 a 7\n",
        "\n",
        "Juvenil___________8 a 10\n",
        "\n",
        "Adolescente_____11 a 15\n",
        "\n",
        "Adulto___________16 a 30\n",
        "\n",
        "Sênior____________Acima de 30\n"
      ]
    },
    {
      "cell_type": "code",
      "execution_count": null,
      "metadata": {
        "id": "HAu3yQ8Fe4bP",
        "outputId": "d83188ff-8b39-4f0d-fd84-f3c8af4e860e"
      },
      "outputs": [
        {
          "name": "stdout",
          "output_type": "stream",
          "text": [
            "Digite sua idade: 9\n",
            "Você é da categoria Juvenil\n"
          ]
        }
      ],
      "source": [
        "#Resolução 1A\n",
        "idade = int(input(\"Digite a idade do nadador: \"))\n",
        "if (idade >=5) and (idade <= 7):\n",
        "    print(\"Você é da categoria Infantil\")\n",
        "elif (idade >=8) and (idade <= 10):\n",
        "    print(\"Você é da categoria Juvenil\")\n",
        "elif (idade >=11) and (idade <= 15):\n",
        "    print(\"Você é da categoria Adolecente\")\n",
        "elif (idade >=16) and (idade <= 30):\n",
        "    print(\"Você é da categoria Adulto\")\n",
        "elif (idade > 30):\n",
        "    print(\"Você é da categoria Sênior\")\n",
        "else:\n",
        "    print(\"Idade inválida\")"
      ]
    },
    {
      "cell_type": "code",
      "execution_count": null,
      "metadata": {
        "id": "wm9py4Vqe4bQ",
        "outputId": "a876bade-29ec-4ed3-9391-6ba9c2b190e5"
      },
      "outputs": [
        {
          "name": "stdout",
          "output_type": "stream",
          "text": [
            "Digite sua idade: 90\n",
            "Você é da categoria Sênior\n"
          ]
        }
      ],
      "source": [
        "#Resolção 1B\n",
        "idade = int(input(\"Digite a idade do nadador: \"))\n",
        "if 5 <= idade <= 7:\n",
        "    print(\"Você é da categoria Infantil\")\n",
        "elif 8 <= idade <= 10:\n",
        "    print(\"Você é da categoria Juvenil\")\n",
        "elif 11 <= idade <= 15:\n",
        "    print(\"Você é da categoria Adolecente\")\n",
        "elif 16 <= idade <= 30:\n",
        "    print(\"Você é da categoria Adulto\")\n",
        "elif (idade > 30):\n",
        "    print(\"Você é da categoria Sênior\")\n",
        "else:\n",
        "    print(\"Idade inválida\")"
      ]
    },
    {
      "cell_type": "code",
      "execution_count": null,
      "metadata": {
        "id": "z8BCd8Yae4bQ",
        "outputId": "c31a2ff5-c2bf-4163-d4a7-e95e8bda76e6"
      },
      "outputs": [
        {
          "name": "stdout",
          "output_type": "stream",
          "text": [
            "Digite a idade do nadador: 8\n",
            "O nadador pertence a categoria Juvenil!\n"
          ]
        }
      ],
      "source": [
        "#Resolução 2\n",
        "categoria = \"\"\n",
        "idade = int(input(\"Digite a idade do nadador: \"))\n",
        "if idade < 5:\n",
        "    print(\"Idade Inválida!\")\n",
        "else:\n",
        "    if idade <= 7:\n",
        "        categoria = \"Infantil\"\n",
        "    else:\n",
        "            if idade <= 10:\n",
        "                categoria = \"Juvenil\"\n",
        "            else:\n",
        "                    if idade <= 15:\n",
        "                        categoria = \"Adolecente\"\n",
        "                    else:\n",
        "                            if idade <= 30:\n",
        "                                categoria = \"Adulto\"\n",
        "                            else:\n",
        "                                    categoria = \"Sênior\"\n",
        "\n",
        "    print(f\"O nadador pertence a categoria {categoria}!\")"
      ]
    },
    {
      "cell_type": "markdown",
      "metadata": {
        "id": "TNyoka1ne4bR"
      },
      "source": [
        "## 4. Faça um Programa que peça os 3 lados de um triângulo. O programa deverá informar se os valores podem ser um triângulo. Indique, caso os lados formem um triângulo, se o mesmo é: equilátero, isósceles ou escaleno.\n",
        "Dicas:\n",
        "- Três lados formam um triângulo quando a soma de quaisquer dois lados for maior que o terceiro;\n",
        "- Triângulo Equilátero: três lados iguais;\n",
        "- Triângulo Isósceles: quaisquer dois lados iguais;\n",
        "- Triângulo Escaleno: três lados diferentes;"
      ]
    },
    {
      "cell_type": "code",
      "execution_count": null,
      "metadata": {
        "id": "mg04yJRje4bS",
        "outputId": "ceba5f78-c747-4f6f-ec04-ea8f9e87d30e"
      },
      "outputs": [
        {
          "name": "stdout",
          "output_type": "stream",
          "text": [
            "Coloque uma medida para o lado 1 do triângulo: 85.8\n",
            "Coloque uma medida para o lado 2 do triângulo: 78.90\n",
            "Coloque uma medida para o lado 3 do triângulo: 126.88\n",
            "É um triângulo Escaleno!\n"
          ]
        }
      ],
      "source": [
        "#Resolução 1\n",
        "a = float(input(\"Coloque uma medida para o lado a do triângulo: \"))\n",
        "b = float(input(\"Coloque uma medida para o lado b do triângulo: \"))\n",
        "c = float(input(\"Coloque uma medida para o lado c do triângulo: \"))\n",
        "if (a + b > c) and (a + c > b) and (b + c > a):\n",
        "    if a == b == c:\n",
        "        print(\"É um triângulo Equilátero!\")\n",
        "    elif (a == b) or (a == c) or (b == c):\n",
        "        print(\"É um triângulo Isósceles!\")\n",
        "    else:\n",
        "        print(\"É um triângulo Escaleno!\")\n",
        "else:\n",
        "    print(\"Não é possível calcular com essas medidas dos lados!\")"
      ]
    },
    {
      "cell_type": "code",
      "execution_count": null,
      "metadata": {
        "id": "3w87u9Fee4bT",
        "outputId": "4fd3d77e-9a6d-4bc3-ee6c-85e7ce9962b5"
      },
      "outputs": [
        {
          "name": "stdout",
          "output_type": "stream",
          "text": [
            "Coloque uma medida para o lado a do triângulo: 4\n",
            "Coloque uma medida para o lado b do triângulo: 3\n",
            "Coloque uma medida para o lado c do triângulo: 80\n",
            "Os lados não podem formar um triângulo\n"
          ]
        }
      ],
      "source": [
        "#Resolução 2\n",
        "a = float(input(\"Coloque uma medida para o lado a do triângulo: \"))\n",
        "b = float(input(\"Coloque uma medida para o lado b do triângulo: \"))\n",
        "c = float(input(\"Coloque uma medida para o lado c do triângulo: \"))\n",
        "ehtriangulo = False\n",
        "if (a + b > c) and (a + c > b) and (b + c > a):\n",
        "    ehtriangulo = True\n",
        "if not ehtriangulo:\n",
        "    print(\"Os lados não podem formar um triângulo!\")\n",
        "if ehtriangulo:\n",
        "    if a == b == c:  # Equilátero\n",
        "        print(\"É um triângulo Equilátero!\")\n",
        "    elif (a == b) or (a == c) or (b == c):  # Isósceles\n",
        "        print(\"É um triângulo Isósceles!\")\n",
        "    else:  # Escaleno\n",
        "        print(\"É um triângulo Escaleno!\")"
      ]
    },
    {
      "cell_type": "markdown",
      "metadata": {
        "id": "swWEiauNe4bU"
      },
      "source": [
        "5. Faça um programa que calcule as raízes de uma equação do segundo grau, na forma ax2 + bx + c. O programa deverá pedir os valores de a, b e c e fazer as consistências, informando ao usuário nas seguintes situações:\n",
        "- Se o usuário informar o valor de a igual a zero, a equação não é do segundo grau e o programa não deve fazer pedir os demais valores, sendo encerrado;\n",
        "- Se o delta calculado for negativo, a equação não possui raízes reais. Informe ao usuário e encerre o programa;\n",
        "- Se o delta calculado for igual a zero a equação possui apenas uma raiz real; informe-a ao usuário;\n",
        "- Se o delta for positivo, a equação possui duas raiz reais; informe-as ao usuário;\n"
      ]
    },
    {
      "cell_type": "code",
      "execution_count": 1,
      "metadata": {
        "colab": {
          "base_uri": "https://localhost:8080/"
        },
        "id": "sJatfK6_e4bU",
        "outputId": "595d63d1-2b0e-4ab6-c365-823b6cd50fd1"
      },
      "outputs": [
        {
          "output_type": "stream",
          "name": "stdout",
          "text": [
            "Digite o valor de a: 6\n",
            "Digite o valor de b: 7\n",
            "Digite o valor de c: 9\n",
            "A equação não possui raízes reais.\n"
          ]
        }
      ],
      "source": [
        "import math\n",
        "\n",
        "# Função para calcular as raízes\n",
        "def calcular_raizes(a, b, c):\n",
        "    # Verifica se a equação é do segundo grau\n",
        "    if a == 0:\n",
        "        print(\"Esta não é uma equação do segundo grau.\")\n",
        "        return\n",
        "\n",
        "    # Calcula o delta\n",
        "    delta = b**2 - 4*a*c\n",
        "\n",
        "    # Verifica se o delta é negativo\n",
        "    if delta < 0:\n",
        "        print(\"A equação não possui raízes reais.\")\n",
        "        return\n",
        "\n",
        "    # Caso o delta seja zero, possui apenas uma raiz real\n",
        "    elif delta == 0:\n",
        "        raiz = -b / (2*a)\n",
        "        print(\"A equação possui uma raiz real:\", raiz)\n",
        "\n",
        "    # Se o delta for positivo, possui duas raízes reais\n",
        "    else:\n",
        "        raiz1 = (-b + math.sqrt(delta)) / (2*a)\n",
        "        raiz2 = (-b - math.sqrt(delta)) / (2*a)\n",
        "        print(\"A equação possui duas raízes reais:\", raiz1, \"e\", raiz2)\n",
        "\n",
        "# Obtendo os valores de a, b e c\n",
        "a = float(input(\"Digite o valor de a: \"))\n",
        "b = float(input(\"Digite o valor de b: \"))\n",
        "c = float(input(\"Digite o valor de c: \"))\n",
        "\n",
        "# Chamando a função para calcular as raízes\n",
        "calcular_raizes(a, b, c)"
      ]
    },
    {
      "cell_type": "markdown",
      "metadata": {
        "id": "uuJCtRAae4bV"
      },
      "source": [
        "# Fim"
      ]
    }
  ],
  "metadata": {
    "kernelspec": {
      "display_name": "Python 3 (ipykernel)",
      "language": "python",
      "name": "python3"
    },
    "language_info": {
      "codemirror_mode": {
        "name": "ipython",
        "version": 3
      },
      "file_extension": ".py",
      "mimetype": "text/x-python",
      "name": "python",
      "nbconvert_exporter": "python",
      "pygments_lexer": "ipython3",
      "version": "3.11.5"
    },
    "colab": {
      "provenance": []
    }
  },
  "nbformat": 4,
  "nbformat_minor": 0
}