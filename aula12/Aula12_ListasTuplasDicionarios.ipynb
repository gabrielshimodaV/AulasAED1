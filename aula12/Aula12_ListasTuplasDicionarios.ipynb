{
  "cells": [
    {
      "cell_type": "markdown",
      "metadata": {
        "id": "iUeBIot4hb6x"
      },
      "source": [
        "## <font color='blue'>Aula 12 - Algoritmos e Estrutura de Dados 1 </font>\n",
        "## <font color='blue'>Estruturas de Dados (Listas / Tuplas / Dicionários)</font>"
      ]
    },
    {
      "cell_type": "code",
      "execution_count": null,
      "metadata": {
        "id": "nJ3w_Tn8hb62",
        "outputId": "13fbca0e-b046-4d90-ef36-c1464a02208d"
      },
      "outputs": [
        {
          "name": "stdout",
          "output_type": "stream",
          "text": [
            "Versão da Linguagem Python Usada Neste Jupyter Notebook: 3.11.7\n"
          ]
        }
      ],
      "source": [
        "# Versão da Linguagem Python\n",
        "from platform import python_version\n",
        "print('Versão da Linguagem Python Usada Neste Jupyter Notebook:', python_version())"
      ]
    },
    {
      "cell_type": "markdown",
      "metadata": {
        "id": "ldIe5ymPhb67"
      },
      "source": [
        "## <font color='blue'>LISTAS...</font>\n",
        "---\n",
        "### Trabalhando com Listas"
      ]
    },
    {
      "cell_type": "code",
      "execution_count": null,
      "metadata": {
        "id": "yYJAZgJVhb68"
      },
      "outputs": [],
      "source": [
        "# Criando uma lista\n",
        "lista_1 = [\"arroz, frango, tomate, leite\"]"
      ]
    },
    {
      "cell_type": "code",
      "execution_count": null,
      "metadata": {
        "id": "3BT18t4nhb69",
        "outputId": "0ff8ce1f-15b1-4310-f04f-8ad72676090d"
      },
      "outputs": [
        {
          "data": {
            "text/plain": [
              "list"
            ]
          },
          "execution_count": 3,
          "metadata": {},
          "output_type": "execute_result"
        }
      ],
      "source": [
        "type(lista_1)"
      ]
    },
    {
      "cell_type": "code",
      "execution_count": null,
      "metadata": {
        "id": "5Oz10Qcohb6-",
        "outputId": "324fe5bf-97c4-46d4-908a-47f55b3cfed8"
      },
      "outputs": [
        {
          "name": "stdout",
          "output_type": "stream",
          "text": [
            "['arroz, frango, tomate, leite']\n"
          ]
        }
      ],
      "source": [
        "# Imprimindo a lista\n",
        "print(lista_1)"
      ]
    },
    {
      "cell_type": "code",
      "execution_count": null,
      "metadata": {
        "id": "UR82ljuNhb6_"
      },
      "outputs": [],
      "source": [
        "# Criando outra lista\n",
        "lista_2 = [\"arroz\", \"frango\", \"tomate\", \"leite\"]"
      ]
    },
    {
      "cell_type": "code",
      "execution_count": null,
      "metadata": {
        "id": "8gMKJ19Yhb6_",
        "outputId": "2d4c872f-fb55-43b4-9597-183824449d92"
      },
      "outputs": [
        {
          "data": {
            "text/plain": [
              "list"
            ]
          },
          "execution_count": 6,
          "metadata": {},
          "output_type": "execute_result"
        }
      ],
      "source": [
        "type(lista_2)"
      ]
    },
    {
      "cell_type": "code",
      "execution_count": null,
      "metadata": {
        "id": "fqYBBV7Ihb7A",
        "outputId": "83efce5e-caef-43b7-ae8b-80ab6022e653"
      },
      "outputs": [
        {
          "name": "stdout",
          "output_type": "stream",
          "text": [
            "['arroz', 'frango', 'tomate', 'leite']\n"
          ]
        }
      ],
      "source": [
        "# Imprimindo a lista\n",
        "print(lista_2)"
      ]
    },
    {
      "cell_type": "code",
      "execution_count": null,
      "metadata": {
        "id": "4zqLNgljhb7B"
      },
      "outputs": [],
      "source": [
        "# Criando lista\n",
        "lista_3 = [23, 100, \"Cientista de Dados\"]"
      ]
    },
    {
      "cell_type": "code",
      "execution_count": null,
      "metadata": {
        "id": "2EJRfG5Ehb7C",
        "outputId": "834570cf-d102-4205-ad82-2c1ffe899e20"
      },
      "outputs": [
        {
          "data": {
            "text/plain": [
              "list"
            ]
          },
          "execution_count": 9,
          "metadata": {},
          "output_type": "execute_result"
        }
      ],
      "source": [
        "type(lista_3)"
      ]
    },
    {
      "cell_type": "code",
      "execution_count": null,
      "metadata": {
        "id": "utmxcHR4hb7D",
        "outputId": "bd2c6e7c-e082-4648-b10b-6d2e9ce87176"
      },
      "outputs": [
        {
          "name": "stdout",
          "output_type": "stream",
          "text": [
            "[23, 100, 'Cientista de Dados']\n"
          ]
        }
      ],
      "source": [
        "# Imprimindo\n",
        "print(lista_3)"
      ]
    },
    {
      "cell_type": "code",
      "execution_count": null,
      "metadata": {
        "id": "XFpD1y4Phb7E"
      },
      "outputs": [],
      "source": [
        "# Atribuindo cada valor da lista a uma variável.\n",
        "item1 = lista_3[0]\n",
        "item2 = lista_3[1]\n",
        "item3 = lista_3[2]"
      ]
    },
    {
      "cell_type": "code",
      "execution_count": null,
      "metadata": {
        "id": "VG7cariOhb7F",
        "outputId": "2f988629-8601-402a-b4af-1c8990e9fb78"
      },
      "outputs": [
        {
          "name": "stdout",
          "output_type": "stream",
          "text": [
            "23 100 Cientista de Dados\n"
          ]
        }
      ],
      "source": [
        "# Imprimindo as variáveis\n",
        "print(item1, item2, item3)"
      ]
    },
    {
      "cell_type": "markdown",
      "metadata": {
        "id": "26_H-s6_hb7G"
      },
      "source": [
        "#### Atualizando Um Item da Lista"
      ]
    },
    {
      "cell_type": "code",
      "execution_count": null,
      "metadata": {
        "id": "f_V-eH65hb7H",
        "outputId": "b853737e-9f43-49fd-ef1e-80cb57894959"
      },
      "outputs": [
        {
          "data": {
            "text/plain": [
              "['arroz', 'frango', 'tomate', 'leite']"
            ]
          },
          "execution_count": 13,
          "metadata": {},
          "output_type": "execute_result"
        }
      ],
      "source": [
        "lista_2"
      ]
    },
    {
      "cell_type": "code",
      "execution_count": null,
      "metadata": {
        "id": "OaVgW730hb7H",
        "outputId": "5e944dd6-9fa0-492f-c295-a280bca2fda1"
      },
      "outputs": [
        {
          "data": {
            "text/plain": [
              "'tomate'"
            ]
          },
          "execution_count": 14,
          "metadata": {},
          "output_type": "execute_result"
        }
      ],
      "source": [
        "# Imprimindo um item da lista\n",
        "lista_2[2]"
      ]
    },
    {
      "cell_type": "code",
      "execution_count": null,
      "metadata": {
        "id": "mZJ38pZKhb7I"
      },
      "outputs": [],
      "source": [
        "# Atualizando um item da lista\n",
        "lista_2[2] = \"chocolate\""
      ]
    },
    {
      "cell_type": "code",
      "execution_count": null,
      "metadata": {
        "id": "_ipZa9GHhb7J",
        "outputId": "a090f443-d29a-45a3-a2cd-3d2b1aeda983"
      },
      "outputs": [
        {
          "data": {
            "text/plain": [
              "['arroz', 'frango', 'chocolate', 'leite']"
            ]
          },
          "execution_count": 16,
          "metadata": {},
          "output_type": "execute_result"
        }
      ],
      "source": [
        "# Imprimindo lista alterada\n",
        "lista_2"
      ]
    },
    {
      "cell_type": "markdown",
      "metadata": {
        "id": "IKElAVgLhb7J"
      },
      "source": [
        "#### Deletando Um Item da Lista"
      ]
    },
    {
      "cell_type": "code",
      "execution_count": null,
      "metadata": {
        "id": "1Ok-dwHohb7K",
        "outputId": "55fb6dee-84f4-4036-991f-c712a88e93cc"
      },
      "outputs": [
        {
          "data": {
            "text/plain": [
              "['arroz', 'frango', 'chocolate', 'leite']"
            ]
          },
          "execution_count": 17,
          "metadata": {},
          "output_type": "execute_result"
        }
      ],
      "source": [
        "lista_2"
      ]
    },
    {
      "cell_type": "code",
      "execution_count": null,
      "metadata": {
        "id": "utJwlwIYhb7K",
        "outputId": "4dd954b4-64b7-45e0-ea7f-c2511a8a604c"
      },
      "outputs": [
        {
          "ename": "IndexError",
          "evalue": "list assignment index out of range",
          "output_type": "error",
          "traceback": [
            "\u001b[1;31m---------------------------------------------------------------------------\u001b[0m",
            "\u001b[1;31mIndexError\u001b[0m                                Traceback (most recent call last)",
            "Cell \u001b[1;32mIn[18], line 2\u001b[0m\n\u001b[0;32m      1\u001b[0m \u001b[38;5;66;03m# Não é possível deletar um item que não existe na lista. Vai gerar erro index out of range\u001b[39;00m\n\u001b[1;32m----> 2\u001b[0m \u001b[38;5;28;01mdel\u001b[39;00m lista_2[\u001b[38;5;241m4\u001b[39m]\n",
            "\u001b[1;31mIndexError\u001b[0m: list assignment index out of range"
          ]
        }
      ],
      "source": [
        "# Não é possível deletar um item que não existe na lista. Vai gerar erro index out of range\n",
        "del lista_2[4]"
      ]
    },
    {
      "cell_type": "code",
      "execution_count": null,
      "metadata": {
        "id": "j8dtDwmKhb7L"
      },
      "outputs": [],
      "source": [
        "# Deletando um item específico da lista\n",
        "del lista_2[3]"
      ]
    },
    {
      "cell_type": "code",
      "execution_count": null,
      "metadata": {
        "id": "odbcZ-y6hb7M",
        "outputId": "b0e11d4b-d1a7-40c5-d21c-57271f9b7dd2"
      },
      "outputs": [
        {
          "data": {
            "text/plain": [
              "['arroz', 'frango', 'chocolate']"
            ]
          },
          "execution_count": 20,
          "metadata": {},
          "output_type": "execute_result"
        }
      ],
      "source": [
        "# Imprimindo o item com a lista alterada\n",
        "lista_2"
      ]
    },
    {
      "cell_type": "markdown",
      "metadata": {
        "id": "C4seqbfGhb7M"
      },
      "source": [
        "#### Listas de Listas (Listas Aninhadas)\n",
        "\n",
        "Listas de listas são matrizes em Python."
      ]
    },
    {
      "cell_type": "code",
      "execution_count": null,
      "metadata": {
        "id": "I74xSEFZhb7N"
      },
      "outputs": [],
      "source": [
        "# Criando uma lista de listas\n",
        "listas = [ [1,2,3], [10,15,14], [10.1,8.7,2.3] ]"
      ]
    },
    {
      "cell_type": "code",
      "execution_count": null,
      "metadata": {
        "id": "NQd85fBDhb7N",
        "outputId": "83be59eb-ed15-4ab9-adbd-32bf5cff065b"
      },
      "outputs": [
        {
          "name": "stdout",
          "output_type": "stream",
          "text": [
            "[[1, 2, 3], [10, 15, 14], [10.1, 8.7, 2.3]]\n"
          ]
        }
      ],
      "source": [
        "# Imprimindo a lista\n",
        "print(listas)"
      ]
    },
    {
      "cell_type": "code",
      "execution_count": null,
      "metadata": {
        "id": "kxkzqJ2fhb7O"
      },
      "outputs": [],
      "source": [
        "# Atribuindo um item da lista a uma variável\n",
        "a = listas[0]"
      ]
    },
    {
      "cell_type": "code",
      "execution_count": null,
      "metadata": {
        "id": "HI0ynhOIhb7O",
        "outputId": "7c6ee2ba-e957-49b9-ad2a-e292670f0cd9"
      },
      "outputs": [
        {
          "data": {
            "text/plain": [
              "[1, 2, 3]"
            ]
          },
          "execution_count": 24,
          "metadata": {},
          "output_type": "execute_result"
        }
      ],
      "source": [
        "a"
      ]
    },
    {
      "cell_type": "code",
      "execution_count": null,
      "metadata": {
        "id": "9K01y419hb7P"
      },
      "outputs": [],
      "source": [
        "b = a[0]"
      ]
    },
    {
      "cell_type": "code",
      "execution_count": null,
      "metadata": {
        "id": "U7YAefxbhb7P",
        "outputId": "dbba4279-843d-492d-9f55-0252ebfd9fb7"
      },
      "outputs": [
        {
          "data": {
            "text/plain": [
              "1"
            ]
          },
          "execution_count": 26,
          "metadata": {},
          "output_type": "execute_result"
        }
      ],
      "source": [
        "b"
      ]
    },
    {
      "cell_type": "code",
      "execution_count": null,
      "metadata": {
        "id": "nNfzfKM2hb7Q"
      },
      "outputs": [],
      "source": [
        "list1 = listas[1]"
      ]
    },
    {
      "cell_type": "code",
      "execution_count": null,
      "metadata": {
        "id": "IMf63JOuhb7R",
        "outputId": "a7c6f609-984c-4afb-c6bd-609ff517a2c5"
      },
      "outputs": [
        {
          "data": {
            "text/plain": [
              "[10, 15, 14]"
            ]
          },
          "execution_count": 28,
          "metadata": {},
          "output_type": "execute_result"
        }
      ],
      "source": [
        "list1"
      ]
    },
    {
      "cell_type": "code",
      "execution_count": null,
      "metadata": {
        "id": "Wfo0yUJqhb7S"
      },
      "outputs": [],
      "source": [
        "valor_1_0 = list1[0]"
      ]
    },
    {
      "cell_type": "code",
      "execution_count": null,
      "metadata": {
        "id": "YzNzmoQDhb7S",
        "outputId": "019334a8-3e29-4173-e6c0-2b72c702da56"
      },
      "outputs": [
        {
          "data": {
            "text/plain": [
              "10"
            ]
          },
          "execution_count": 30,
          "metadata": {},
          "output_type": "execute_result"
        }
      ],
      "source": [
        "valor_1_0"
      ]
    },
    {
      "cell_type": "code",
      "execution_count": null,
      "metadata": {
        "id": "fPVZtACDhb7T"
      },
      "outputs": [],
      "source": [
        "valor_1_2 = list1[2]"
      ]
    },
    {
      "cell_type": "code",
      "execution_count": null,
      "metadata": {
        "id": "Fb4cpJIxhb7U",
        "outputId": "83361599-5bcc-4488-d6d7-a8c1a63f8322"
      },
      "outputs": [
        {
          "data": {
            "text/plain": [
              "14"
            ]
          },
          "execution_count": 32,
          "metadata": {},
          "output_type": "execute_result"
        }
      ],
      "source": [
        "valor_1_2"
      ]
    },
    {
      "cell_type": "code",
      "execution_count": null,
      "metadata": {
        "id": "H0Lh7x5shb7U"
      },
      "outputs": [],
      "source": [
        "list2 = listas[2]"
      ]
    },
    {
      "cell_type": "code",
      "execution_count": null,
      "metadata": {
        "id": "5ilGjERGhb7V",
        "outputId": "4d4862b3-ce38-4039-d442-17740bb325ad"
      },
      "outputs": [
        {
          "data": {
            "text/plain": [
              "[10.1, 8.7, 2.3]"
            ]
          },
          "execution_count": 34,
          "metadata": {},
          "output_type": "execute_result"
        }
      ],
      "source": [
        "list2"
      ]
    },
    {
      "cell_type": "code",
      "execution_count": null,
      "metadata": {
        "id": "HsQ10me4hb7W"
      },
      "outputs": [],
      "source": [
        "valor_2_0 = list2[0]"
      ]
    },
    {
      "cell_type": "code",
      "execution_count": null,
      "metadata": {
        "id": "I7K5eOFQhb7W",
        "outputId": "4015fcdf-ca58-4aee-e0ab-02e41a16ca76"
      },
      "outputs": [
        {
          "data": {
            "text/plain": [
              "10.1"
            ]
          },
          "execution_count": 36,
          "metadata": {},
          "output_type": "execute_result"
        }
      ],
      "source": [
        "valor_2_0"
      ]
    },
    {
      "cell_type": "markdown",
      "metadata": {
        "id": "jLuvYCxIhb7X"
      },
      "source": [
        "#### Operações com Listas"
      ]
    },
    {
      "cell_type": "code",
      "execution_count": null,
      "metadata": {
        "id": "lxLcLMclhb7Y"
      },
      "outputs": [],
      "source": [
        "# Criando uma lista aninhada (lista de listas - Matrizes)\n",
        "listas = [[1,2,3], [10,15,14], [10.1,8.7,2.3]]"
      ]
    },
    {
      "cell_type": "code",
      "execution_count": null,
      "metadata": {
        "id": "MG3EvC9Hhb7Y",
        "outputId": "e7703d14-c918-4e54-b3e9-9c4b171d88f1"
      },
      "outputs": [
        {
          "data": {
            "text/plain": [
              "[[1, 2, 3], [10, 15, 14], [10.1, 8.7, 2.3]]"
            ]
          },
          "execution_count": 38,
          "metadata": {},
          "output_type": "execute_result"
        }
      ],
      "source": [
        "listas"
      ]
    },
    {
      "cell_type": "code",
      "execution_count": null,
      "metadata": {
        "id": "Vb-u_8gRhb7Z"
      },
      "outputs": [],
      "source": [
        "# Atribuindo à variável a o primeiro valor da primeira lista\n",
        "a = listas[0][0]"
      ]
    },
    {
      "cell_type": "code",
      "execution_count": null,
      "metadata": {
        "id": "7ht9fEcMhb7Z",
        "outputId": "a3cb626a-e031-4027-9ad7-44af9643d0c8"
      },
      "outputs": [
        {
          "data": {
            "text/plain": [
              "1"
            ]
          },
          "execution_count": 41,
          "metadata": {},
          "output_type": "execute_result"
        }
      ],
      "source": [
        "a"
      ]
    },
    {
      "cell_type": "code",
      "execution_count": null,
      "metadata": {
        "id": "D9wwsn-1hb7a"
      },
      "outputs": [],
      "source": [
        "b = listas[1][2]"
      ]
    },
    {
      "cell_type": "code",
      "execution_count": null,
      "metadata": {
        "id": "tiWa23Q_hb7b",
        "outputId": "f998c9b0-f642-4371-e403-b8ace07761b7"
      },
      "outputs": [
        {
          "data": {
            "text/plain": [
              "14"
            ]
          },
          "execution_count": 44,
          "metadata": {},
          "output_type": "execute_result"
        }
      ],
      "source": [
        "b"
      ]
    },
    {
      "cell_type": "code",
      "execution_count": null,
      "metadata": {
        "id": "0RoR6yDChb7b"
      },
      "outputs": [],
      "source": [
        "c = listas[0][2] + 10"
      ]
    },
    {
      "cell_type": "code",
      "execution_count": null,
      "metadata": {
        "id": "fV8j46OIhb7c",
        "outputId": "8aae02a0-c253-401d-d097-5f74c7eaa6a5"
      },
      "outputs": [
        {
          "data": {
            "text/plain": [
              "13"
            ]
          },
          "execution_count": 46,
          "metadata": {},
          "output_type": "execute_result"
        }
      ],
      "source": [
        "c"
      ]
    },
    {
      "cell_type": "code",
      "execution_count": null,
      "metadata": {
        "id": "28-Kb3YThb7c"
      },
      "outputs": [],
      "source": [
        "d = 10"
      ]
    },
    {
      "cell_type": "code",
      "execution_count": null,
      "metadata": {
        "id": "ZlgL2Kd6hb7d",
        "outputId": "750972c3-4801-4fe8-9656-9837b6eb5a5f"
      },
      "outputs": [
        {
          "data": {
            "text/plain": [
              "10"
            ]
          },
          "execution_count": 48,
          "metadata": {},
          "output_type": "execute_result"
        }
      ],
      "source": [
        "d"
      ]
    },
    {
      "cell_type": "code",
      "execution_count": null,
      "metadata": {
        "id": "PQNyTLFkhb7e"
      },
      "outputs": [],
      "source": [
        "e = d * listas[2][0]"
      ]
    },
    {
      "cell_type": "code",
      "execution_count": null,
      "metadata": {
        "id": "9W_o0cwrhb7f",
        "outputId": "7873ad1b-6821-45f3-a8f4-d0a6b7f6204c"
      },
      "outputs": [
        {
          "data": {
            "text/plain": [
              "101.0"
            ]
          },
          "execution_count": 50,
          "metadata": {},
          "output_type": "execute_result"
        }
      ],
      "source": [
        "e"
      ]
    },
    {
      "cell_type": "markdown",
      "metadata": {
        "id": "4r6yXcu4hb7g"
      },
      "source": [
        "#### Concatenando Listas"
      ]
    },
    {
      "cell_type": "code",
      "execution_count": null,
      "metadata": {
        "id": "NBF3QlVkhb7h"
      },
      "outputs": [],
      "source": [
        "lista_s1 = [34, 32, 56]"
      ]
    },
    {
      "cell_type": "code",
      "execution_count": null,
      "metadata": {
        "id": "a65LQsXVhb7h",
        "outputId": "e7040378-0f57-4d89-fb6f-fefd2980f0e1"
      },
      "outputs": [
        {
          "data": {
            "text/plain": [
              "[34, 32, 56]"
            ]
          },
          "execution_count": 52,
          "metadata": {},
          "output_type": "execute_result"
        }
      ],
      "source": [
        "lista_s1"
      ]
    },
    {
      "cell_type": "code",
      "execution_count": null,
      "metadata": {
        "id": "S6SiS0UShb7i"
      },
      "outputs": [],
      "source": [
        "lista_s2 = [21, 90, 51]"
      ]
    },
    {
      "cell_type": "code",
      "execution_count": null,
      "metadata": {
        "id": "Tx9n2z1Phb7j",
        "outputId": "5b5f294a-bce6-4040-fffb-b90aac8087d6"
      },
      "outputs": [
        {
          "data": {
            "text/plain": [
              "[21, 90, 51]"
            ]
          },
          "execution_count": 55,
          "metadata": {},
          "output_type": "execute_result"
        }
      ],
      "source": [
        "lista_s2"
      ]
    },
    {
      "cell_type": "code",
      "execution_count": null,
      "metadata": {
        "id": "1NfdGlHDhb7k"
      },
      "outputs": [],
      "source": [
        "# Concatenando listas\n",
        "lista_total = lista_s1 + lista_s2"
      ]
    },
    {
      "cell_type": "code",
      "execution_count": null,
      "metadata": {
        "id": "17ACNjPKhb7l",
        "outputId": "f7c82f1d-d6e9-41f7-c421-6ad74389ade2"
      },
      "outputs": [
        {
          "data": {
            "text/plain": [
              "[34, 32, 56, 21, 90, 51]"
            ]
          },
          "execution_count": 57,
          "metadata": {},
          "output_type": "execute_result"
        }
      ],
      "source": [
        "lista_total"
      ]
    },
    {
      "cell_type": "markdown",
      "metadata": {
        "id": "AazAIwT2hb7l"
      },
      "source": [
        "### Operador in"
      ]
    },
    {
      "cell_type": "code",
      "execution_count": null,
      "metadata": {
        "id": "DB5V2McChb7m"
      },
      "outputs": [],
      "source": [
        "# Criando uma lista\n",
        "lista_teste_op = [100, 2, -5, 3.4]"
      ]
    },
    {
      "cell_type": "code",
      "execution_count": null,
      "metadata": {
        "id": "DEB93awChb7n",
        "outputId": "3dddb525-7570-433e-80a7-43905db2f213"
      },
      "outputs": [
        {
          "name": "stdout",
          "output_type": "stream",
          "text": [
            "False\n"
          ]
        }
      ],
      "source": [
        "# Verificando se o valor 10 pertence a lista\n",
        "print(10 in lista_teste_op)"
      ]
    },
    {
      "cell_type": "code",
      "execution_count": null,
      "metadata": {
        "id": "uhc1-bYThb7n",
        "outputId": "bd3cf3f5-f388-419f-ac72-53eab31a189b"
      },
      "outputs": [
        {
          "name": "stdout",
          "output_type": "stream",
          "text": [
            "True\n"
          ]
        }
      ],
      "source": [
        "# Verificando se o valor 100 pertence a lista\n",
        "print(100 in lista_teste_op)"
      ]
    },
    {
      "cell_type": "markdown",
      "metadata": {
        "id": "GNVA_Ihvhb7o"
      },
      "source": [
        "### Funções Built-in"
      ]
    },
    {
      "cell_type": "markdown",
      "metadata": {
        "id": "JunxyzRJhb7p"
      },
      "source": [
        "![Listas](listas.jpg)"
      ]
    },
    {
      "cell_type": "code",
      "execution_count": null,
      "metadata": {
        "id": "LaERERzJhb7q"
      },
      "outputs": [],
      "source": [
        "# Criando uma lista\n",
        "lista_numeros = [10, 20, 50, -3.4]"
      ]
    },
    {
      "cell_type": "code",
      "execution_count": null,
      "metadata": {
        "id": "JBJBqL33hb7q",
        "outputId": "2ed14175-b472-4176-ff8b-c21f3262a5be"
      },
      "outputs": [
        {
          "data": {
            "text/plain": [
              "4"
            ]
          },
          "execution_count": 70,
          "metadata": {},
          "output_type": "execute_result"
        }
      ],
      "source": [
        "# Função len() retorna o comprimento da lista\n",
        "len(lista_numeros)"
      ]
    },
    {
      "cell_type": "code",
      "execution_count": null,
      "metadata": {
        "id": "Jlejk3vMhb7r",
        "outputId": "8e06433f-5acb-41ee-8c91-8e99fde42fe9"
      },
      "outputs": [
        {
          "data": {
            "text/plain": [
              "50"
            ]
          },
          "execution_count": 72,
          "metadata": {},
          "output_type": "execute_result"
        }
      ],
      "source": [
        "# Função max() retorna o valor máximo da lista\n",
        "max(lista_numeros)"
      ]
    },
    {
      "cell_type": "code",
      "execution_count": null,
      "metadata": {
        "id": "cZ2u3yJihb7s",
        "outputId": "fa1abde0-f849-4bba-ad53-6a299726bf26"
      },
      "outputs": [
        {
          "data": {
            "text/plain": [
              "-3.4"
            ]
          },
          "execution_count": 73,
          "metadata": {},
          "output_type": "execute_result"
        }
      ],
      "source": [
        "# Função min() retorna o valor mínimo da lista\n",
        "min(lista_numeros)"
      ]
    },
    {
      "cell_type": "code",
      "execution_count": null,
      "metadata": {
        "id": "YklJ5rSQhb7s"
      },
      "outputs": [],
      "source": [
        "# Criando uma lista\n",
        "lista_formacoes_dsa = [\"Analista de Dados\", \"Cientista de Dados\", \"Engenheiro de Dados\"]"
      ]
    },
    {
      "cell_type": "code",
      "execution_count": null,
      "metadata": {
        "id": "LuJhJAGihb7t",
        "outputId": "cb5e9bf7-3699-4c73-89cb-c01974795dfe"
      },
      "outputs": [
        {
          "data": {
            "text/plain": [
              "['Analista de Dados', 'Cientista de Dados', 'Engenheiro de Dados']"
            ]
          },
          "execution_count": 75,
          "metadata": {},
          "output_type": "execute_result"
        }
      ],
      "source": [
        "lista_formacoes_dsa"
      ]
    },
    {
      "cell_type": "code",
      "execution_count": null,
      "metadata": {
        "id": "AM-ONjJVhb7u"
      },
      "outputs": [],
      "source": [
        "# Adicionando um item à lista\n",
        "lista_formacoes_dsa.append(\"Engenheiro de IA\")"
      ]
    },
    {
      "cell_type": "code",
      "execution_count": null,
      "metadata": {
        "id": "3LfVDBFPhb7u",
        "outputId": "30a4fde1-c26e-43ab-cd4f-eb07436ec494"
      },
      "outputs": [
        {
          "data": {
            "text/plain": [
              "['Analista de Dados',\n",
              " 'Cientista de Dados',\n",
              " 'Engenheiro de Dados',\n",
              " 'Engenheiro de IA']"
            ]
          },
          "execution_count": 77,
          "metadata": {},
          "output_type": "execute_result"
        }
      ],
      "source": [
        "lista_formacoes_dsa"
      ]
    },
    {
      "cell_type": "code",
      "execution_count": null,
      "metadata": {
        "id": "Bg4Prt8ehb7v"
      },
      "outputs": [],
      "source": [
        "lista_formacoes_dsa.append(\"Engenheiro de IA\")"
      ]
    },
    {
      "cell_type": "code",
      "execution_count": null,
      "metadata": {
        "scrolled": true,
        "id": "vsQtj05Ahb7w",
        "outputId": "78cfbec3-1e3b-47bc-d97f-7f5d105d53eb"
      },
      "outputs": [
        {
          "data": {
            "text/plain": [
              "['Analista de Dados',\n",
              " 'Cientista de Dados',\n",
              " 'Engenheiro de Dados',\n",
              " 'Engenheiro de IA',\n",
              " 'Engenheiro de IA']"
            ]
          },
          "execution_count": 79,
          "metadata": {},
          "output_type": "execute_result"
        }
      ],
      "source": [
        "lista_formacoes_dsa"
      ]
    },
    {
      "cell_type": "code",
      "execution_count": null,
      "metadata": {
        "id": "rrJL_8AHhb7x",
        "outputId": "8fcaff55-0e74-4550-a4a7-79ee6808bc5b"
      },
      "outputs": [
        {
          "data": {
            "text/plain": [
              "2"
            ]
          },
          "execution_count": 80,
          "metadata": {},
          "output_type": "execute_result"
        }
      ],
      "source": [
        "lista_formacoes_dsa.count(\"Engenheiro de IA\")"
      ]
    },
    {
      "cell_type": "code",
      "execution_count": null,
      "metadata": {
        "id": "sS2oFhbJhb7x"
      },
      "outputs": [],
      "source": [
        "# Criando uma lista vazia\n",
        "a = []"
      ]
    },
    {
      "cell_type": "code",
      "execution_count": null,
      "metadata": {
        "id": "aKTgGFWchb7y",
        "outputId": "7af77edd-be1c-4fa2-c776-93f4b100c351"
      },
      "outputs": [
        {
          "name": "stdout",
          "output_type": "stream",
          "text": [
            "[]\n"
          ]
        }
      ],
      "source": [
        "print(a)"
      ]
    },
    {
      "cell_type": "code",
      "execution_count": null,
      "metadata": {
        "id": "xo9lVdOihb7y",
        "outputId": "49b12f41-92e0-4a3c-8606-100030cf2176"
      },
      "outputs": [
        {
          "data": {
            "text/plain": [
              "list"
            ]
          },
          "execution_count": 83,
          "metadata": {},
          "output_type": "execute_result"
        }
      ],
      "source": [
        "type(a)"
      ]
    },
    {
      "cell_type": "code",
      "execution_count": null,
      "metadata": {
        "id": "AyJjh8fghb7z"
      },
      "outputs": [],
      "source": [
        "a.append(10)"
      ]
    },
    {
      "cell_type": "code",
      "execution_count": null,
      "metadata": {
        "id": "JJ9ilgo5hb70",
        "outputId": "0f099712-21b5-4b73-a5d8-1458bee19499"
      },
      "outputs": [
        {
          "data": {
            "text/plain": [
              "[10]"
            ]
          },
          "execution_count": 85,
          "metadata": {},
          "output_type": "execute_result"
        }
      ],
      "source": [
        "a"
      ]
    },
    {
      "cell_type": "code",
      "execution_count": null,
      "metadata": {
        "id": "_dahu-U7hb70"
      },
      "outputs": [],
      "source": [
        "a.append(50)"
      ]
    },
    {
      "cell_type": "code",
      "execution_count": null,
      "metadata": {
        "id": "wYqh4w_shb71",
        "outputId": "cd21c1df-6e76-4e3f-b668-a91dcfa93752"
      },
      "outputs": [
        {
          "data": {
            "text/plain": [
              "[10, 50]"
            ]
          },
          "execution_count": 87,
          "metadata": {},
          "output_type": "execute_result"
        }
      ],
      "source": [
        "a"
      ]
    },
    {
      "cell_type": "code",
      "execution_count": null,
      "metadata": {
        "id": "mn722AZxhb72"
      },
      "outputs": [],
      "source": [
        "old_list = [1,2,5,10]"
      ]
    },
    {
      "cell_type": "code",
      "execution_count": null,
      "metadata": {
        "id": "rNS6PwoVhb72"
      },
      "outputs": [],
      "source": [
        "new_list = []"
      ]
    },
    {
      "cell_type": "code",
      "execution_count": null,
      "metadata": {
        "id": "zZqds0GVhb73"
      },
      "outputs": [],
      "source": [
        "# Copiando os itens de uma lista para outra\n",
        "for item in old_list:\n",
        "    new_list.append(item)"
      ]
    },
    {
      "cell_type": "code",
      "execution_count": null,
      "metadata": {
        "id": "t7I61PB5hb73",
        "outputId": "80b82f96-5fe7-4fd1-e350-fac8e8f8cf6b"
      },
      "outputs": [
        {
          "name": "stdin",
          "output_type": "stream",
          "text": [
            "Digite um valor (-1 para sair):  2322\n",
            "Digite um valor (-1 para sair):  4564\n",
            "Digite um valor (-1 para sair):  64\n",
            "Digite um valor (-1 para sair):  234\n",
            "Digite um valor (-1 para sair):  1\n",
            "Digite um valor (-1 para sair):  -3242\n",
            "Digite um valor (-1 para sair):  -1\n"
          ]
        },
        {
          "name": "stdout",
          "output_type": "stream",
          "text": [
            "[2322, 4564, 64, 234, 1, -3242]\n"
          ]
        }
      ],
      "source": [
        "lista = []\n",
        "while True:\n",
        "    n = int(input(\"Digite um valor (-1 para sair): \"))\n",
        "    if n == -1:\n",
        "        break\n",
        "    lista.append(n)\n",
        "\n",
        "print(lista)"
      ]
    },
    {
      "cell_type": "code",
      "execution_count": null,
      "metadata": {
        "id": "AgkPq6BAhb74",
        "outputId": "7f641a30-89e7-4ace-ce0d-2384c05182a0"
      },
      "outputs": [
        {
          "data": {
            "text/plain": [
              "[1, 2, 5, 10]"
            ]
          },
          "execution_count": 95,
          "metadata": {},
          "output_type": "execute_result"
        }
      ],
      "source": [
        "new_list"
      ]
    },
    {
      "cell_type": "code",
      "execution_count": null,
      "metadata": {
        "id": "3vPbhh6ghb75",
        "outputId": "25e3e74d-3057-4791-e995-44017ecf16fd"
      },
      "outputs": [
        {
          "name": "stdout",
          "output_type": "stream",
          "text": [
            "['Recife', 'Manaus', 'Salvador', 'Fortaleza', 'Palmas']\n"
          ]
        }
      ],
      "source": [
        "cidades = ['Recife', 'Manaus', 'Salvador']\n",
        "cidades.extend(['Fortaleza', 'Palmas'])\n",
        "print (cidades)"
      ]
    },
    {
      "cell_type": "code",
      "execution_count": null,
      "metadata": {
        "id": "Z7jcZ-MXhb75",
        "outputId": "599ef419-4d36-44f9-b016-e0b1997ad433"
      },
      "outputs": [
        {
          "data": {
            "text/plain": [
              "2"
            ]
          },
          "execution_count": 97,
          "metadata": {},
          "output_type": "execute_result"
        }
      ],
      "source": [
        "cidades.index('Salvador')"
      ]
    },
    {
      "cell_type": "markdown",
      "metadata": {
        "id": "33iAkfkbhb76"
      },
      "source": [
        "Lembre-se: em Python o índice começa por 0!"
      ]
    },
    {
      "cell_type": "code",
      "execution_count": null,
      "metadata": {
        "id": "njYHVccjhb77",
        "outputId": "0f7b6b76-c270-40b9-99f0-58bd31fe71dc"
      },
      "outputs": [
        {
          "ename": "ValueError",
          "evalue": "'Rio de Janeiro' is not in list",
          "output_type": "error",
          "traceback": [
            "\u001b[1;31m---------------------------------------------------------------------------\u001b[0m",
            "\u001b[1;31mValueError\u001b[0m                                Traceback (most recent call last)",
            "Cell \u001b[1;32mIn[98], line 1\u001b[0m\n\u001b[1;32m----> 1\u001b[0m cidades\u001b[38;5;241m.\u001b[39mindex(\u001b[38;5;124m'\u001b[39m\u001b[38;5;124mRio de Janeiro\u001b[39m\u001b[38;5;124m'\u001b[39m)\n",
            "\u001b[1;31mValueError\u001b[0m: 'Rio de Janeiro' is not in list"
          ]
        }
      ],
      "source": [
        "cidades.index('Rio de Janeiro')"
      ]
    },
    {
      "cell_type": "code",
      "execution_count": null,
      "metadata": {
        "id": "4OOxgebOhb77",
        "outputId": "9917333f-b112-4aad-fbcc-4af948a2ea25"
      },
      "outputs": [
        {
          "data": {
            "text/plain": [
              "['Recife', 'Manaus', 'Salvador', 'Fortaleza', 'Palmas']"
            ]
          },
          "execution_count": 99,
          "metadata": {},
          "output_type": "execute_result"
        }
      ],
      "source": [
        "cidades"
      ]
    },
    {
      "cell_type": "code",
      "execution_count": null,
      "metadata": {
        "id": "4uznz5ldhb78"
      },
      "outputs": [],
      "source": [
        "cidades.insert(2, 110)"
      ]
    },
    {
      "cell_type": "code",
      "execution_count": null,
      "metadata": {
        "id": "pM0Iqyynhb78",
        "outputId": "c59ff966-ea3f-4770-ca31-55cd68c6211e"
      },
      "outputs": [
        {
          "data": {
            "text/plain": [
              "['Recife', 'Manaus', 110, 'Salvador', 'Fortaleza', 'Palmas']"
            ]
          },
          "execution_count": 101,
          "metadata": {},
          "output_type": "execute_result"
        }
      ],
      "source": [
        "cidades"
      ]
    },
    {
      "cell_type": "code",
      "execution_count": null,
      "metadata": {
        "id": "YjIFbv3shb79"
      },
      "outputs": [],
      "source": [
        "# Remove um item da lista\n",
        "cidades.remove(110)"
      ]
    },
    {
      "cell_type": "code",
      "execution_count": null,
      "metadata": {
        "id": "zKoA5DtIhb7-",
        "outputId": "2a9721db-2356-4225-b78b-52801d5a2a66"
      },
      "outputs": [
        {
          "data": {
            "text/plain": [
              "['Recife', 'Manaus', 'Salvador', 'Fortaleza', 'Palmas']"
            ]
          },
          "execution_count": 103,
          "metadata": {},
          "output_type": "execute_result"
        }
      ],
      "source": [
        "cidades"
      ]
    },
    {
      "cell_type": "code",
      "execution_count": null,
      "metadata": {
        "id": "mMTXL9dRhb7-"
      },
      "outputs": [],
      "source": [
        "# Reverte a lista\n",
        "cidades.reverse()"
      ]
    },
    {
      "cell_type": "code",
      "execution_count": null,
      "metadata": {
        "id": "JA0IctZBhb7_",
        "outputId": "14894a7a-c071-405d-f20d-8e9de484d6d1"
      },
      "outputs": [
        {
          "data": {
            "text/plain": [
              "['Palmas', 'Fortaleza', 'Salvador', 'Manaus', 'Recife']"
            ]
          },
          "execution_count": 105,
          "metadata": {},
          "output_type": "execute_result"
        }
      ],
      "source": [
        "# Imprime a lista\n",
        "cidades"
      ]
    },
    {
      "cell_type": "code",
      "execution_count": null,
      "metadata": {
        "id": "-IVFuHAphb8A"
      },
      "outputs": [],
      "source": [
        "x = [3, 4, 2, 1]"
      ]
    },
    {
      "cell_type": "code",
      "execution_count": null,
      "metadata": {
        "id": "OEJ29EG6hb8A",
        "outputId": "be7696ad-b119-4632-9245-a6cdda4c88bf"
      },
      "outputs": [
        {
          "data": {
            "text/plain": [
              "[3, 4, 2, 1]"
            ]
          },
          "execution_count": 107,
          "metadata": {},
          "output_type": "execute_result"
        }
      ],
      "source": [
        "x"
      ]
    },
    {
      "cell_type": "code",
      "execution_count": null,
      "metadata": {
        "id": "Qt-a0iGEhb8B"
      },
      "outputs": [],
      "source": [
        "# Ordena a lista\n",
        "x.sort()"
      ]
    },
    {
      "cell_type": "code",
      "execution_count": null,
      "metadata": {
        "id": "G5blo1Yahb8C",
        "outputId": "2fb98384-052e-478c-f62e-b7658e18d265"
      },
      "outputs": [
        {
          "data": {
            "text/plain": [
              "[1, 2, 3, 4]"
            ]
          },
          "execution_count": 109,
          "metadata": {},
          "output_type": "execute_result"
        }
      ],
      "source": [
        "x"
      ]
    },
    {
      "cell_type": "markdown",
      "metadata": {
        "id": "heqyf4BJhb8C"
      },
      "source": [
        "## <font color='blue'>TUPLAS...</font>\n",
        "---\n",
        "### Trabalhando com Tuplas"
      ]
    },
    {
      "cell_type": "code",
      "execution_count": null,
      "metadata": {
        "id": "-Fre5g_5hb8D"
      },
      "outputs": [],
      "source": [
        "# Imprimindo a tupla\n",
        "tupla1"
      ]
    },
    {
      "cell_type": "code",
      "execution_count": null,
      "metadata": {
        "id": "lsalCMI1hb8D"
      },
      "outputs": [],
      "source": [
        "# Criando uma tupla\n",
        "tupla1 = (\"Geografia\", 23, \"Elefantes\", 9.8, 'Python')"
      ]
    },
    {
      "cell_type": "code",
      "execution_count": null,
      "metadata": {
        "id": "G2i_Vg5chb8E"
      },
      "outputs": [],
      "source": [
        "# Tuplas não suportam append()\n",
        "tupla1.append(\"Chocolate\")"
      ]
    },
    {
      "cell_type": "code",
      "execution_count": null,
      "metadata": {
        "id": "At1tzHpAhb8E"
      },
      "outputs": [],
      "source": [
        "# Tuplas não suportam delete de um item específico\n",
        "del tupla1[\"Elefantes\"]"
      ]
    },
    {
      "cell_type": "code",
      "execution_count": null,
      "metadata": {
        "id": "Ep3_XetXhb8E"
      },
      "outputs": [],
      "source": [
        "# Tuplas podem ter um único item\n",
        "tupla1 = (\"Chocolate\")"
      ]
    },
    {
      "cell_type": "code",
      "execution_count": null,
      "metadata": {
        "id": "5ygPblhQhb8F"
      },
      "outputs": [],
      "source": [
        "tupla1"
      ]
    },
    {
      "cell_type": "code",
      "execution_count": null,
      "metadata": {
        "id": "b66-kZ_Ahb8F"
      },
      "outputs": [],
      "source": [
        "tupla1 = (\"Geografia\", 23, \"Elefantes\", 9.8, 'Python')"
      ]
    },
    {
      "cell_type": "code",
      "execution_count": null,
      "metadata": {
        "id": "z76ef95uhb8F"
      },
      "outputs": [],
      "source": [
        "tupla1[0]"
      ]
    },
    {
      "cell_type": "code",
      "execution_count": null,
      "metadata": {
        "id": "mBrVpP9bhb8G"
      },
      "outputs": [],
      "source": [
        "# Verificando o comprimento da tupla\n",
        "len(tupla1)"
      ]
    },
    {
      "cell_type": "code",
      "execution_count": null,
      "metadata": {
        "id": "pVrrpnDghb8G"
      },
      "outputs": [],
      "source": [
        "# Slicing, da mesma forma que se faz com listas\n",
        "tupla1[1:]"
      ]
    },
    {
      "cell_type": "code",
      "execution_count": null,
      "metadata": {
        "id": "IonzmyQ_hb8G"
      },
      "outputs": [],
      "source": [
        "tupla1.index('Elefantes')"
      ]
    },
    {
      "cell_type": "code",
      "execution_count": null,
      "metadata": {
        "id": "G5MWftYjhb8H"
      },
      "outputs": [],
      "source": [
        "# Tuplas não suportam atribuição de item\n",
        "tupla1[1] = 21"
      ]
    },
    {
      "cell_type": "code",
      "execution_count": null,
      "metadata": {
        "id": "j7GmIh7ghb8H"
      },
      "outputs": [],
      "source": [
        "# Deletando a tupla\n",
        "del tupla1"
      ]
    },
    {
      "cell_type": "code",
      "execution_count": null,
      "metadata": {
        "id": "zE2Ddmuxhb8H"
      },
      "outputs": [],
      "source": [
        "tupla1"
      ]
    },
    {
      "cell_type": "code",
      "execution_count": null,
      "metadata": {
        "id": "Iznhjulohb8I"
      },
      "outputs": [],
      "source": [
        "# Criando uma tupla\n",
        "t2 = ('A', 'B', 'C')"
      ]
    },
    {
      "cell_type": "code",
      "execution_count": null,
      "metadata": {
        "id": "yDT0Oq0ihb8I"
      },
      "outputs": [],
      "source": [
        "t2"
      ]
    },
    {
      "cell_type": "code",
      "execution_count": null,
      "metadata": {
        "id": "i26hyymkhb8I"
      },
      "outputs": [],
      "source": [
        "# Tuplas não suportam atribuição de item\n",
        "t2[0] = 'D'"
      ]
    },
    {
      "cell_type": "code",
      "execution_count": null,
      "metadata": {
        "id": "11n24OYIhb8J"
      },
      "outputs": [],
      "source": [
        "# Usando a função list() para converter uma tupla para lista\n",
        "lista_t2 = list(t2)"
      ]
    },
    {
      "cell_type": "code",
      "execution_count": null,
      "metadata": {
        "id": "sYFShVxihb8J"
      },
      "outputs": [],
      "source": [
        "type(t2)"
      ]
    },
    {
      "cell_type": "code",
      "execution_count": null,
      "metadata": {
        "id": "SpAnzODPhb8K"
      },
      "outputs": [],
      "source": [
        "type(lista_t2)"
      ]
    },
    {
      "cell_type": "code",
      "execution_count": null,
      "metadata": {
        "id": "Tl_N6ybohb8K"
      },
      "outputs": [],
      "source": [
        "lista_t2"
      ]
    },
    {
      "cell_type": "code",
      "execution_count": null,
      "metadata": {
        "id": "FdrD9XDchb8L"
      },
      "outputs": [],
      "source": [
        "lista_t2.append('D')"
      ]
    },
    {
      "cell_type": "code",
      "execution_count": null,
      "metadata": {
        "id": "7tgD_fIVhb8L"
      },
      "outputs": [],
      "source": [
        "# Usando a função tuple() para converter uma lista para tupla\n",
        "t2 = tuple(lista_t2)"
      ]
    },
    {
      "cell_type": "code",
      "execution_count": null,
      "metadata": {
        "id": "p1bgOiQ4hb8L"
      },
      "outputs": [],
      "source": [
        "t2"
      ]
    },
    {
      "cell_type": "markdown",
      "metadata": {
        "id": "8-FBE1hghb8M"
      },
      "source": [
        "### Funções Built-in"
      ]
    },
    {
      "cell_type": "markdown",
      "metadata": {
        "id": "G6dTOwwGhb8M"
      },
      "source": [
        "![Tuplas](tuplas.jpg)"
      ]
    },
    {
      "cell_type": "markdown",
      "metadata": {
        "id": "lqAgk6Cbhb8M"
      },
      "source": [
        "## <font color='blue'>DICIONÁRIOS...</font>\n",
        "---\n",
        "### Trabalhando com Dicionários"
      ]
    },
    {
      "cell_type": "markdown",
      "metadata": {
        "id": "een7oSnyhb8N"
      },
      "source": [
        "![Dicionários](dicionarios.jpg)"
      ]
    },
    {
      "cell_type": "code",
      "execution_count": null,
      "metadata": {
        "id": "f0i6C3Ykhb8N"
      },
      "outputs": [],
      "source": [
        "# Isso é uma lista\n",
        "estudantes_lst = [\"Pedro\", 24, \"Ana\", 22, \"Ronaldo\", 26, \"Janaina\", 25]"
      ]
    },
    {
      "cell_type": "code",
      "execution_count": null,
      "metadata": {
        "id": "mSD7pXkChb8N"
      },
      "outputs": [],
      "source": [
        "estudantes_lst"
      ]
    },
    {
      "cell_type": "code",
      "execution_count": null,
      "metadata": {
        "id": "PkD8F1M0hb8O"
      },
      "outputs": [],
      "source": [
        "type(estudantes_lst)"
      ]
    },
    {
      "cell_type": "code",
      "execution_count": null,
      "metadata": {
        "id": "n5nfBEt1hb8O"
      },
      "outputs": [],
      "source": [
        "# Isso é um dicionário\n",
        "estudantes_dict = {\"Pedro\":24, \"Ana\":22, \"Ronaldo\":26, \"Janaina\":25}"
      ]
    },
    {
      "cell_type": "code",
      "execution_count": null,
      "metadata": {
        "id": "4QlyUH-mhb8O"
      },
      "outputs": [],
      "source": [
        "estudantes_dict"
      ]
    },
    {
      "cell_type": "code",
      "execution_count": null,
      "metadata": {
        "id": "I5svkhAYhb8O"
      },
      "outputs": [],
      "source": [
        "type(estudantes_dict)"
      ]
    },
    {
      "cell_type": "code",
      "execution_count": null,
      "metadata": {
        "id": "MZfYVjbThb8P"
      },
      "outputs": [],
      "source": [
        "estudantes_dict[\"Pedro\"]"
      ]
    },
    {
      "cell_type": "code",
      "execution_count": null,
      "metadata": {
        "id": "JLn8yWOnhb8P"
      },
      "outputs": [],
      "source": [
        "estudantes_dict[\"Marcelo\"] = 23"
      ]
    },
    {
      "cell_type": "code",
      "execution_count": null,
      "metadata": {
        "id": "mwTBTiTJhb8P"
      },
      "outputs": [],
      "source": [
        "estudantes_dict[\"Marcelo\"]"
      ]
    },
    {
      "cell_type": "code",
      "execution_count": null,
      "metadata": {
        "id": "zmWcP3bjhb8Q"
      },
      "outputs": [],
      "source": [
        "estudantes_dict"
      ]
    },
    {
      "cell_type": "code",
      "execution_count": null,
      "metadata": {
        "id": "8G3BlAHwhb8Q"
      },
      "outputs": [],
      "source": [
        "estudantes_dict.clear()"
      ]
    },
    {
      "cell_type": "code",
      "execution_count": null,
      "metadata": {
        "id": "B8lcNCb8hb8Q"
      },
      "outputs": [],
      "source": [
        "estudantes_dict"
      ]
    },
    {
      "cell_type": "code",
      "execution_count": null,
      "metadata": {
        "id": "LWkNZsN7hb8R"
      },
      "outputs": [],
      "source": [
        "del estudantes_dict"
      ]
    },
    {
      "cell_type": "code",
      "execution_count": null,
      "metadata": {
        "id": "xVyesfa0hb8R"
      },
      "outputs": [],
      "source": [
        "estudantes_dict"
      ]
    },
    {
      "cell_type": "code",
      "execution_count": null,
      "metadata": {
        "id": "h9UBrgKThb8R"
      },
      "outputs": [],
      "source": [
        "estudantes = {\"Pedro\":24, \"Ana\":22, \"Ronaldo\":26, \"Janaina\":25}"
      ]
    },
    {
      "cell_type": "code",
      "execution_count": null,
      "metadata": {
        "id": "rPxNDiVAhb8R"
      },
      "outputs": [],
      "source": [
        "estudantes"
      ]
    },
    {
      "cell_type": "code",
      "execution_count": null,
      "metadata": {
        "id": "tt8HtBvXhb8S"
      },
      "outputs": [],
      "source": [
        "len(estudantes)"
      ]
    },
    {
      "cell_type": "code",
      "execution_count": null,
      "metadata": {
        "id": "j2XOppLQhb8S"
      },
      "outputs": [],
      "source": [
        "estudantes.keys()"
      ]
    },
    {
      "cell_type": "code",
      "execution_count": null,
      "metadata": {
        "id": "mmro0tvXhb8S"
      },
      "outputs": [],
      "source": [
        "estudantes.values()"
      ]
    },
    {
      "cell_type": "code",
      "execution_count": null,
      "metadata": {
        "id": "d675nYJ2hb8S"
      },
      "outputs": [],
      "source": [
        "estudantes.items()"
      ]
    },
    {
      "cell_type": "code",
      "execution_count": null,
      "metadata": {
        "id": "pVebBg5dhb8T"
      },
      "outputs": [],
      "source": [
        "estudantes2 = {\"Camila\":27, \"Adriana\":28, \"Roberta\":26}"
      ]
    },
    {
      "cell_type": "code",
      "execution_count": null,
      "metadata": {
        "id": "LNSDhMPEhb8T"
      },
      "outputs": [],
      "source": [
        "estudantes2"
      ]
    },
    {
      "cell_type": "code",
      "execution_count": null,
      "metadata": {
        "id": "kNcbPpWxhb8T"
      },
      "outputs": [],
      "source": [
        "estudantes.update(estudantes2)"
      ]
    },
    {
      "cell_type": "code",
      "execution_count": null,
      "metadata": {
        "id": "IPN6-ciYhb8T"
      },
      "outputs": [],
      "source": [
        "estudantes"
      ]
    },
    {
      "cell_type": "code",
      "execution_count": null,
      "metadata": {
        "id": "SAfgpBYnhb8U"
      },
      "outputs": [],
      "source": [
        "dic1 = {}"
      ]
    },
    {
      "cell_type": "code",
      "execution_count": null,
      "metadata": {
        "id": "2XVu7qp_hb8U"
      },
      "outputs": [],
      "source": [
        "dic1"
      ]
    },
    {
      "cell_type": "code",
      "execution_count": null,
      "metadata": {
        "id": "WiGsvT3uhb8U"
      },
      "outputs": [],
      "source": [
        "dic1[\"chave_um\"] = 2"
      ]
    },
    {
      "cell_type": "code",
      "execution_count": null,
      "metadata": {
        "id": "KhMxAWs7hb8U"
      },
      "outputs": [],
      "source": [
        "print(dic1)"
      ]
    },
    {
      "cell_type": "code",
      "execution_count": null,
      "metadata": {
        "id": "LKY0ebohhb8V"
      },
      "outputs": [],
      "source": [
        "dic1[10] = 5"
      ]
    },
    {
      "cell_type": "code",
      "execution_count": null,
      "metadata": {
        "id": "Tuz3UZevhb8V"
      },
      "outputs": [],
      "source": [
        "dic1"
      ]
    },
    {
      "cell_type": "code",
      "execution_count": null,
      "metadata": {
        "id": "4-97u6Zohb8V"
      },
      "outputs": [],
      "source": [
        "dic1[9.13] = \"Python\""
      ]
    },
    {
      "cell_type": "code",
      "execution_count": null,
      "metadata": {
        "id": "-ovohWq-hb8V"
      },
      "outputs": [],
      "source": [
        "dic1"
      ]
    },
    {
      "cell_type": "code",
      "execution_count": null,
      "metadata": {
        "id": "TRBwLRQEhb8W"
      },
      "outputs": [],
      "source": [
        "dic1[\"teste\"] = 5"
      ]
    },
    {
      "cell_type": "code",
      "execution_count": null,
      "metadata": {
        "id": "zWVvj2f1hb8W"
      },
      "outputs": [],
      "source": [
        "dic1"
      ]
    },
    {
      "cell_type": "code",
      "execution_count": null,
      "metadata": {
        "id": "u5soCmx_hb8W"
      },
      "outputs": [],
      "source": [
        "dict1 = {}"
      ]
    },
    {
      "cell_type": "code",
      "execution_count": null,
      "metadata": {
        "id": "Z1TbwuFGhb8W"
      },
      "outputs": [],
      "source": [
        "dict1"
      ]
    },
    {
      "cell_type": "code",
      "execution_count": null,
      "metadata": {
        "id": "plqB2h7bhb8X"
      },
      "outputs": [],
      "source": [
        "dict1[\"teste\"] = 10"
      ]
    },
    {
      "cell_type": "code",
      "execution_count": null,
      "metadata": {
        "id": "SOQz6f4dhb8X"
      },
      "outputs": [],
      "source": [
        "dict1[\"key\"] = \"teste\""
      ]
    },
    {
      "cell_type": "code",
      "execution_count": null,
      "metadata": {
        "id": "jNFmg4ZQhb8X"
      },
      "outputs": [],
      "source": [
        "# Atenção, pois chave e valor podem ser iguais, mas representam coisas diferentes.\n",
        "dict1"
      ]
    },
    {
      "cell_type": "code",
      "execution_count": null,
      "metadata": {
        "id": "Rm8XAShBhb8X"
      },
      "outputs": [],
      "source": [
        "dict2 = {}"
      ]
    },
    {
      "cell_type": "code",
      "execution_count": null,
      "metadata": {
        "id": "OKxPEqi8hb8Y"
      },
      "outputs": [],
      "source": [
        "dict2[\"key1\"] = \"Data Science\""
      ]
    },
    {
      "cell_type": "code",
      "execution_count": null,
      "metadata": {
        "id": "GjbJoMJohb8Y"
      },
      "outputs": [],
      "source": [
        "dict2[\"key2\"] = 10"
      ]
    },
    {
      "cell_type": "code",
      "execution_count": null,
      "metadata": {
        "id": "L2neUC-_hb8Y"
      },
      "outputs": [],
      "source": [
        "dict2[\"key3\"] = 100"
      ]
    },
    {
      "cell_type": "code",
      "execution_count": null,
      "metadata": {
        "id": "DsEoJlRYhb8Y"
      },
      "outputs": [],
      "source": [
        "dict2"
      ]
    },
    {
      "cell_type": "code",
      "execution_count": null,
      "metadata": {
        "id": "okjsnPW1hb8Y"
      },
      "outputs": [],
      "source": [
        "a = dict2[\"key1\"]"
      ]
    },
    {
      "cell_type": "code",
      "execution_count": null,
      "metadata": {
        "id": "A4fz2JrThb8Z"
      },
      "outputs": [],
      "source": [
        "b = dict2[\"key2\"]"
      ]
    },
    {
      "cell_type": "code",
      "execution_count": null,
      "metadata": {
        "id": "nSsWJFa9hb8Z"
      },
      "outputs": [],
      "source": [
        "c = dict2[\"key3\"]"
      ]
    },
    {
      "cell_type": "code",
      "execution_count": null,
      "metadata": {
        "id": "wKZEkX4Ahb8Z"
      },
      "outputs": [],
      "source": [
        "a, b, c"
      ]
    },
    {
      "cell_type": "code",
      "execution_count": null,
      "metadata": {
        "id": "jKUX2Efyhb8Z"
      },
      "outputs": [],
      "source": [
        "# Dicionário de listas\n",
        "dict3 = {'chave1':1230, 'chave2':[22,453,73.4], 'chave3':['picanha', 'fraldinha', 'alcatra']}"
      ]
    },
    {
      "cell_type": "code",
      "execution_count": null,
      "metadata": {
        "id": "1xEK1z2Ohb8Z"
      },
      "outputs": [],
      "source": [
        "dict3"
      ]
    },
    {
      "cell_type": "code",
      "execution_count": null,
      "metadata": {
        "id": "CYUjLmAyhb8a"
      },
      "outputs": [],
      "source": [
        "dict3['chave2']"
      ]
    },
    {
      "cell_type": "code",
      "execution_count": null,
      "metadata": {
        "id": "aL6wLnG4hb8a"
      },
      "outputs": [],
      "source": [
        "# Acessando um item da lista, dentro do dicionário\n",
        "dict3['chave3'][0].upper()"
      ]
    },
    {
      "cell_type": "code",
      "execution_count": null,
      "metadata": {
        "id": "M7Lu-mLBhb8a"
      },
      "outputs": [],
      "source": [
        "# Operações com itens da lista, dentro do dicionário\n",
        "var1 = dict3['chave2'][0] - 2"
      ]
    },
    {
      "cell_type": "code",
      "execution_count": null,
      "metadata": {
        "id": "HkOY2Pahhb8a"
      },
      "outputs": [],
      "source": [
        "var1"
      ]
    },
    {
      "cell_type": "code",
      "execution_count": null,
      "metadata": {
        "id": "wJr8svqLhb8b"
      },
      "outputs": [],
      "source": [
        "# Duas operações no mesmo comando, para atualizar um item dentro da lista\n",
        "dict3['chave2'][0] -= 2"
      ]
    },
    {
      "cell_type": "code",
      "execution_count": null,
      "metadata": {
        "id": "GWNArW7Mhb8b"
      },
      "outputs": [],
      "source": [
        "dict3"
      ]
    },
    {
      "cell_type": "markdown",
      "metadata": {
        "id": "iCYhWCpghb8b"
      },
      "source": [
        "#### Criando Dicionários Aninhados"
      ]
    },
    {
      "cell_type": "code",
      "execution_count": null,
      "metadata": {
        "id": "zpdOZrGvhb8b"
      },
      "outputs": [],
      "source": [
        "# Criando dicionários aninhados\n",
        "dict_aninhado = {'key1':{'key2_aninhada':{'key3_aninhada':'Dict aninhado em Python'}}}"
      ]
    },
    {
      "cell_type": "code",
      "execution_count": null,
      "metadata": {
        "id": "7iiU4bgVhb8b"
      },
      "outputs": [],
      "source": [
        "dict_aninhado"
      ]
    },
    {
      "cell_type": "code",
      "execution_count": null,
      "metadata": {
        "id": "_29XmHsGhb8c"
      },
      "outputs": [],
      "source": [
        "dict_aninhado['key1']['key2_aninhada']['key3_aninhada']"
      ]
    },
    {
      "cell_type": "markdown",
      "metadata": {
        "id": "xzV1f4O0hb8c"
      },
      "source": [
        "### Funções Built-in"
      ]
    },
    {
      "cell_type": "markdown",
      "metadata": {
        "id": "NR6kCDtahb8c"
      },
      "source": [
        "![Dicionários](dict.jpg)"
      ]
    },
    {
      "cell_type": "markdown",
      "metadata": {
        "id": "IdscgARNhb8c"
      },
      "source": [
        "## <font color='blue'>EXERCÍCIOS...</font>\n",
        "---\n",
        "### Exercícios sobre Listas"
      ]
    },
    {
      "cell_type": "markdown",
      "metadata": {
        "id": "sb410NYVhb8d"
      },
      "source": [
        "# **1**. Faça um algoritmo que carregue um vetor de 10 elementos numéricos inteiros. Após a finalização da entrada, o algoritmo deve escrever o mesmo vetor, na ordem inversa de entrada."
      ]
    },
    {
      "cell_type": "code",
      "execution_count": 1,
      "metadata": {
        "colab": {
          "base_uri": "https://localhost:8080/"
        },
        "id": "963iHM2rhb8d",
        "outputId": "85289368-da59-4d32-ebbe-e938daf271ab"
      },
      "outputs": [
        {
          "output_type": "stream",
          "name": "stdout",
          "text": [
            "Digite o 1º elemento do vetor: 9\n",
            "Digite o 2º elemento do vetor: 6\n",
            "Digite o 3º elemento do vetor: 70\n",
            "Digite o 4º elemento do vetor: 34\n",
            "Digite o 5º elemento do vetor: 345\n",
            "Digite o 6º elemento do vetor: 8\n",
            "Digite o 7º elemento do vetor: 9\n",
            "Digite o 8º elemento do vetor: 68\n",
            "Digite o 9º elemento do vetor: 98\n",
            "Digite o 10º elemento do vetor: 67\n",
            "Vetor na ordem inversa:\n",
            "67\n",
            "98\n",
            "68\n",
            "9\n",
            "8\n",
            "345\n",
            "34\n",
            "70\n",
            "6\n",
            "9\n"
          ]
        }
      ],
      "source": [
        "vetor = []\n",
        "for i in range(10):\n",
        "    elemento = int(input(f\"Digite o {i+1}º elemento do vetor: \"))\n",
        "    vetor.append(elemento)\n",
        "\n",
        "# Escrevendo o vetor na ordem inversa\n",
        "print(\"Vetor na ordem inversa:\")\n",
        "for i in range(9, -1, -1):\n",
        "    print(vetor[i])"
      ]
    },
    {
      "cell_type": "markdown",
      "metadata": {
        "id": "MFzvBajFhb8e"
      },
      "source": [
        "2. Faça um algorimto que carregue um vetor de 5 elementos numéricos inteiros. Após a finalização da entrada, o algoritmo deve escrever o maior valor e sua posição.\n"
      ]
    },
    {
      "cell_type": "code",
      "execution_count": 2,
      "metadata": {
        "colab": {
          "base_uri": "https://localhost:8080/"
        },
        "id": "WvNhZ_CShb8e",
        "outputId": "5765214f-4ae3-4008-e16f-9c83aedfc04c"
      },
      "outputs": [
        {
          "output_type": "stream",
          "name": "stdout",
          "text": [
            "Digite o 1º elemento do vetor: 8\n",
            "Digite o 2º elemento do vetor: 4\n",
            "Digite o 3º elemento do vetor: 5\n",
            "Digite o 4º elemento do vetor: 6\n",
            "Digite o 5º elemento do vetor: 7\n",
            "O maior valor é 8 e está na posição 0.\n"
          ]
        }
      ],
      "source": [
        "vetor = []\n",
        "for i in range(5):\n",
        "    elemento = int(input(f\"Digite o {i+1}º elemento do vetor: \"))\n",
        "    vetor.append(elemento)\n",
        "\n",
        "# Encontrando o maior valor e sua posição\n",
        "maior_valor = vetor[0]\n",
        "posicao_maior_valor = 0\n",
        "for i in range(1, 5):\n",
        "    if vetor[i] > maior_valor:\n",
        "        maior_valor = vetor[i]\n",
        "        posicao_maior_valor = i\n",
        "\n",
        "# Escrevendo o maior valor e sua posição\n",
        "print(f\"O maior valor é {maior_valor} e está na posição {posicao_maior_valor}.\")"
      ]
    },
    {
      "cell_type": "markdown",
      "metadata": {
        "id": "NR_5J9h1hb8e"
      },
      "source": [
        "3. Faça algoritmo que carregue dois vetores (listas) de cinco elementos numéricos cada um e mostre um vetor resultante na intercalação desses dois vetores"
      ]
    },
    {
      "cell_type": "code",
      "execution_count": 4,
      "metadata": {
        "colab": {
          "base_uri": "https://localhost:8080/"
        },
        "id": "ODLk0Njjhb8e",
        "outputId": "8c3285f9-d34d-4bbc-ef87-3f3df207ad05"
      },
      "outputs": [
        {
          "output_type": "stream",
          "name": "stdout",
          "text": [
            "Digite o 1º elemento do vetor: 2\n",
            "Digite o 2º elemento do vetor: 4\n",
            "Digite o 3º elemento do vetor: 5\n",
            "Digite o 4º elemento do vetor: 6\n",
            "Digite o 5º elemento do vetor: 4\n",
            "O maior valor é 6 e está na posição 3.\n"
          ]
        }
      ],
      "source": [
        "vetor = []\n",
        "for i in range(5):\n",
        "    elemento = int(input(f\"Digite o {i+1}º elemento do vetor: \"))\n",
        "    vetor.append(elemento)\n",
        "\n",
        "# Encontrando o maior valor e sua posição\n",
        "maior_valor = vetor[0]\n",
        "posicao_maior_valor = 0\n",
        "for i in range(1, 5):\n",
        "    if vetor[i] > maior_valor:\n",
        "        maior_valor = vetor[i]\n",
        "        posicao_maior_valor = i\n",
        "\n",
        "# Escrevendo o maior valor e sua posição\n",
        "print(f\"O maior valor é {maior_valor} e está na posição {posicao_maior_valor}.\")"
      ]
    },
    {
      "cell_type": "code",
      "execution_count": null,
      "metadata": {
        "id": "YhcSIK2mhb8e",
        "outputId": "09293e77-390d-4806-d0a7-16778bca8567"
      },
      "outputs": [
        {
          "name": "stdout",
          "output_type": "stream",
          "text": [
            "44\n"
          ]
        }
      ],
      "source": [
        "3\n",
        "# Exemplo de geração de números aleatórios (randômicos) entre 1 e 60\n",
        "from random import randint\n",
        "a = randint(1, 60)\n",
        "print(a)"
      ]
    },
    {
      "cell_type": "code",
      "execution_count": null,
      "metadata": {
        "id": "-dtAv_ithb8f",
        "outputId": "7ca3cd3a-daed-427c-9fdc-bed75c7b40de"
      },
      "outputs": [
        {
          "name": "stdout",
          "output_type": "stream",
          "text": [
            "4 2 3 3 3 5 2 6 4 6 "
          ]
        }
      ],
      "source": [
        "# Exemplo de geração de 10 jogadas de dados\n",
        "from random import randint\n",
        "# Gerando 10 jogadas\n",
        "for i in range (0,10):\n",
        "    lado = randint(1, 6)\n",
        "    print(lado, end=\" \")"
      ]
    },
    {
      "cell_type": "markdown",
      "metadata": {
        "id": "ZUXWFklqhb8f"
      },
      "source": [
        "4. Faça um Algoritmo que simule 6000 jogadas de um dado de 6 faces. Para simular o resultado utilize a função randint  Ao final, mostre a frequência de sorteio de cada uma das faces  \n"
      ]
    },
    {
      "cell_type": "code",
      "execution_count": 5,
      "metadata": {
        "colab": {
          "base_uri": "https://localhost:8080/"
        },
        "id": "kZ-NFB9dhb8f",
        "outputId": "6c4a6bc8-23a2-41e3-9287-598a0b474928"
      },
      "outputs": [
        {
          "output_type": "stream",
          "name": "stdout",
          "text": [
            "A face 1 foi sorteada 970 vezes.\n",
            "A face 2 foi sorteada 996 vezes.\n",
            "A face 3 foi sorteada 966 vezes.\n",
            "A face 4 foi sorteada 993 vezes.\n",
            "A face 5 foi sorteada 1060 vezes.\n",
            "A face 6 foi sorteada 1015 vezes.\n"
          ]
        }
      ],
      "source": [
        "import random\n",
        "\n",
        "# Inicializando um dicionário para armazenar a frequência de cada face\n",
        "frequencia = {1: 0, 2: 0, 3: 0, 4: 0, 5: 0, 6: 0}\n",
        "\n",
        "# Simulando 6000 jogadas de um dado de 6 faces\n",
        "for _ in range(6000):\n",
        "    resultado = random.randint(1, 6)\n",
        "    frequencia[resultado] += 1\n",
        "\n",
        "# Mostrando a frequência de cada face\n",
        "for face, freq in frequencia.items():\n",
        "    print(f\"A face {face} foi sorteada {freq} vezes.\")"
      ]
    },
    {
      "cell_type": "markdown",
      "metadata": {
        "id": "LQZR8ywFhb8f"
      },
      "source": [
        "5. Faça um algoritmo que simule a jogada de dois dados de 6 faces. O programa deve usar randint para rolar o primeiro dado e deve usar randint novamente para rolar o segundo dado. A soma das duas faces deve ser calculada. Assim: a soma variará de 2 a 12. O programa deve rolar 30.000 vezes e mostrar a frequência com que a soma (de 2 a 12) aparecem.  Verifique se o valor 7 corresponde a 1/6 das jogadas!\n"
      ]
    },
    {
      "cell_type": "code",
      "execution_count": 6,
      "metadata": {
        "colab": {
          "base_uri": "https://localhost:8080/"
        },
        "id": "8RtB25gHhb8g",
        "outputId": "54742fb3-725b-4f63-83ad-d6d1deded8bd"
      },
      "outputs": [
        {
          "output_type": "stream",
          "name": "stdout",
          "text": [
            "A soma 2 foi obtida 819 vezes.\n",
            "A soma 3 foi obtida 1684 vezes.\n",
            "A soma 4 foi obtida 2512 vezes.\n",
            "A soma 5 foi obtida 3340 vezes.\n",
            "A soma 6 foi obtida 4102 vezes.\n",
            "A soma 7 foi obtida 5002 vezes.\n",
            "A soma 8 foi obtida 4143 vezes.\n",
            "A soma 9 foi obtida 3339 vezes.\n",
            "A soma 10 foi obtida 2583 vezes.\n",
            "A soma 11 foi obtida 1635 vezes.\n",
            "A soma 12 foi obtida 841 vezes.\n",
            "A frequência de soma igual a 7 é de 0.17, que corresponde a aproximadamente 1/6 das jogadas.\n"
          ]
        }
      ],
      "source": [
        "import random\n",
        "\n",
        "# Inicializando um dicionário para armazenar a frequência de cada soma\n",
        "frequencia_soma = {i: 0 for i in range(2, 13)}\n",
        "\n",
        "# Simulando 30.000 jogadas de dois dados de 6 faces\n",
        "for _ in range(30000):\n",
        "    dado1 = random.randint(1, 6)\n",
        "    dado2 = random.randint(1, 6)\n",
        "    soma = dado1 + dado2\n",
        "    frequencia_soma[soma] += 1\n",
        "\n",
        "# Mostrando a frequência de cada soma\n",
        "for soma, freq in frequencia_soma.items():\n",
        "    print(f\"A soma {soma} foi obtida {freq} vezes.\")\n",
        "\n",
        "# Verificando se o valor 7 corresponde a 1/6 das jogadas\n",
        "frequencia_7 = frequencia_soma[7]\n",
        "total_jogadas = 30000\n",
        "proporcao_7 = frequencia_7 / total_jogadas\n",
        "print(f\"A frequência de soma igual a 7 é de {proporcao_7:.2f}, que corresponde a aproximadamente 1/6 das jogadas.\")\n"
      ]
    },
    {
      "cell_type": "markdown",
      "metadata": {
        "id": "jBlKYmUFhb8g"
      },
      "source": [
        "6. Faça um algoritmo que leia uma matriz 2x2 e imprima os seus elementos na ordem:\n",
        "\n",
        "1,1 =\n",
        "\n",
        "1,2 =\n",
        "\n",
        "2,1 =\n",
        "\n",
        "2,2 =\n",
        "\n",
        "Obs: linha, coluna\n"
      ]
    },
    {
      "cell_type": "code",
      "execution_count": 7,
      "metadata": {
        "colab": {
          "base_uri": "https://localhost:8080/"
        },
        "id": "AHNhUI2rhb8g",
        "outputId": "13b25d67-23ac-400c-e433-ee2398cf0059"
      },
      "outputs": [
        {
          "output_type": "stream",
          "name": "stdout",
          "text": [
            "Digite os elementos da matriz 2x2:\n",
            "Digite o elemento [1,1]: 2\n",
            "Digite o elemento [1,2]: 5\n",
            "Digite o elemento [2,1]: 6\n",
            "Digite o elemento [2,2]: 2\n",
            "Os elementos da matriz na ordem correta são:\n",
            "2.0 5.0 \n",
            "6.0 2.0 \n"
          ]
        }
      ],
      "source": [
        "def ler_matriz():\n",
        "    matriz = []\n",
        "    for i in range(2):\n",
        "        linha = []\n",
        "        for j in range(2):\n",
        "            elemento = float(input(f\"Digite o elemento [{i+1},{j+1}]: \"))\n",
        "            linha.append(elemento)\n",
        "        matriz.append(linha)\n",
        "    return matriz\n",
        "\n",
        "# Função para imprimir os elementos da matriz na ordem correta\n",
        "def imprimir_matriz_na_ordem(matriz):\n",
        "    for i in range(2):\n",
        "        for j in range(2):\n",
        "            print(matriz[i][j], end=\" \")\n",
        "        print()\n",
        "\n",
        "# Lendo a matriz do usuário\n",
        "print(\"Digite os elementos da matriz 2x2:\")\n",
        "matriz = ler_matriz()\n",
        "\n",
        "# Imprimindo os elementos da matriz na ordem correta\n",
        "print(\"Os elementos da matriz na ordem correta são:\")\n",
        "imprimir_matriz_na_ordem(matriz)"
      ]
    },
    {
      "cell_type": "markdown",
      "metadata": {
        "id": "a1Inp_r3hb8g"
      },
      "source": [
        "7. Faça um algoritmo que leia os dados de uma matriz de 4 linhas e 4 colunas, composta de elementos reais, e calcule a soma dos elementos da diagonal principal da matriz."
      ]
    },
    {
      "cell_type": "code",
      "execution_count": 8,
      "metadata": {
        "colab": {
          "base_uri": "https://localhost:8080/"
        },
        "id": "lEdCbyvChb8h",
        "outputId": "486534e8-593d-436e-abed-d4a9cd78b85f"
      },
      "outputs": [
        {
          "output_type": "stream",
          "name": "stdout",
          "text": [
            "Digite os elementos da matriz 4x4:\n",
            "Digite o elemento [1,1]: 4\n",
            "Digite o elemento [1,2]: 42\n",
            "Digite o elemento [1,3]: 5\n",
            "Digite o elemento [1,4]: 63\n",
            "Digite o elemento [2,1]: 7\n",
            "Digite o elemento [2,2]: 3\n",
            "Digite o elemento [2,3]: 25\n",
            "Digite o elemento [2,4]: 7\n",
            "Digite o elemento [3,1]: 4\n",
            "Digite o elemento [3,2]: 74\n",
            "Digite o elemento [3,3]: 74\n",
            "Digite o elemento [3,4]: 8\n",
            "Digite o elemento [4,1]: 4\n",
            "Digite o elemento [4,2]: 345\n",
            "Digite o elemento [4,3]: 2\n",
            "Digite o elemento [4,4]: 25\n",
            "A soma dos elementos da diagonal principal da matriz é: 106.0\n"
          ]
        }
      ],
      "source": [
        "def ler_matriz():\n",
        "    matriz = []\n",
        "    for i in range(4):\n",
        "        linha = []\n",
        "        for j in range(4):\n",
        "            elemento = float(input(f\"Digite o elemento [{i+1},{j+1}]: \"))\n",
        "            linha.append(elemento)\n",
        "        matriz.append(linha)\n",
        "    return matriz\n",
        "\n",
        "# Função para calcular a soma dos elementos da diagonal principal\n",
        "def soma_diagonal_principal(matriz):\n",
        "    soma = 0\n",
        "    for i in range(4):\n",
        "        soma += matriz[i][i]\n",
        "    return soma\n",
        "\n",
        "# Lendo a matriz do usuário\n",
        "print(\"Digite os elementos da matriz 4x4:\")\n",
        "matriz = ler_matriz()\n",
        "\n",
        "# Calculando a soma dos elementos da diagonal principal\n",
        "soma_diagonal = soma_diagonal_principal(matriz)\n",
        "\n",
        "# Imprimindo a soma dos elementos da diagonal principal\n",
        "print(\"A soma dos elementos da diagonal principal da matriz é:\", soma_diagonal)"
      ]
    },
    {
      "cell_type": "markdown",
      "metadata": {
        "id": "W07CSBqbhb8h"
      },
      "source": [
        "8. Faça um algoritmo que receba uma matriz de 5x5 com números reais. Ao final o algoritmo deve calcular e mostrar a média dos elementos que estão nas linhas pares da matriz."
      ]
    },
    {
      "cell_type": "code",
      "execution_count": 9,
      "metadata": {
        "colab": {
          "base_uri": "https://localhost:8080/"
        },
        "id": "F3wAFjevhb8h",
        "outputId": "03908aa4-bfce-464f-c59e-7ea8b4619073"
      },
      "outputs": [
        {
          "output_type": "stream",
          "name": "stdout",
          "text": [
            "A média dos elementos nas linhas pares da matriz é: 13.00\n"
          ]
        }
      ],
      "source": [
        "def media_linhas_pares(matriz):\n",
        "    soma = 0\n",
        "    contador = 0\n",
        "    for i in range(len(matriz)):\n",
        "        if i % 2 == 0:  # Verificando se a linha é par\n",
        "            for j in range(len(matriz[i])):\n",
        "                soma += matriz[i][j]\n",
        "                contador += 1\n",
        "    media = soma / contador if contador != 0 else 0\n",
        "    return media\n",
        "\n",
        "# Definindo a matriz 5x5 com números reais (pode ser preenchida com valores de entrada do usuário ou fixos)\n",
        "matriz = [\n",
        "    [1.0, 2.0, 3.0, 4.0, 5.0],\n",
        "    [6.0, 7.0, 8.0, 9.0, 10.0],\n",
        "    [11.0, 12.0, 13.0, 14.0, 15.0],\n",
        "    [16.0, 17.0, 18.0, 19.0, 20.0],\n",
        "    [21.0, 22.0, 23.0, 24.0, 25.0]\n",
        "]\n",
        "\n",
        "# Calculando a média das linhas pares\n",
        "media = media_linhas_pares(matriz)\n",
        "\n",
        "# Exibindo o resultado\n",
        "print(f\"A média dos elementos nas linhas pares da matriz é: {media:.2f}\")"
      ]
    },
    {
      "cell_type": "markdown",
      "metadata": {
        "id": "0_TAq_uvhb8h"
      },
      "source": [
        "### Exercícios sobre Tuplas"
      ]
    },
    {
      "cell_type": "markdown",
      "metadata": {
        "id": "L0hkvDxFhb8h"
      },
      "source": [
        "9. Faça um algoritmo que armazenará os 10 primeiros números primos acima de 100 em uma trupla. Ao final, o algoritmo deve mostrar os valores dessa estrutura de dados.\n"
      ]
    },
    {
      "cell_type": "code",
      "execution_count": 10,
      "metadata": {
        "colab": {
          "base_uri": "https://localhost:8080/"
        },
        "id": "8zHHgpjShb8h",
        "outputId": "daef3033-c761-4415-94e6-1fbe85458f0a"
      },
      "outputs": [
        {
          "output_type": "stream",
          "name": "stdout",
          "text": [
            "Os 10 primeiros números primos acima de 100 são: (101, 103, 107, 109, 113, 127, 131, 137, 139, 149)\n"
          ]
        }
      ],
      "source": [
        "def eh_primo(n):\n",
        "    \"\"\"Função para verificar se um número é primo.\"\"\"\n",
        "    if n <= 1:\n",
        "        return False\n",
        "    for i in range(2, int(n**0.5) + 1):\n",
        "        if n % i == 0:\n",
        "            return False\n",
        "    return True\n",
        "\n",
        "def primeiros_primos_acima_de_100(quantidade):\n",
        "    \"\"\"Função para encontrar os primeiros 'quantidade' números primos acima de 100.\"\"\"\n",
        "    primos = []\n",
        "    numero = 101  # Começando com o primeiro número acima de 100\n",
        "    while len(primos) < quantidade:\n",
        "        if eh_primo(numero):\n",
        "            primos.append(numero)\n",
        "        numero += 1\n",
        "    return tuple(primos)\n",
        "\n",
        "# Armazenando os 10 primeiros números primos acima de 100 em uma tupla\n",
        "primos_acima_de_100 = primeiros_primos_acima_de_100(10)\n",
        "\n",
        "# Mostrando os valores da tupla\n",
        "print(\"Os 10 primeiros números primos acima de 100 são:\", primos_acima_de_100)"
      ]
    },
    {
      "cell_type": "code",
      "execution_count": null,
      "metadata": {
        "id": "liUUAQREhb8h"
      },
      "outputs": [],
      "source": []
    },
    {
      "cell_type": "markdown",
      "metadata": {
        "id": "zNpD7aqIhb8i"
      },
      "source": [
        "### Exercícios sobre Dicionários"
      ]
    },
    {
      "cell_type": "markdown",
      "metadata": {
        "id": "GtrtzgqChb8i"
      },
      "source": [
        "10. Faça um algoritmo que carregue um dicionário de 10 elementos onde a chave é o sobrenome da pessoa e o valor a sua idade.\n",
        "Após a finalização da entrada, o algoritmo deve escrever o sobrenome da pessoa com maior idade."
      ]
    },
    {
      "cell_type": "code",
      "execution_count": 11,
      "metadata": {
        "colab": {
          "base_uri": "https://localhost:8080/"
        },
        "id": "esnF3gvihb8i",
        "outputId": "1ebadb39-9818-42c9-b1dc-0e97f1f724f4"
      },
      "outputs": [
        {
          "output_type": "stream",
          "name": "stdout",
          "text": [
            "Dicionário de sobrenomes e idades:\n",
            "Silva: 30 anos\n",
            "Santos: 25 anos\n",
            "Oliveira: 45 anos\n",
            "Souza: 50 anos\n",
            "Pereira: 35 anos\n",
            "Almeida: 40 anos\n",
            "Costa: 28 anos\n",
            "Rodrigues: 33 anos\n",
            "Martins: 27 anos\n",
            "Gomes: 29 anos\n"
          ]
        }
      ],
      "source": [
        "def criar_dicionario():\n",
        "    dicionario = {\n",
        "        \"Silva\": 30,\n",
        "        \"Santos\": 25,\n",
        "        \"Oliveira\": 45,\n",
        "        \"Souza\": 50,\n",
        "        \"Pereira\": 35,\n",
        "        \"Almeida\": 40,\n",
        "        \"Costa\": 28,\n",
        "        \"Rodrigues\": 33,\n",
        "        \"Martins\": 27,\n",
        "        \"Gomes\": 29\n",
        "    }\n",
        "    return dicionario\n",
        "\n",
        "# Criando o dicionário\n",
        "dicionario_pessoas = criar_dicionario()\n",
        "\n",
        "# Mostrando o dicionário\n",
        "print(\"Dicionário de sobrenomes e idades:\")\n",
        "for sobrenome, idade in dicionario_pessoas.items():\n",
        "    print(f\"{sobrenome}: {idade} anos\")"
      ]
    },
    {
      "cell_type": "markdown",
      "metadata": {
        "id": "h91wWvfphb8i"
      },
      "source": [
        "11. Faça um algoritmo que carregue um dicionário contendo nome e idade (pelo menos 5 pares). Depois de carregar, mostre todos os nomes que tenham idade maior que a média das idades."
      ]
    },
    {
      "cell_type": "code",
      "execution_count": 12,
      "metadata": {
        "colab": {
          "base_uri": "https://localhost:8080/"
        },
        "id": "SUkxR9k4hb8j",
        "outputId": "afbc613e-c8f9-45b2-ffaa-e6c7e6781e53"
      },
      "outputs": [
        {
          "output_type": "stream",
          "name": "stdout",
          "text": [
            "Média das idades: 30.00\n",
            "Nomes com idades maiores que a média:\n",
            "Diana\n",
            "Eva\n"
          ]
        }
      ],
      "source": [
        "def criar_dicionario():\n",
        "    dicionario = {\n",
        "        \"Alice\": 25,\n",
        "        \"Bruno\": 30,\n",
        "        \"Carlos\": 20,\n",
        "        \"Diana\": 35,\n",
        "        \"Eva\": 40\n",
        "    }\n",
        "    return dicionario\n",
        "\n",
        "# Função para calcular a média das idades\n",
        "def calcular_media_idades(dicionario):\n",
        "    total_idades = sum(dicionario.values())\n",
        "    numero_pessoas = len(dicionario)\n",
        "    media = total_idades / numero_pessoas\n",
        "    return media\n",
        "\n",
        "# Função para encontrar nomes com idades maiores que a média\n",
        "def nomes_acima_da_media(dicionario, media):\n",
        "    nomes = [nome for nome, idade in dicionario.items() if idade > media]\n",
        "    return nomes\n",
        "\n",
        "# Criando o dicionário\n",
        "dicionario_pessoas = criar_dicionario()\n",
        "\n",
        "# Calculando a média das idades\n",
        "media_idades = calcular_media_idades(dicionario_pessoas)\n",
        "\n",
        "# Encontrando os nomes com idades maiores que a média\n",
        "nomes_acima_media = nomes_acima_da_media(dicionario_pessoas, media_idades)\n",
        "\n",
        "# Mostrando os resultados\n",
        "print(f\"Média das idades: {media_idades:.2f}\")\n",
        "print(\"Nomes com idades maiores que a média:\")\n",
        "for nome in nomes_acima_media:\n",
        "    print(nome)"
      ]
    },
    {
      "cell_type": "markdown",
      "metadata": {
        "id": "Grj-cz8Nhb8j"
      },
      "source": [
        "12. Faça algoritmo que carregue duas listas de cinco elementos numéricos inteiros cada um. A partir dessas duas listas, crie um conjunto da união entre essas duas listas."
      ]
    },
    {
      "cell_type": "code",
      "execution_count": 13,
      "metadata": {
        "colab": {
          "base_uri": "https://localhost:8080/"
        },
        "id": "oKP5nNd4hb8j",
        "outputId": "4f47e519-560e-4ce0-ed9f-2c22961b0638"
      },
      "outputs": [
        {
          "output_type": "stream",
          "name": "stdout",
          "text": [
            "Lista 1: [1, 2, 3, 4, 5]\n",
            "Lista 2: [4, 5, 6, 7, 8]\n",
            "Conjunto da união entre as duas listas: {1, 2, 3, 4, 5, 6, 7, 8}\n"
          ]
        }
      ],
      "source": [
        "def carregar_listas():\n",
        "    lista1 = [1, 2, 3, 4, 5]\n",
        "    lista2 = [4, 5, 6, 7, 8]\n",
        "    return lista1, lista2\n",
        "\n",
        "# Função para criar um conjunto da união entre duas listas\n",
        "def unir_listas(lista1, lista2):\n",
        "    conjunto_uniao = set(lista1) | set(lista2)  # Utiliza o operador de união de conjuntos\n",
        "    return conjunto_uniao\n",
        "\n",
        "# Carregando as listas\n",
        "lista1, lista2 = carregar_listas()\n",
        "\n",
        "# Criando o conjunto da união entre as duas listas\n",
        "conjunto_uniao = unir_listas(lista1, lista2)\n",
        "\n",
        "# Mostrando os resultados\n",
        "print(\"Lista 1:\", lista1)\n",
        "print(\"Lista 2:\", lista2)\n",
        "print(\"Conjunto da união entre as duas listas:\", conjunto_uniao)\n"
      ]
    },
    {
      "cell_type": "markdown",
      "metadata": {
        "id": "fFcl6zdvhb8j"
      },
      "source": [
        "## FIM"
      ]
    }
  ],
  "metadata": {
    "anaconda-cloud": {},
    "kernelspec": {
      "display_name": "Python 3 (ipykernel)",
      "language": "python",
      "name": "python3"
    },
    "language_info": {
      "codemirror_mode": {
        "name": "ipython",
        "version": 3
      },
      "file_extension": ".py",
      "mimetype": "text/x-python",
      "name": "python",
      "nbconvert_exporter": "python",
      "pygments_lexer": "ipython3",
      "version": "3.11.7"
    },
    "colab": {
      "provenance": []
    }
  },
  "nbformat": 4,
  "nbformat_minor": 0
}