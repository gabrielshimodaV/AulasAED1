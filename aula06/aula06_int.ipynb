{
 "cells": [
  {
   "cell_type": "code",
   "execution_count": 1,
   "id": "88403eec",
   "metadata": {},
   "outputs": [
    {
     "name": "stdout",
     "output_type": "stream",
     "text": [
      "5\n"
     ]
    }
   ],
   "source": [
    "# Inicializando uma variável do tipo inteiro\n",
    "x = 5\n",
    "print (x)"
   ]
  },
  {
   "cell_type": "code",
   "execution_count": 2,
   "id": "40117020",
   "metadata": {},
   "outputs": [],
   "source": [
    "y = 23\n",
    "soma = x + y"
   ]
  },
  {
   "cell_type": "code",
   "execution_count": 3,
   "id": "b1a4f51b",
   "metadata": {},
   "outputs": [
    {
     "name": "stdout",
     "output_type": "stream",
     "text": [
      "28\n"
     ]
    }
   ],
   "source": [
    "print (soma)"
   ]
  },
  {
   "cell_type": "code",
   "execution_count": 4,
   "id": "67088d9f",
   "metadata": {},
   "outputs": [
    {
     "data": {
      "text/plain": [
       "int"
      ]
     },
     "execution_count": 4,
     "metadata": {},
     "output_type": "execute_result"
    }
   ],
   "source": [
    "type(x)"
   ]
  },
  {
   "cell_type": "code",
   "execution_count": 5,
   "id": "9a2b6911",
   "metadata": {},
   "outputs": [],
   "source": [
    "resultado = y / x\n"
   ]
  },
  {
   "cell_type": "code",
   "execution_count": 6,
   "id": "543944e6",
   "metadata": {},
   "outputs": [
    {
     "data": {
      "text/plain": [
       "4.6"
      ]
     },
     "execution_count": 6,
     "metadata": {},
     "output_type": "execute_result"
    }
   ],
   "source": [
    "resultado"
   ]
  },
  {
   "cell_type": "code",
   "execution_count": 7,
   "id": "0301d388",
   "metadata": {},
   "outputs": [
    {
     "data": {
      "text/plain": [
       "float"
      ]
     },
     "execution_count": 7,
     "metadata": {},
     "output_type": "execute_result"
    }
   ],
   "source": [
    "type(resultado)"
   ]
  },
  {
   "cell_type": "code",
   "execution_count": 8,
   "id": "1406c238",
   "metadata": {},
   "outputs": [],
   "source": [
    "z = y ** x\n"
   ]
  },
  {
   "cell_type": "code",
   "execution_count": 9,
   "id": "1a17d6a1",
   "metadata": {},
   "outputs": [
    {
     "data": {
      "text/plain": [
       "6436343"
      ]
     },
     "execution_count": 9,
     "metadata": {},
     "output_type": "execute_result"
    }
   ],
   "source": [
    "z"
   ]
  },
  {
   "cell_type": "code",
   "execution_count": 10,
   "id": "81505a2e",
   "metadata": {},
   "outputs": [
    {
     "name": "stdout",
     "output_type": "stream",
     "text": [
      "6436343\n"
     ]
    }
   ],
   "source": [
    "print (z)"
   ]
  },
  {
   "cell_type": "code",
   "execution_count": 11,
   "id": "9645a5c5",
   "metadata": {},
   "outputs": [
    {
     "name": "stdout",
     "output_type": "stream",
     "text": [
      "25\n"
     ]
    }
   ],
   "source": [
    "w = x * x\n",
    "print (w)"
   ]
  },
  {
   "cell_type": "code",
   "execution_count": 12,
   "id": "46fafb31",
   "metadata": {},
   "outputs": [
    {
     "data": {
      "text/plain": [
       "115"
      ]
     },
     "execution_count": 12,
     "metadata": {},
     "output_type": "execute_result"
    }
   ],
   "source": [
    "w = y * x\n",
    "w"
   ]
  },
  {
   "cell_type": "code",
   "execution_count": 13,
   "id": "53051445",
   "metadata": {},
   "outputs": [],
   "source": [
    "z = 6_436_343"
   ]
  },
  {
   "cell_type": "code",
   "execution_count": 14,
   "id": "f846d858",
   "metadata": {},
   "outputs": [
    {
     "data": {
      "text/plain": [
       "6436343"
      ]
     },
     "execution_count": 14,
     "metadata": {},
     "output_type": "execute_result"
    }
   ],
   "source": [
    "z"
   ]
  },
  {
   "cell_type": "code",
   "execution_count": 15,
   "id": "f80522c1",
   "metadata": {},
   "outputs": [
    {
     "data": {
      "text/plain": [
       "-773"
      ]
     },
     "execution_count": 15,
     "metadata": {},
     "output_type": "execute_result"
    }
   ],
   "source": [
    "z = 6-436-343\n",
    "z"
   ]
  },
  {
   "cell_type": "code",
   "execution_count": 16,
   "id": "5f648a78",
   "metadata": {},
   "outputs": [
    {
     "data": {
      "text/plain": [
       "6436343"
      ]
     },
     "execution_count": 16,
     "metadata": {},
     "output_type": "execute_result"
    }
   ],
   "source": [
    "z = 6_436_343\n",
    "z"
   ]
  },
  {
   "cell_type": "code",
   "execution_count": 17,
   "id": "880ab066",
   "metadata": {},
   "outputs": [],
   "source": [
    "w = w + 10"
   ]
  },
  {
   "cell_type": "code",
   "execution_count": 18,
   "id": "92a58560",
   "metadata": {},
   "outputs": [
    {
     "data": {
      "text/plain": [
       "125"
      ]
     },
     "execution_count": 18,
     "metadata": {},
     "output_type": "execute_result"
    }
   ],
   "source": [
    "w"
   ]
  },
  {
   "cell_type": "code",
   "execution_count": 30,
   "id": "81cac38c",
   "metadata": {},
   "outputs": [
    {
     "name": "stdout",
     "output_type": "stream",
     "text": [
      "145.0\n",
      "1450.0\n",
      "145.0\n",
      "135.0\n"
     ]
    }
   ],
   "source": [
    "w += 10 # w = w + 10\n",
    "print (w)\n",
    "w *= 10 # w = w * 10 \n",
    "print (w)\n",
    "w /= 10 # w = w / 10\n",
    "print (w)\n",
    "w -= 10 # w = w - 10\n",
    "print (w)"
   ]
  },
  {
   "cell_type": "code",
   "execution_count": 21,
   "id": "e85c71f9",
   "metadata": {},
   "outputs": [],
   "source": []
  },
  {
   "cell_type": "code",
   "execution_count": 23,
   "id": "51b5542d",
   "metadata": {},
   "outputs": [],
   "source": []
  },
  {
   "cell_type": "code",
   "execution_count": 24,
   "id": "00abf6ef",
   "metadata": {},
   "outputs": [],
   "source": []
  },
  {
   "cell_type": "code",
   "execution_count": null,
   "id": "b33d4b54",
   "metadata": {},
   "outputs": [],
   "source": [
    "\n"
   ]
  },
  {
   "cell_type": "code",
   "execution_count": 26,
   "id": "0c81ff07",
   "metadata": {},
   "outputs": [
    {
     "name": "stdout",
     "output_type": "stream",
     "text": [
      "135.0\n"
     ]
    }
   ],
   "source": []
  },
  {
   "cell_type": "code",
   "execution_count": null,
   "id": "5e2755b0",
   "metadata": {},
   "outputs": [],
   "source": []
  }
 ],
 "metadata": {
  "kernelspec": {
   "display_name": "Python 3 (ipykernel)",
   "language": "python",
   "name": "python3"
  },
  "language_info": {
   "codemirror_mode": {
    "name": "ipython",
    "version": 3
   },
   "file_extension": ".py",
   "mimetype": "text/x-python",
   "name": "python",
   "nbconvert_exporter": "python",
   "pygments_lexer": "ipython3",
   "version": "3.11.5"
  }
 },
 "nbformat": 4,
 "nbformat_minor": 5
}
